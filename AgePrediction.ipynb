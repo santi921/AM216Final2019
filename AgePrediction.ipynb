{
 "cells": [
  {
   "cell_type": "markdown",
   "metadata": {},
   "source": [
    "# Aging Contact Surface\n",
    "\n",
    "Predicting age of contact from contact interface gray-scale images."
   ]
  },
  {
   "cell_type": "code",
   "execution_count": 7,
   "metadata": {
    "collapsed": false
   },
   "outputs": [],
   "source": [
    "import matplotlib.pyplot as plt\n",
    "import numpy as np\n",
    "from __future__ import absolute_import, division, print_function\n",
    "# TensorFlow and tf.keras\n",
    "import tensorflow as tf\n",
    "from tensorflow import keras\n",
    "import os\n",
    "import re"
   ]
  },
  {
   "cell_type": "code",
   "execution_count": 8,
   "metadata": {
    "collapsed": false
   },
   "outputs": [],
   "source": [
    "image_folders = [filename for filename in os.listdir('./sub_images/')]\n",
    "\n",
    "all_data = []\n",
    "times = []\n",
    "normals = []\n",
    "shears = []\n",
    "\n",
    "for folder in image_folders:\n",
    "    # Get 3D matrix of data\n",
    "    data = []\n",
    "    label = []\n",
    "    for filename in os.listdir('./sub_images/'+folder+'/'):\n",
    "        if 'image' in filename:\n",
    "            data.append(np.loadtxt('./sub_images/'+folder+'/'+filename, delimiter=',')) # read in img\n",
    "            result = re.search('image(.*)x', filename) # get label from img filename\n",
    "            label.append(result.group(1)) \n",
    "    all_data.append(data) # collect datas\n",
    "    stats = np.loadtxt('./sub_images/'+folder+'/folder_stats.csv', delimiter=',')\n",
    "    # Append stats\n",
    "    times.append(stats[:,1])\n",
    "    shears.append(stats[:,2])\n",
    "    normals.append(stats[:,3])"
   ]
  },
  {
   "cell_type": "code",
   "execution_count": null,
   "metadata": {
    "collapsed": true
   },
   "outputs": [],
   "source": [
    "# Get data in right shape\n",
    "labels = np.array(labels)\n",
    "data = np.dstack(data).T\n",
    "\n",
    "# Shuffle data and labels\n",
    "s = np.arange(data.shape[0])\n",
    "np.random.shuffle(s)\n",
    "threeD_data = data[s,:,:]\n",
    "labels = labels[s]\n",
    "\n",
    "# Split train and test\n",
    "train_data = data[:800,:,:]\n",
    "test_data = data[800:,:,:]\n",
    "train_labels = labels[:800]\n",
    "test_labels = labels[800:]"
   ]
  },
  {
   "cell_type": "code",
   "execution_count": null,
   "metadata": {
    "collapsed": true
   },
   "outputs": [],
   "source": [
    "# Build model\n",
    "model = keras.Sequential([\n",
    "    keras.layers.Flatten(input_shape=(64,64)),\n",
    "    keras.layers.Dense(128, activation=tf.nn.relu),\n",
    "    keras.layers.Dense(10, activation=tf.nn.softmax)\n",
    "])\n",
    "\n",
    "# Compile model\n",
    "model.compile(optimizer='sgd', \n",
    "              loss='sparse_categorical_crossentropy',\n",
    "              metrics=['accuracy'])"
   ]
  },
  {
   "cell_type": "code",
   "execution_count": null,
   "metadata": {
    "collapsed": true
   },
   "outputs": [],
   "source": [
    "model.fit(train_data, train_labels, epochs=5)\n",
    "predictions=model.predict_proba(test_data)\n",
    "\n",
    "# Make predictions\n",
    "sq_pred_temps = []\n",
    "for test_img in predictions:\n",
    "    weighted_pred = np.dot(Class_Times, test_img)\n",
    "    sq_pred_temps.append(weighted_pred)"
   ]
  }
 ],
 "metadata": {
  "anaconda-cloud": {},
  "kernelspec": {
   "display_name": "Python [default]",
   "language": "python",
   "name": "python3"
  },
  "language_info": {
   "codemirror_mode": {
    "name": "ipython",
    "version": 3
   },
   "file_extension": ".py",
   "mimetype": "text/x-python",
   "name": "python",
   "nbconvert_exporter": "python",
   "pygments_lexer": "ipython3",
   "version": "3.5.2"
  }
 },
 "nbformat": 4,
 "nbformat_minor": 1
}
