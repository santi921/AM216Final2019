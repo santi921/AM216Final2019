{
 "cells": [
  {
   "cell_type": "code",
   "execution_count": 5,
   "metadata": {},
   "outputs": [],
   "source": [
    "import csv\n",
    "import pandas as pd\n",
    "import numpy as np \n",
    "#import cv2\n",
    "import fnmatch\n",
    "import os, os.path\n",
    "import re"
   ]
  },
  {
   "cell_type": "code",
   "execution_count": 10,
   "metadata": {},
   "outputs": [],
   "source": [
    "test = pd.read_csv('ML_block1_Exp201/Contact/image_1_ML_block1_Exp201.csv', header = None)\n"
   ]
  },
  {
   "cell_type": "code",
   "execution_count": 15,
   "metadata": {},
   "outputs": [
    {
     "data": {
      "text/plain": [
       "array([[6, 6, 7, 6, 6, 5, 6, 5, 7, 6],\n",
       "       [5, 6, 6, 7, 6, 6, 7, 7, 6, 7],\n",
       "       [6, 5, 7, 6, 7, 6, 8, 7, 6, 7],\n",
       "       [6, 6, 7, 6, 6, 7, 5, 7, 8, 7],\n",
       "       [6, 6, 6, 7, 6, 7, 8, 8, 7, 8],\n",
       "       [7, 7, 6, 6, 7, 7, 7, 7, 8, 8],\n",
       "       [7, 6, 6, 5, 6, 7, 6, 8, 9, 8],\n",
       "       [7, 5, 6, 7, 6, 7, 7, 7, 8, 6],\n",
       "       [7, 7, 6, 7, 7, 6, 8, 7, 7, 8],\n",
       "       [6, 6, 7, 8, 6, 7, 6, 7, 8, 7]])"
      ]
     },
     "execution_count": 15,
     "metadata": {},
     "output_type": "execute_result"
    }
   ],
   "source": [
    "test.values[0:10,0:10]"
   ]
  },
  {
   "cell_type": "code",
   "execution_count": 16,
   "metadata": {},
   "outputs": [],
   "source": [
    "\n",
    "def single_folder(block_num, exp_num):\n",
    "    #extract vector info\n",
    "\n",
    "    time_vector  =  np.genfromtxt('ML_block'+str(block_num)+'_Exp'+str(exp_num)+'/Time/T_ML_block'+str(block_num)+'_Exp'+ str(exp_num) + '.csv', delimiter=',')\n",
    "    shear_vector =  np.genfromtxt('ML_block'+str(block_num)+'_Exp'+str(exp_num)+'/Shear/Fs_ML_block'+str(block_num)+'_Exp'+ str(exp_num) + '.csv', delimiter=',')\n",
    "    normal_vector=  np.genfromtxt('ML_block'+str(block_num)+'_Exp'+str(exp_num)+'/Normal/Fn_ML_block'+str(block_num)+'_Exp'+ str(exp_num) + '.csv', delimiter=',')\n",
    "    \n",
    "    os.mkdir(\"./sub_images\"+ \"/exp\" + str(exp_num) + \"_block\"+ str(block_num))\n",
    "    \n",
    "    stats = []\n",
    "    \n",
    "    for ind, file in enumerate(os.listdir('ML_block'+ str(block_num)+'_Exp'+ str(exp_num) +'/Contact')):\n",
    "                \n",
    "        ind = int(re.findall(r'\\d+', file)[0])-1\n",
    "        temp_time   = time_vector[ind]\n",
    "        temp_shear  = shear_vector[ind]\n",
    "        temp_normal = normal_vector[ind]\n",
    "        stats.append([ind,temp_time, temp_shear, temp_normal])\n",
    "        \n",
    "        \n",
    "        #reader = csv.reader(raw_data, delimiter=',', quoting=csv.QUOTE_NONE)\n",
    "        #x = list(reader)\n",
    "        #data = np.array(x).astype('int')\n",
    "        data = pd.read_csv('ML_block1_Exp201/Contact/image_1_ML_block1_Exp201.csv', header = None).values\n",
    "\n",
    "        #pd.read_csv('ML_block'+ str(block_num) +'_Exp'+ str(exp_num) +'/Contact/' + file, header = None)\n",
    "\n",
    "        dim = ((np.asarray(data.shape)+1)/2).astype('int')\n",
    "        data = data[dim[0]-750:dim[0]+750, dim[1]-750:dim[1]+750]\n",
    "\n",
    "        for i in range(15):\n",
    "            for j in range(15):\n",
    "                temp = data[(i)*100:(i+1)*100, j*100:(j+1)*100]\n",
    "                fname = \"./sub_images\"+ \"/exp\" + str(exp_num) + \"_block\" + str(block_num) + \"/\" + 'image' + str(ind) + 'x' + str(i) + 'y' + str(j) + \".csv\"\n",
    "                np.savetxt(fname, temp, delimiter=',', newline='\\n',fmt='%i')\n",
    "                \n",
    "    stats_numpy = np.array(stats).reshape(-1,4)\n",
    "    stats_numpy = stats_numpy[stats_numpy[:,0].argsort()]\n",
    "    np.savetxt(\"./sub_images\"+ \"/exp\" + str(exp_num) + \"_block\" + str(block_num) + \"/folder_stats.csv\",stats_numpy , delimiter=\",\")"
   ]
  },
  {
   "cell_type": "code",
   "execution_count": null,
   "metadata": {},
   "outputs": [],
   "source": []
  },
  {
   "cell_type": "code",
   "execution_count": 21,
   "metadata": {},
   "outputs": [],
   "source": [
    "image_folders = [filename for filename in os.listdir('.') if filename.startswith('ML')]\n",
    "\n",
    "for folders in image_folders:\n",
    "    vals = re.findall(r'\\d+', folders)        \n",
    "    exp_num = vals[0]\n",
    "    block_num = vals[1]\n",
    "    single_folder(exp_num,block_num)\n"
   ]
  },
  {
   "cell_type": "code",
   "execution_count": 20,
   "metadata": {},
   "outputs": [
    {
     "name": "stdout",
     "output_type": "stream",
     "text": [
      "AgePrediction.ipynb  ML_block1_Exp201  sub_images\r\n",
      "divider.py\t     README.md\t       TestNotebook216.ipynb\r\n"
     ]
    }
   ],
   "source": [
    "!ls"
   ]
  },
  {
   "cell_type": "code",
   "execution_count": null,
   "metadata": {},
   "outputs": [],
   "source": []
  }
 ],
 "metadata": {
  "kernelspec": {
   "display_name": "Python 3",
   "language": "python",
   "name": "python3"
  },
  "language_info": {
   "codemirror_mode": {
    "name": "ipython",
    "version": 3
   },
   "file_extension": ".py",
   "mimetype": "text/x-python",
   "name": "python",
   "nbconvert_exporter": "python",
   "pygments_lexer": "ipython3",
   "version": "3.7.1"
  }
 },
 "nbformat": 4,
 "nbformat_minor": 2
}
