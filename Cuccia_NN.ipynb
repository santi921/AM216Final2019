{
 "cells": [
  {
   "cell_type": "code",
   "execution_count": 1,
   "metadata": {
    "ExecuteTime": {
     "end_time": "2019-04-26T07:07:46.360774Z",
     "start_time": "2019-04-26T07:07:44.438756Z"
    }
   },
   "outputs": [],
   "source": [
    "from __future__ import absolute_import, division, print_function\n",
    "import matplotlib.pyplot as plt\n",
    "import numpy as np\n",
    "\n",
    "import pandas as pd\n",
    "import os\n",
    "import re\n",
    "import scipy.io\n",
    "\n",
    "# TensorFlow and tf.keras\n",
    "import tensorflow as tf\n",
    "from tensorflow import keras"
   ]
  },
  {
   "cell_type": "code",
   "execution_count": 2,
   "metadata": {
    "ExecuteTime": {
     "end_time": "2019-04-26T07:07:46.376413Z",
     "start_time": "2019-04-26T07:07:46.360774Z"
    }
   },
   "outputs": [],
   "source": [
    "def blockshaped(arr, size):\n",
    "    \"\"\"\n",
    "    Breaks an array into smaller pieces.  Returns an array of shape (n, nrows, ncols) where\n",
    "    n * size * size = arr.size\n",
    "\n",
    "    If arr is a 2D array, the returned array should look like n subblocks with\n",
    "    each subblock preserving the \"physical\" layout of arr.\n",
    "    \n",
    "    Inputs\n",
    "    arr: 2D Array to be split\n",
    "    size: Size that split 2D arrays should be\n",
    "    \"\"\"\n",
    "    h, w = arr.shape\n",
    "    return (arr.reshape(h//size, size, -1, size)\n",
    "               .swapaxes(1,2)\n",
    "               .reshape(-1, size, size))\n",
    "\n",
    "def crop_center(img,crop):\n",
    "    \"\"\"\n",
    "    Crops an image into a square from the center outwards.\n",
    "    \n",
    "    Inputs\n",
    "    img: 2D Array to be cropped\n",
    "    crop: size to crop image to\n",
    "    \"\"\"\n",
    "    # Obtain the shape of the image\n",
    "    x, y, c = img.shape\n",
    "    \n",
    "    # The starting coordinates of the new image\n",
    "    startx = x//2 - crop//2\n",
    "    starty = y//2 - crop//2    \n",
    "    return img[starty : starty + crop, startx : startx + crop, :]"
   ]
  },
  {
   "cell_type": "code",
   "execution_count": 3,
   "metadata": {
    "ExecuteTime": {
     "end_time": "2019-04-26T07:07:59.426396Z",
     "start_time": "2019-04-26T07:07:46.376413Z"
    }
   },
   "outputs": [
    {
     "name": "stdout",
     "output_type": "stream",
     "text": [
      "ML_block1_Exp209.mat\r"
     ]
    }
   ],
   "source": [
    "# Optimized Data Extractor\n",
    "crop_size = 1000\n",
    "split_size = 100\n",
    "\n",
    "# Define directory with matlab files\n",
    "direc = 'D:/MLdata/18-01-09d-Exp/Extract Data/'\n",
    "\n",
    "# Extract file names\n",
    "files = [filename for filename in os.listdir(direc)][:10]\n",
    "\n",
    "# Intialize Lists\n",
    "split_images = []\n",
    "Fn_label = []\n",
    "Fs_label = []\n",
    "T_label = []\n",
    "log_T_label = []\n",
    "block_label = []\n",
    "exp_label = []\n",
    "\n",
    "for file in files:\n",
    "    print(file, end=\"\\r\")\n",
    "    # Import Matlab data\n",
    "    data = scipy.io.loadmat(direc + file)\n",
    "\n",
    "    # Get data values from Matlab file\n",
    "    Fn = data['Fn'].flatten()\n",
    "    Fs = data['Fs'].flatten()\n",
    "    T = data['T'].flatten()\n",
    "    images = data['images'].astype(np.float)\n",
    "\n",
    "    # Pull block and experiment values from filename\n",
    "    block = np.repeat(int(re.search('block(.*)_', file).group(1)), len(T))\n",
    "    exp = np.repeat(int(re.search('Exp(.*).mat', file).group(1)), len(T))\n",
    "    \n",
    "    # Crop images to appropriate size\n",
    "    cropped_images = crop_center(images, crop_size)\n",
    "\n",
    "    for i in range(cropped_images.shape[2]):\n",
    "        #Break images into smaller pieces\n",
    "        #Divide by 255 to normalize data\n",
    "        temp = blockshaped(cropped_images[:,:,i], split_size)/255.0\n",
    "        split_images.extend(temp)\n",
    "    \n",
    "    # Append data to lists\n",
    "    # Adjust labels to account for the splitting of images\n",
    "    Fn_label.extend(np.repeat(Fn, (crop_size/split_size)**2))\n",
    "    Fs_label.extend(np.repeat(Fs, (crop_size/split_size)**2))\n",
    "    T_label.extend(np.repeat(T, (crop_size/split_size)**2))\n",
    "    log_T_label.extend(np.repeat(np.log(T), (crop_size/split_size)**2))\n",
    "    block_label.extend(np.repeat(block, (crop_size/split_size)**2)) \n",
    "    exp_label.extend(np.repeat(exp, (crop_size/split_size)**2))\n",
    "    \n",
    "# Convert final results into arrays\n",
    "split_images = np.array(split_images)\n",
    "Fn_label = np.array(Fn_label)\n",
    "Fs_label = np.array(Fs_label)\n",
    "T_label = np.array(T_label)\n",
    "log_T_label = np.array(log_T_label)\n",
    "block_label = np.array(block_label) \n",
    "exp_label = np.array(exp_label)"
   ]
  },
  {
   "cell_type": "code",
   "execution_count": 4,
   "metadata": {
    "ExecuteTime": {
     "end_time": "2019-04-26T07:08:00.707829Z",
     "start_time": "2019-04-26T07:07:59.426396Z"
    }
   },
   "outputs": [],
   "source": [
    "# Assemble targets, shuffle data, and assign training and testing sets\n",
    "targets = np.vstack((log_T_label,Fn_label,Fs_label)).T\n",
    "\n",
    "# Obtain indicies for the items\n",
    "ind = np.arange(split_images.shape[0])\n",
    "# Shuffel the indices\n",
    "np.random.shuffle(ind)\n",
    "\n",
    "# Re-arrange the data using the shuffled indices\n",
    "data = split_images[ind,:,:]\n",
    "targets = targets[ind,:]\n",
    "\n",
    "# Split train and test\n",
    "# Set to use 80% of data for training\n",
    "train_size = round(0.8*data.shape[0])\n",
    "\n",
    "# Seperate Data\n",
    "train_data = data[:train_size,:,:]\n",
    "test_data = data[train_size:,:,:]\n",
    "\n",
    "#Seperate Labels\n",
    "train_labels = targets[:train_size,:]\n",
    "test_labels = targets[train_size:,:]"
   ]
  },
  {
   "cell_type": "code",
   "execution_count": 5,
   "metadata": {
    "ExecuteTime": {
     "end_time": "2019-04-26T07:08:00.723455Z",
     "start_time": "2019-04-26T07:08:00.707829Z"
    }
   },
   "outputs": [],
   "source": [
    "def build_cnn():\n",
    "    model = keras.Sequential()\n",
    "    model.add(keras.layers.Conv2D(16, kernel_size=(8, 8), strides=(1, 1),\n",
    "                     activation='tanh',\n",
    "                     input_shape=(100,100,1)))\n",
    "    model.add(keras.layers.MaxPooling2D(pool_size=(2, 2), strides=(2, 2)))\n",
    "    model.add(keras.layers.Conv2D(32, (8, 8), activation='tanh'))\n",
    "    model.add(keras.layers.MaxPooling2D(pool_size=(2, 2)))\n",
    "    model.add(keras.layers.Flatten())\n",
    "    model.add(keras.layers.Dense(128, activation='relu'))\n",
    "    model.add(keras.layers.Dense(3))\n",
    "    \n",
    "    optimizer = tf.keras.optimizers.RMSprop(0.001)\n",
    "\n",
    "    model.compile(loss='mean_squared_error',\n",
    "                optimizer=optimizer,\n",
    "                metrics=['mean_absolute_error', 'mean_squared_error'])\n",
    "    \n",
    "    return (model)"
   ]
  },
  {
   "cell_type": "code",
   "execution_count": 6,
   "metadata": {
    "ExecuteTime": {
     "end_time": "2019-04-26T07:08:00.926601Z",
     "start_time": "2019-04-26T07:08:00.723455Z"
    }
   },
   "outputs": [
    {
     "name": "stdout",
     "output_type": "stream",
     "text": [
      "WARNING:tensorflow:From C:\\Users\\Nicholas\\Anaconda3\\envs\\Aion\\lib\\site-packages\\tensorflow\\python\\ops\\resource_variable_ops.py:435: colocate_with (from tensorflow.python.framework.ops) is deprecated and will be removed in a future version.\n",
      "Instructions for updating:\n",
      "Colocations handled automatically by placer.\n",
      "WARNING:tensorflow:From C:\\Users\\Nicholas\\Anaconda3\\envs\\Aion\\lib\\site-packages\\tensorflow\\python\\keras\\utils\\losses_utils.py:170: to_float (from tensorflow.python.ops.math_ops) is deprecated and will be removed in a future version.\n",
      "Instructions for updating:\n",
      "Use tf.cast instead.\n"
     ]
    }
   ],
   "source": [
    "model = build_cnn()"
   ]
  },
  {
   "cell_type": "code",
   "execution_count": 7,
   "metadata": {
    "ExecuteTime": {
     "end_time": "2019-04-26T07:11:04.309483Z",
     "start_time": "2019-04-26T07:08:00.926601Z"
    }
   },
   "outputs": [
    {
     "name": "stdout",
     "output_type": "stream",
     "text": [
      "WARNING:tensorflow:From C:\\Users\\Nicholas\\Anaconda3\\envs\\Aion\\lib\\site-packages\\tensorflow\\python\\ops\\math_ops.py:3066: to_int32 (from tensorflow.python.ops.math_ops) is deprecated and will be removed in a future version.\n",
      "Instructions for updating:\n",
      "Use tf.cast instead.\n",
      "Epoch 1/5\n",
      "11392/27120 [===========>..................] - ETA: 4:11 - loss: 109.8102 - mean_absolute_error: 6.6694 - mean_squared_error: 109.8102"
     ]
    },
    {
     "ename": "KeyboardInterrupt",
     "evalue": "",
     "output_type": "error",
     "traceback": [
      "\u001b[1;31m---------------------------------------------------------------------------\u001b[0m",
      "\u001b[1;31mKeyboardInterrupt\u001b[0m                         Traceback (most recent call last)",
      "\u001b[1;32m<ipython-input-7-1a34bbb10a21>\u001b[0m in \u001b[0;36m<module>\u001b[1;34m\u001b[0m\n\u001b[0;32m      2\u001b[0m \u001b[0mtest_data\u001b[0m \u001b[1;33m=\u001b[0m \u001b[0mtest_data\u001b[0m\u001b[1;33m.\u001b[0m\u001b[0mreshape\u001b[0m\u001b[1;33m(\u001b[0m\u001b[0mtest_data\u001b[0m\u001b[1;33m.\u001b[0m\u001b[0mshape\u001b[0m\u001b[1;33m[\u001b[0m\u001b[1;36m0\u001b[0m\u001b[1;33m]\u001b[0m\u001b[1;33m,\u001b[0m \u001b[0mtest_data\u001b[0m\u001b[1;33m.\u001b[0m\u001b[0mshape\u001b[0m\u001b[1;33m[\u001b[0m\u001b[1;36m1\u001b[0m\u001b[1;33m]\u001b[0m\u001b[1;33m,\u001b[0m \u001b[0mtest_data\u001b[0m\u001b[1;33m.\u001b[0m\u001b[0mshape\u001b[0m\u001b[1;33m[\u001b[0m\u001b[1;36m2\u001b[0m\u001b[1;33m]\u001b[0m\u001b[1;33m,\u001b[0m \u001b[1;36m1\u001b[0m\u001b[1;33m)\u001b[0m\u001b[1;33m\u001b[0m\u001b[1;33m\u001b[0m\u001b[0m\n\u001b[0;32m      3\u001b[0m \u001b[1;33m\u001b[0m\u001b[0m\n\u001b[1;32m----> 4\u001b[1;33m \u001b[0mmodel\u001b[0m\u001b[1;33m.\u001b[0m\u001b[0mfit\u001b[0m\u001b[1;33m(\u001b[0m\u001b[0mtrain_data\u001b[0m\u001b[1;33m,\u001b[0m \u001b[0mtrain_labels\u001b[0m\u001b[1;33m,\u001b[0m \u001b[0mepochs\u001b[0m\u001b[1;33m=\u001b[0m\u001b[1;36m5\u001b[0m\u001b[1;33m)\u001b[0m\u001b[1;33m\u001b[0m\u001b[1;33m\u001b[0m\u001b[0m\n\u001b[0m\u001b[0;32m      5\u001b[0m \u001b[0mpredictions\u001b[0m\u001b[1;33m=\u001b[0m\u001b[0mmodel\u001b[0m\u001b[1;33m.\u001b[0m\u001b[0mpredict\u001b[0m\u001b[1;33m(\u001b[0m\u001b[0mtest_data\u001b[0m\u001b[1;33m)\u001b[0m\u001b[1;33m\u001b[0m\u001b[1;33m\u001b[0m\u001b[0m\n",
      "\u001b[1;32m~\\Anaconda3\\envs\\Aion\\lib\\site-packages\\tensorflow\\python\\keras\\engine\\training.py\u001b[0m in \u001b[0;36mfit\u001b[1;34m(self, x, y, batch_size, epochs, verbose, callbacks, validation_split, validation_data, shuffle, class_weight, sample_weight, initial_epoch, steps_per_epoch, validation_steps, max_queue_size, workers, use_multiprocessing, **kwargs)\u001b[0m\n\u001b[0;32m    878\u001b[0m           \u001b[0minitial_epoch\u001b[0m\u001b[1;33m=\u001b[0m\u001b[0minitial_epoch\u001b[0m\u001b[1;33m,\u001b[0m\u001b[1;33m\u001b[0m\u001b[1;33m\u001b[0m\u001b[0m\n\u001b[0;32m    879\u001b[0m           \u001b[0msteps_per_epoch\u001b[0m\u001b[1;33m=\u001b[0m\u001b[0msteps_per_epoch\u001b[0m\u001b[1;33m,\u001b[0m\u001b[1;33m\u001b[0m\u001b[1;33m\u001b[0m\u001b[0m\n\u001b[1;32m--> 880\u001b[1;33m           validation_steps=validation_steps)\n\u001b[0m\u001b[0;32m    881\u001b[0m \u001b[1;33m\u001b[0m\u001b[0m\n\u001b[0;32m    882\u001b[0m   def evaluate(self,\n",
      "\u001b[1;32m~\\Anaconda3\\envs\\Aion\\lib\\site-packages\\tensorflow\\python\\keras\\engine\\training_arrays.py\u001b[0m in \u001b[0;36mmodel_iteration\u001b[1;34m(model, inputs, targets, sample_weights, batch_size, epochs, verbose, callbacks, val_inputs, val_targets, val_sample_weights, shuffle, initial_epoch, steps_per_epoch, validation_steps, mode, validation_in_fit, **kwargs)\u001b[0m\n\u001b[0;32m    327\u001b[0m \u001b[1;33m\u001b[0m\u001b[0m\n\u001b[0;32m    328\u001b[0m         \u001b[1;31m# Get outputs.\u001b[0m\u001b[1;33m\u001b[0m\u001b[1;33m\u001b[0m\u001b[1;33m\u001b[0m\u001b[0m\n\u001b[1;32m--> 329\u001b[1;33m         \u001b[0mbatch_outs\u001b[0m \u001b[1;33m=\u001b[0m \u001b[0mf\u001b[0m\u001b[1;33m(\u001b[0m\u001b[0mins_batch\u001b[0m\u001b[1;33m)\u001b[0m\u001b[1;33m\u001b[0m\u001b[1;33m\u001b[0m\u001b[0m\n\u001b[0m\u001b[0;32m    330\u001b[0m         \u001b[1;32mif\u001b[0m \u001b[1;32mnot\u001b[0m \u001b[0misinstance\u001b[0m\u001b[1;33m(\u001b[0m\u001b[0mbatch_outs\u001b[0m\u001b[1;33m,\u001b[0m \u001b[0mlist\u001b[0m\u001b[1;33m)\u001b[0m\u001b[1;33m:\u001b[0m\u001b[1;33m\u001b[0m\u001b[1;33m\u001b[0m\u001b[0m\n\u001b[0;32m    331\u001b[0m           \u001b[0mbatch_outs\u001b[0m \u001b[1;33m=\u001b[0m \u001b[1;33m[\u001b[0m\u001b[0mbatch_outs\u001b[0m\u001b[1;33m]\u001b[0m\u001b[1;33m\u001b[0m\u001b[1;33m\u001b[0m\u001b[0m\n",
      "\u001b[1;32m~\\Anaconda3\\envs\\Aion\\lib\\site-packages\\tensorflow\\python\\keras\\backend.py\u001b[0m in \u001b[0;36m__call__\u001b[1;34m(self, inputs)\u001b[0m\n\u001b[0;32m   3074\u001b[0m \u001b[1;33m\u001b[0m\u001b[0m\n\u001b[0;32m   3075\u001b[0m     fetched = self._callable_fn(*array_vals,\n\u001b[1;32m-> 3076\u001b[1;33m                                 run_metadata=self.run_metadata)\n\u001b[0m\u001b[0;32m   3077\u001b[0m     \u001b[0mself\u001b[0m\u001b[1;33m.\u001b[0m\u001b[0m_call_fetch_callbacks\u001b[0m\u001b[1;33m(\u001b[0m\u001b[0mfetched\u001b[0m\u001b[1;33m[\u001b[0m\u001b[1;33m-\u001b[0m\u001b[0mlen\u001b[0m\u001b[1;33m(\u001b[0m\u001b[0mself\u001b[0m\u001b[1;33m.\u001b[0m\u001b[0m_fetches\u001b[0m\u001b[1;33m)\u001b[0m\u001b[1;33m:\u001b[0m\u001b[1;33m]\u001b[0m\u001b[1;33m)\u001b[0m\u001b[1;33m\u001b[0m\u001b[1;33m\u001b[0m\u001b[0m\n\u001b[0;32m   3078\u001b[0m     return nest.pack_sequence_as(self._outputs_structure,\n",
      "\u001b[1;32m~\\Anaconda3\\envs\\Aion\\lib\\site-packages\\tensorflow\\python\\client\\session.py\u001b[0m in \u001b[0;36m__call__\u001b[1;34m(self, *args, **kwargs)\u001b[0m\n\u001b[0;32m   1437\u001b[0m           ret = tf_session.TF_SessionRunCallable(\n\u001b[0;32m   1438\u001b[0m               \u001b[0mself\u001b[0m\u001b[1;33m.\u001b[0m\u001b[0m_session\u001b[0m\u001b[1;33m.\u001b[0m\u001b[0m_session\u001b[0m\u001b[1;33m,\u001b[0m \u001b[0mself\u001b[0m\u001b[1;33m.\u001b[0m\u001b[0m_handle\u001b[0m\u001b[1;33m,\u001b[0m \u001b[0margs\u001b[0m\u001b[1;33m,\u001b[0m \u001b[0mstatus\u001b[0m\u001b[1;33m,\u001b[0m\u001b[1;33m\u001b[0m\u001b[1;33m\u001b[0m\u001b[0m\n\u001b[1;32m-> 1439\u001b[1;33m               run_metadata_ptr)\n\u001b[0m\u001b[0;32m   1440\u001b[0m         \u001b[1;32mif\u001b[0m \u001b[0mrun_metadata\u001b[0m\u001b[1;33m:\u001b[0m\u001b[1;33m\u001b[0m\u001b[1;33m\u001b[0m\u001b[0m\n\u001b[0;32m   1441\u001b[0m           \u001b[0mproto_data\u001b[0m \u001b[1;33m=\u001b[0m \u001b[0mtf_session\u001b[0m\u001b[1;33m.\u001b[0m\u001b[0mTF_GetBuffer\u001b[0m\u001b[1;33m(\u001b[0m\u001b[0mrun_metadata_ptr\u001b[0m\u001b[1;33m)\u001b[0m\u001b[1;33m\u001b[0m\u001b[1;33m\u001b[0m\u001b[0m\n",
      "\u001b[1;31mKeyboardInterrupt\u001b[0m: "
     ]
    }
   ],
   "source": [
    "train_data = train_data.reshape(train_data.shape[0], train_data.shape[1], train_data.shape[2], 1)\n",
    "test_data = test_data.reshape(test_data.shape[0], test_data.shape[1], test_data.shape[2], 1)\n",
    "\n",
    "model.fit(train_data, train_labels, epochs=5)\n",
    "predictions=model.predict(test_data)"
   ]
  },
  {
   "cell_type": "code",
   "execution_count": null,
   "metadata": {},
   "outputs": [],
   "source": []
  }
 ],
 "metadata": {
  "kernelspec": {
   "display_name": "Python 3",
   "language": "python",
   "name": "python3"
  },
  "language_info": {
   "codemirror_mode": {
    "name": "ipython",
    "version": 3
   },
   "file_extension": ".py",
   "mimetype": "text/x-python",
   "name": "python",
   "nbconvert_exporter": "python",
   "pygments_lexer": "ipython3",
   "version": "3.6.8"
  }
 },
 "nbformat": 4,
 "nbformat_minor": 2
}
