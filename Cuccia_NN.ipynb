{
 "cells": [
  {
   "cell_type": "markdown",
   "metadata": {
    "heading_collapsed": true
   },
   "source": [
    "### Import Packages"
   ]
  },
  {
   "cell_type": "code",
   "execution_count": 2,
   "metadata": {
    "ExecuteTime": {
     "end_time": "2019-04-26T13:04:24.583522Z",
     "start_time": "2019-04-26T13:04:20.804457Z"
    },
    "hidden": true
   },
   "outputs": [],
   "source": [
    "from __future__ import absolute_import, division, print_function\n",
    "import matplotlib.pyplot as plt\n",
    "import numpy as np\n",
    "\n",
    "import pandas as pd\n",
    "import os\n",
    "import re\n",
    "import scipy.io\n",
    "\n",
    "# TensorFlow and tf.keras\n",
    "import tensorflow as tf\n",
    "from tensorflow import keras"
   ]
  },
  {
   "cell_type": "markdown",
   "metadata": {
    "heading_collapsed": true
   },
   "source": [
    "### Define Functions"
   ]
  },
  {
   "cell_type": "code",
   "execution_count": 3,
   "metadata": {
    "ExecuteTime": {
     "end_time": "2019-04-26T13:04:24.591497Z",
     "start_time": "2019-04-26T13:04:24.584515Z"
    },
    "hidden": true
   },
   "outputs": [],
   "source": [
    "def blockshaped(arr, size):\n",
    "    \"\"\"\n",
    "    Breaks an array into smaller pieces.  Returns an array of shape (n, nrows, ncols) where\n",
    "    n * size * size = arr.size\n",
    "\n",
    "    If arr is a 2D array, the returned array should look like n subblocks with\n",
    "    each subblock preserving the \"physical\" layout of arr.\n",
    "    \n",
    "    Inputs\n",
    "    arr: 2D Array to be split\n",
    "    size: Size that split 2D arrays should be\n",
    "    \"\"\"\n",
    "    h, w = arr.shape\n",
    "    return (arr.reshape(h//size, size, -1, size)\n",
    "               .swapaxes(1,2)\n",
    "               .reshape(-1, size, size))\n",
    "\n",
    "def crop_center(img,crop):\n",
    "    \"\"\"\n",
    "    Crops an image into a square from the center outwards.\n",
    "    \n",
    "    Inputs\n",
    "    img: 2D Array to be cropped\n",
    "    crop: size to crop image to\n",
    "    \"\"\"\n",
    "    # Obtain the shape of the image\n",
    "    x, y, c = img.shape\n",
    "    \n",
    "    # The starting coordinates of the new image\n",
    "    startx = x//2 - crop//2\n",
    "    starty = y//2 - crop//2    \n",
    "    return img[starty : starty + crop, startx : startx + crop, :]"
   ]
  },
  {
   "cell_type": "markdown",
   "metadata": {
    "heading_collapsed": true
   },
   "source": [
    "### Import Data"
   ]
  },
  {
   "cell_type": "code",
   "execution_count": 1,
   "metadata": {
    "ExecuteTime": {
     "end_time": "2019-04-26T13:04:14.164921Z",
     "start_time": "2019-04-26T13:04:14.091245Z"
    },
    "hidden": true
   },
   "outputs": [
    {
     "ename": "NameError",
     "evalue": "name 'os' is not defined",
     "output_type": "error",
     "traceback": [
      "\u001b[1;31m---------------------------------------------------------------------------\u001b[0m",
      "\u001b[1;31mNameError\u001b[0m                                 Traceback (most recent call last)",
      "\u001b[1;32m<ipython-input-1-8f62d3185fe9>\u001b[0m in \u001b[0;36m<module>\u001b[1;34m\u001b[0m\n\u001b[0;32m      8\u001b[0m \u001b[1;33m\u001b[0m\u001b[0m\n\u001b[0;32m      9\u001b[0m \u001b[1;31m# Extract file names\u001b[0m\u001b[1;33m\u001b[0m\u001b[1;33m\u001b[0m\u001b[1;33m\u001b[0m\u001b[0m\n\u001b[1;32m---> 10\u001b[1;33m \u001b[0mfiles\u001b[0m \u001b[1;33m=\u001b[0m \u001b[1;33m[\u001b[0m\u001b[0mfilename\u001b[0m \u001b[1;32mfor\u001b[0m \u001b[0mfilename\u001b[0m \u001b[1;32min\u001b[0m \u001b[0mos\u001b[0m\u001b[1;33m.\u001b[0m\u001b[0mlistdir\u001b[0m\u001b[1;33m(\u001b[0m\u001b[0mdirec\u001b[0m\u001b[1;33m)\u001b[0m\u001b[1;33m]\u001b[0m\u001b[1;33m[\u001b[0m\u001b[1;33m:\u001b[0m\u001b[1;36m5\u001b[0m\u001b[1;33m]\u001b[0m\u001b[1;33m\u001b[0m\u001b[1;33m\u001b[0m\u001b[0m\n\u001b[0m\u001b[0;32m     11\u001b[0m \u001b[1;33m\u001b[0m\u001b[0m\n\u001b[0;32m     12\u001b[0m \u001b[1;31m# Intialize Lists\u001b[0m\u001b[1;33m\u001b[0m\u001b[1;33m\u001b[0m\u001b[1;33m\u001b[0m\u001b[0m\n",
      "\u001b[1;31mNameError\u001b[0m: name 'os' is not defined"
     ]
    }
   ],
   "source": [
    "# Optimized Data Extractor\n",
    "crop_size = 1000\n",
    "split_size = 100\n",
    "\n",
    "# Define directory with matlab files\n",
    "# direc = 'D:/MLdata/18-01-09d-Exp/Extract Data/'\n",
    "direc = './18-01-09d-Exp/Extract Data/'\n",
    "\n",
    "# Extract file names\n",
    "files = [filename for filename in os.listdir(direc)][:5]\n",
    "\n",
    "# Intialize Lists\n",
    "split_images = []\n",
    "Fn_label = []\n",
    "Fs_label = []\n",
    "T_label = []\n",
    "log_T_label = []\n",
    "block_label = []\n",
    "exp_label = []\n",
    "\n",
    "for file in files:\n",
    "    print(file, end=\"\\r\")\n",
    "    # Import Matlab data\n",
    "    data = scipy.io.loadmat(direc + file)\n",
    "\n",
    "    # Get data values from Matlab file\n",
    "    Fn = data['Fn'].flatten()\n",
    "    Fs = data['Fs'].flatten()\n",
    "    T = data['T'].flatten()\n",
    "    images = data['images'].astype(np.float)\n",
    "\n",
    "    # Pull block and experiment values from filename\n",
    "    block = np.repeat(int(re.search('block(.*)_', file).group(1)), len(T))\n",
    "    exp = np.repeat(int(re.search('Exp(.*).mat', file).group(1)), len(T))\n",
    "    \n",
    "    # Crop images to appropriate size\n",
    "    cropped_images = crop_center(images, crop_size)\n",
    "\n",
    "    for i in range(cropped_images.shape[2]):\n",
    "        #Break images into smaller pieces\n",
    "        #Divide by 255 to normalize data\n",
    "        temp = blockshaped(cropped_images[:,:,i], split_size)/255.0\n",
    "        split_images.extend(temp)\n",
    "    \n",
    "    # Append data to lists\n",
    "    # Adjust labels to account for the splitting of images\n",
    "    Fn_label.extend(np.repeat(Fn, (crop_size/split_size)**2))\n",
    "    Fs_label.extend(np.repeat(Fs, (crop_size/split_size)**2))\n",
    "    T_label.extend(np.repeat(T, (crop_size/split_size)**2))\n",
    "    log_T_label.extend(np.repeat(np.log(T), (crop_size/split_size)**2))\n",
    "    block_label.extend(np.repeat(block, (crop_size/split_size)**2)) \n",
    "    exp_label.extend(np.repeat(exp, (crop_size/split_size)**2))\n",
    "    \n",
    "# Convert final results into arrays\n",
    "split_images = np.array(split_images)\n",
    "Fn_label = np.array(Fn_label)\n",
    "Fs_label = np.array(Fs_label)\n",
    "T_label = np.array(T_label)\n",
    "log_T_label = np.array(log_T_label)\n",
    "block_label = np.array(block_label) \n",
    "exp_label = np.array(exp_label)"
   ]
  },
  {
   "cell_type": "markdown",
   "metadata": {
    "heading_collapsed": true
   },
   "source": [
    "### Assemble Data"
   ]
  },
  {
   "cell_type": "code",
   "execution_count": 4,
   "metadata": {
    "ExecuteTime": {
     "end_time": "2019-04-26T11:52:33.565480Z",
     "start_time": "2019-04-26T11:51:35.130932Z"
    },
    "hidden": true
   },
   "outputs": [],
   "source": [
    "# Assemble targets, shuffle data, and assign training and testing sets\n",
    "# Note that I use the log_time values currently.\n",
    "# This makes time appear linearly spaced.  Perhaps helps CNN converge faster\n",
    "targets = np.vstack((log_T_label,Fn_label,Fs_label)).T\n",
    "\n",
    "# Obtain indicies for the items\n",
    "ind = np.arange(split_images.shape[0])\n",
    "# Shuffel the indices\n",
    "np.random.shuffle(ind)\n",
    "\n",
    "# Re-arrange the data using the shuffled indices\n",
    "data = split_images[ind,:,:]\n",
    "targets = targets[ind,:]\n",
    "\n",
    "# Split train and test\n",
    "# Set to use 80% of data for training\n",
    "train_size = round(0.8*data.shape[0])\n",
    "\n",
    "# Seperate Data\n",
    "train_data = data[:train_size,:,:]\n",
    "test_data = data[train_size:,:,:]\n",
    "\n",
    "#Seperate Labels\n",
    "train_labels = targets[:train_size,:]\n",
    "test_labels = targets[train_size:,:]"
   ]
  },
  {
   "cell_type": "markdown",
   "metadata": {
    "heading_collapsed": true
   },
   "source": [
    "### Build CNN"
   ]
  },
  {
   "cell_type": "code",
   "execution_count": 5,
   "metadata": {
    "ExecuteTime": {
     "end_time": "2019-04-26T11:52:40.100781Z",
     "start_time": "2019-04-26T11:52:40.057015Z"
    },
    "hidden": true
   },
   "outputs": [],
   "source": [
    "def build_cnn():\n",
    "    model = keras.Sequential()\n",
    "    model.add(keras.layers.Conv2D(32, kernel_size=(8, 8), strides=(1, 1),\n",
    "                     activation='tanh',\n",
    "                     input_shape=(100,100,1)))\n",
    "    model.add(keras.layers.MaxPooling2D(pool_size=(2, 2), strides=(2, 2)))\n",
    "    model.add(keras.layers.Conv2D(64, (8, 8), activation='tanh'))\n",
    "    model.add(keras.layers.MaxPooling2D(pool_size=(2, 2)))\n",
    "    model.add(keras.layers.Flatten())\n",
    "    model.add(keras.layers.Dense(128, activation='relu'))\n",
    "    model.add(keras.layers.Dense(3))\n",
    "    \n",
    "    optimizer = tf.keras.optimizers.RMSprop(0.001)\n",
    "\n",
    "    model.compile(loss='mean_squared_error',\n",
    "                optimizer=optimizer,\n",
    "                metrics=['mean_absolute_error', 'mean_squared_error'])\n",
    "    \n",
    "    return (model)"
   ]
  },
  {
   "cell_type": "markdown",
   "metadata": {
    "heading_collapsed": true
   },
   "source": [
    "### Train CNN"
   ]
  },
  {
   "cell_type": "code",
   "execution_count": 6,
   "metadata": {
    "ExecuteTime": {
     "end_time": "2019-04-26T11:52:41.804166Z",
     "start_time": "2019-04-26T11:52:40.685137Z"
    },
    "hidden": true
   },
   "outputs": [
    {
     "name": "stdout",
     "output_type": "stream",
     "text": [
      "WARNING:tensorflow:From C:\\Users\\Nicholas\\.conda\\envs\\Aion\\lib\\site-packages\\tensorflow\\python\\ops\\resource_variable_ops.py:435: colocate_with (from tensorflow.python.framework.ops) is deprecated and will be removed in a future version.\n",
      "Instructions for updating:\n",
      "Colocations handled automatically by placer.\n",
      "WARNING:tensorflow:From C:\\Users\\Nicholas\\.conda\\envs\\Aion\\lib\\site-packages\\tensorflow\\python\\keras\\utils\\losses_utils.py:170: to_float (from tensorflow.python.ops.math_ops) is deprecated and will be removed in a future version.\n",
      "Instructions for updating:\n",
      "Use tf.cast instead.\n"
     ]
    }
   ],
   "source": [
    "model = build_cnn()"
   ]
  },
  {
   "cell_type": "code",
   "execution_count": 7,
   "metadata": {
    "ExecuteTime": {
     "end_time": "2019-04-26T12:27:14.824265Z",
     "start_time": "2019-04-26T11:52:52.090418Z"
    },
    "hidden": true,
    "scrolled": false
   },
   "outputs": [
    {
     "name": "stdout",
     "output_type": "stream",
     "text": [
      "WARNING:tensorflow:From C:\\Users\\Nicholas\\.conda\\envs\\Aion\\lib\\site-packages\\tensorflow\\python\\ops\\math_ops.py:3066: to_int32 (from tensorflow.python.ops.math_ops) is deprecated and will be removed in a future version.\n",
      "Instructions for updating:\n",
      "Use tf.cast instead.\n",
      "Epoch 1/50\n",
      "108000/108000 [==============================] - 99s 920us/sample - loss: 37.8270 - mean_absolute_error: 3.4679 - mean_squared_error: 37.8270\n",
      "Epoch 2/50\n",
      "108000/108000 [==============================] - 40s 369us/sample - loss: 8.8661 - mean_absolute_error: 1.9821 - mean_squared_error: 8.8661- loss: 8.9170 - mean_absolute_error: 1.9868 - me - ETA: 0s - loss: 8.8843 - mean_absolute_error: 1.9836 - mean_squared_e\n",
      "Epoch 3/50\n",
      "108000/108000 [==============================] - 40s 371us/sample - loss: 5.6636 - mean_absolute_error: 1.6571 - mean_squared_error: 5.6636\n",
      "Epoch 4/50\n",
      "108000/108000 [==============================] - 40s 370us/sample - loss: 4.8111 - mean_absolute_error: 1.5399 - mean_squared_error: 4.8111\n",
      "Epoch 5/50\n",
      "108000/108000 [==============================] - 40s 369us/sample - loss: 4.1296 - mean_absolute_error: 1.4384 - mean_squared_error: 4.1296\n",
      "Epoch 6/50\n",
      "108000/108000 [==============================] - 40s 367us/sample - loss: 3.5241 - mean_absolute_error: 1.3459 - mean_squared_error: 3.5241\n",
      "Epoch 7/50\n",
      "108000/108000 [==============================] - 40s 372us/sample - loss: 3.0366 - mean_absolute_error: 1.2687 - mean_squared_error: 3.0366- loss: 3.0474 - mean_absolute_error: 1.2697 - me - ETA\n",
      "Epoch 8/50\n",
      "108000/108000 [==============================] - 40s 371us/sample - loss: 2.6530 - mean_absolute_error: 1.1998 - mean_squared_error: 2.6530- loss: 2.6748 - mean_absolute_error: 1.2036 - mean_squared_err\n",
      "Epoch 9/50\n",
      "108000/108000 [==============================] - 41s 376us/sample - loss: 2.3137 - mean_absolute_error: 1.1318 - mean_squared_error: 2.3137\n",
      "Epoch 10/50\n",
      "108000/108000 [==============================] - 40s 369us/sample - loss: 2.0353 - mean_absolute_error: 1.0656 - mean_squared_error: 2.0353- loss: 2.0409 - mean_absol - ETA: 1s - loss: 2.0370 \n",
      "Epoch 11/50\n",
      "108000/108000 [==============================] - 40s 370us/sample - loss: 1.8448 - mean_absolute_error: 1.0202 - mean_squared_error: 1.8448\n",
      "Epoch 12/50\n",
      "108000/108000 [==============================] - 40s 369us/sample - loss: 1.7003 - mean_absolute_error: 0.9808 - mean_squared_error: 1.7002\n",
      "Epoch 13/50\n",
      "108000/108000 [==============================] - 40s 369us/sample - loss: 1.5803 - mean_absolute_error: 0.9493 - mean_squared_error: 1.5803- loss: 1.5874 -  - ETA: 1s - loss: 1.5834 - mean_absolute_error: 0.9502 - mean_squared_error: 1.58 - ETA: 1s - loss: 1.5828 - mean_absolute_error: 0 - ETA: 0s - loss: 1.5811 - mean_absolute_error: 0.9493 - mean_squared_e\n",
      "Epoch 14/50\n",
      "108000/108000 [==============================] - 40s 374us/sample - loss: 1.4731 - mean_absolute_error: 0.9174 - mean_squared_error: 1.4731\n",
      "Epoch 15/50\n",
      "108000/108000 [==============================] - 40s 373us/sample - loss: 1.3861 - mean_absolute_error: 0.8917 - mean_squared_error: 1.3861\n",
      "Epoch 16/50\n",
      "108000/108000 [==============================] - 41s 379us/sample - loss: 1.3047 - mean_absolute_error: 0.8657 - mean_squared_error: 1.3047\n",
      "Epoch 17/50\n",
      "108000/108000 [==============================] - 40s 371us/sample - loss: 1.2262 - mean_absolute_error: 0.8406 - mean_squared_error: 1.2262\n",
      "Epoch 18/50\n",
      "108000/108000 [==============================] - 40s 371us/sample - loss: 1.1576 - mean_absolute_error: 0.8170 - mean_squared_error: 1.1576\n",
      "Epoch 19/50\n",
      "108000/108000 [==============================] - 40s 368us/sample - loss: 1.0952 - mean_absolute_error: 0.7937 - mean_squared_error: 1.0952- loss: 1.0957 - mean_absolute_\n",
      "Epoch 20/50\n",
      "108000/108000 [==============================] - 40s 367us/sample - loss: 1.0416 - mean_absolute_error: 0.7746 - mean_squared_error: 1.0416\n",
      "Epoch 21/50\n",
      "108000/108000 [==============================] - 40s 367us/sample - loss: 0.9776 - mean_absolute_error: 0.7489 - mean_squared_error: 0.9776\n",
      "Epoch 22/50\n",
      "108000/108000 [==============================] - 40s 367us/sample - loss: 0.9295 - mean_absolute_error: 0.7309 - mean_squared_error: 0.9295\n",
      "Epoch 23/50\n",
      "108000/108000 [==============================] - 40s 367us/sample - loss: 0.8933 - mean_absolute_error: 0.7157 - mean_squared_error: 0.8933\n",
      "Epoch 24/50\n",
      "108000/108000 [==============================] - 40s 367us/sample - loss: 0.8596 - mean_absolute_error: 0.7027 - mean_squared_error: 0.8596\n",
      "Epoch 25/50\n",
      "108000/108000 [==============================] - 40s 369us/sample - loss: 0.8349 - mean_absolute_error: 0.6926 - mean_squared_error: 0.8349\n",
      "Epoch 26/50\n",
      "108000/108000 [==============================] - 40s 367us/sample - loss: 0.8022 - mean_absolute_error: 0.6805 - mean_squared_error: 0.8022\n",
      "Epoch 27/50\n",
      "108000/108000 [==============================] - 40s 367us/sample - loss: 0.7693 - mean_absolute_error: 0.6648 - mean_squared_error: 0.7693\n",
      "Epoch 28/50\n",
      "108000/108000 [==============================] - 40s 367us/sample - loss: 0.7331 - mean_absolute_error: 0.6496 - mean_squared_error: 0.7331\n",
      "Epoch 29/50\n",
      "108000/108000 [==============================] - 40s 367us/sample - loss: 0.6864 - mean_absolute_error: 0.6264 - mean_squared_error: 0.6864\n",
      "Epoch 30/50\n",
      "108000/108000 [==============================] - 40s 368us/sample - loss: 0.6629 - mean_absolute_error: 0.6148 - mean_squared_error: 0.6629\n",
      "Epoch 31/50\n",
      "108000/108000 [==============================] - 40s 370us/sample - loss: 0.6431 - mean_absolute_error: 0.6076 - mean_squared_error: 0.6431\n",
      "Epoch 32/50\n",
      "108000/108000 [==============================] - 40s 369us/sample - loss: 0.6299 - mean_absolute_error: 0.6014 - mean_squared_error: 0.6299- loss: 0.6300 - mean_absolute_error: 0.6014 - mean_squared_error: 0.63\n",
      "Epoch 33/50\n",
      "108000/108000 [==============================] - 40s 369us/sample - loss: 0.6113 - mean_absolute_error: 0.5926 - mean_squared_error: 0.6113\n",
      "Epoch 34/50\n",
      "108000/108000 [==============================] - 40s 369us/sample - loss: 0.5990 - mean_absolute_error: 0.5867 - mean_squared_error: 0.5990- loss: 0.5981 - mean_absolute_error: 0.5862 - mean_squared_error\n",
      "Epoch 35/50\n",
      "108000/108000 [==============================] - 40s 366us/sample - loss: 0.5835 - mean_absolute_error: 0.5795 - mean_squared_error: 0.5835- loss: 0.583\n",
      "Epoch 36/50\n",
      "108000/108000 [==============================] - 40s 369us/sample - loss: 0.5705 - mean_absolute_error: 0.5731 - mean_squared_error: 0.5705\n",
      "Epoch 37/50\n",
      "108000/108000 [==============================] - 40s 367us/sample - loss: 0.5583 - mean_absolute_error: 0.5686 - mean_squared_error: 0.5583\n",
      "Epoch 38/50\n",
      "108000/108000 [==============================] - 40s 368us/sample - loss: 0.5484 - mean_absolute_error: 0.5635 - mean_squared_error: 0.5484\n",
      "Epoch 39/50\n",
      "108000/108000 [==============================] - 40s 370us/sample - loss: 0.5361 - mean_absolute_error: 0.5569 - mean_squared_error: 0.5361\n",
      "Epoch 40/50\n",
      "108000/108000 [==============================] - 40s 371us/sample - loss: 0.5234 - mean_absolute_error: 0.5509 - mean_squared_error: 0.5234\n",
      "Epoch 41/50\n",
      "108000/108000 [==============================] - 40s 371us/sample - loss: 0.5167 - mean_absolute_error: 0.5470 - mean_squared_error: 0.5167\n",
      "Epoch 42/50\n",
      "108000/108000 [==============================] - 40s 370us/sample - loss: 0.5032 - mean_absolute_error: 0.5412 - mean_squared_error: 0.5032\n",
      "Epoch 43/50\n",
      "108000/108000 [==============================] - 40s 368us/sample - loss: 0.4938 - mean_absolute_error: 0.5357 - mean_squared_error: 0.4938\n",
      "Epoch 44/50\n",
      "108000/108000 [==============================] - 40s 367us/sample - loss: 0.4852 - mean_absolute_error: 0.5311 - mean_squared_error: 0.4852\n",
      "Epoch 45/50\n",
      "108000/108000 [==============================] - 40s 367us/sample - loss: 0.4748 - mean_absolute_error: 0.5261 - mean_squared_error: 0.4748\n",
      "Epoch 46/50\n",
      "108000/108000 [==============================] - 40s 367us/sample - loss: 0.4656 - mean_absolute_error: 0.5203 - mean_squared_error: 0.4656- loss: 0.4657 - mean_absolute_error: 0.5204 - mean_squared_error: 0.\n",
      "Epoch 47/50\n",
      "108000/108000 [==============================] - 40s 366us/sample - loss: 0.4598 - mean_absolute_error: 0.5169 - mean_squared_error: 0.4598\n",
      "Epoch 48/50\n",
      "108000/108000 [==============================] - 40s 366us/sample - loss: 0.4498 - mean_absolute_error: 0.5120 - mean_squared_error: 0.4498\n",
      "Epoch 49/50\n",
      "108000/108000 [==============================] - 40s 366us/sample - loss: 0.4447 - mean_absolute_error: 0.5074 - mean_squared_error: 0.4447- loss: 0.4447 - mean_absolute_error: 0.5075 - mean_squared_err\n",
      "Epoch 50/50\n",
      "108000/108000 [==============================] - 40s 369us/sample - loss: 0.4342 - mean_absolute_error: 0.5004 - mean_squared_error: 0.4342\n"
     ]
    }
   ],
   "source": [
    "train_data = train_data.reshape(train_data.shape[0], train_data.shape[1], train_data.shape[2], 1)\n",
    "test_data = test_data.reshape(test_data.shape[0], test_data.shape[1], test_data.shape[2], 1)\n",
    "\n",
    "model.fit(train_data, train_labels, epochs=50)\n",
    "predictions=model.predict(test_data)"
   ]
  },
  {
   "cell_type": "markdown",
   "metadata": {},
   "source": [
    "### Examine Results"
   ]
  },
  {
   "cell_type": "code",
   "execution_count": 27,
   "metadata": {
    "ExecuteTime": {
     "end_time": "2019-04-26T12:57:46.076304Z",
     "start_time": "2019-04-26T12:57:37.146055Z"
    }
   },
   "outputs": [
    {
     "data": {
      "image/png": "[encoded data removed]",
      "text/plain": [
       "<Figure size 432x288 with 1 Axes>"
      ]
     },
     "metadata": {
      "needs_background": "light"
     },
     "output_type": "display_data"
    },
    {
     "data": {
      "image/png": "[encoded data removed]",
      "text/plain": [
       "<Figure size 432x288 with 1 Axes>"
      ]
     },
     "metadata": {
      "needs_background": "light"
     },
     "output_type": "display_data"
    },
    {
     "data": {
      "image/png": "[encoded data removed]",
      "text/plain": [
       "<Figure size 432x288 with 1 Axes>"
      ]
     },
     "metadata": {
      "needs_background": "light"
     },
     "output_type": "display_data"
    }
   ],
   "source": [
    "# Score and visualize predictions\n",
    "from scipy.stats import pearsonr\n",
    "\n",
    "actual_times = test_labels[:,0]\n",
    "predicted_times = predictions[:,0]\n",
    "\n",
    "actual_normal = test_labels[:,1]\n",
    "predicted_normal = predictions[:,1]\n",
    "\n",
    "actual_shear = test_labels[:,2]\n",
    "predicted_shear = predictions[:,2]\n",
    "\n",
    "plt.figure()\n",
    "plt.scatter(actual_times,predicted_times, marker = \".\", color = 'k')\n",
    "plt.plot([0, 10], [0, 10], '-r')\n",
    "plt.title('R = '+str(np.round(pearsonr(actual_times, predicted_times)[0], 3)))\n",
    "plt.xlim(0,8.5)\n",
    "plt.ylim(0,8.5)\n",
    "plt.xlabel('Actual Age [log(sec)]')\n",
    "plt.ylabel('Predicted Age [log(sec)]')\n",
    "plt.savefig(\"Age.png\", dpi = 1200, bbox_inches='tight')\n",
    "plt.show()\n",
    "\n",
    "plt.figure()\n",
    "plt.scatter(actual_normal,predicted_normal, marker = \".\", color = 'k')\n",
    "plt.title('R = '+str(np.round(pearsonr(actual_normal, predicted_normal)[0], 3)))\n",
    "plt.plot([80, 100], [80, 100], '-r')\n",
    "plt.xlim(89.5,90.5)\n",
    "plt.ylim(89.5,90.5)\n",
    "plt.xlabel('Actual Normal [N]')\n",
    "plt.ylabel('Predicted Normal [N]')\n",
    "plt.savefig(\"Normal.png\", di = 1200, bbox_inches='tight')\n",
    "plt.show()\n",
    "\n",
    "plt.figure()\n",
    "plt.scatter(actual_shear,predicted_shear, marker = \".\", color = 'k')\n",
    "plt.title('R = '+str(np.round(pearsonr(actual_shear, predicted_shear)[0], 3)))\n",
    "plt.plot([0, 100], [0, 100], '-r')\n",
    "plt.xlim(0,50)\n",
    "plt.ylim(0,50)\n",
    "plt.xlabel('Actual Shear [N]')\n",
    "plt.ylabel('Predicted Shear [N]')\n",
    "plt.savefig(\"Shear.png\", dpi = 1200, bbox_inches='tight')\n",
    "plt.show()"
   ]
  },
  {
   "cell_type": "code",
   "execution_count": null,
   "metadata": {},
   "outputs": [],
   "source": []
  }
 ],
 "metadata": {
  "kernelspec": {
   "display_name": "Python 3",
   "language": "python",
   "name": "python3"
  },
  "language_info": {
   "codemirror_mode": {
    "name": "ipython",
    "version": 3
   },
   "file_extension": ".py",
   "mimetype": "text/x-python",
   "name": "python",
   "nbconvert_exporter": "python",
   "pygments_lexer": "ipython3",
   "version": "3.7.3"
  }
 },
 "nbformat": 4,
 "nbformat_minor": 2
}
