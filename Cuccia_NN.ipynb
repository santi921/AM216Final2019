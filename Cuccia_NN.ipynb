{
 "cells": [
  {
   "cell_type": "markdown",
   "metadata": {},
   "source": [
    "### Import Packages"
   ]
  },
  {
   "cell_type": "code",
   "execution_count": 38,
   "metadata": {
    "ExecuteTime": {
     "end_time": "2019-05-04T15:56:13.975024Z",
     "start_time": "2019-05-04T15:56:13.874996Z"
    }
   },
   "outputs": [
    {
     "name": "stdout",
     "output_type": "stream",
     "text": [
      "[[22. 28.]\n",
      " [49. 64.]]\n"
     ]
    }
   ],
   "source": [
    "from __future__ import absolute_import, division, print_function\n",
    "import matplotlib.pyplot as plt\n",
    "import numpy as np\n",
    "from time import gmtime, strftime\n",
    "import random\n",
    "\n",
    "import pandas as pd\n",
    "import os\n",
    "import re\n",
    "import scipy.io\n",
    "\n",
    "# TensorFlow and tf.keras\n",
    "import tensorflow as tf\n",
    "from tensorflow import keras\n",
    "\n",
    "with tf.device('/gpu:0'):\n",
    "    a = tf.constant([1.0, 2.0, 3.0, 4.0, 5.0, 6.0], shape=[2, 3], name='a')\n",
    "    b = tf.constant([1.0, 2.0, 3.0, 4.0, 5.0, 6.0], shape=[3, 2], name='b')\n",
    "    c = tf.matmul(a, b)\n",
    "\n",
    "with tf.Session() as sess:\n",
    "    print (sess.run(c))\n",
    "\n",
    "# Define directory with matlab files\n",
    "# direc = 'D:/MLdata/18-01-09d-Exp/Extract Data/'\n",
    "# direc  = 'D:/Nicholas_ML/18-01-09d-Exp/Extract Data/'\n",
    "direc = 'D:/MLdata/'\n",
    "# Define directory to save model and plots\n",
    "savedir = 'D:/MLdata/Model/' + strftime(\"%Y-%m-%d %H-%M\", gmtime()) + '/'\n",
    "\n",
    "random.seed(135)\n",
    "np.random.seed(135)"
   ]
  },
  {
   "cell_type": "markdown",
   "metadata": {},
   "source": [
    "### Define Functions"
   ]
  },
  {
   "cell_type": "code",
   "execution_count": 2,
   "metadata": {
    "ExecuteTime": {
     "end_time": "2019-05-04T15:25:41.332740Z",
     "start_time": "2019-05-04T15:25:41.320746Z"
    }
   },
   "outputs": [],
   "source": [
    "def blockshaped(arr, size):\n",
    "    \"\"\"\n",
    "    Breaks an array into smaller pieces.  Returns an array of shape (n, nrows, ncols) where\n",
    "    n * size * size = arr.size\n",
    "\n",
    "    If arr is a 2D array, the returned array should look like n subblocks with\n",
    "    each subblock preserving the \"physical\" layout of arr.\n",
    "    \n",
    "    The returned array is indexed starting in the top left of the image and moving across to the right\n",
    "    until hitting the edge.  At which point it continues one line down.\n",
    "    \n",
    "    Inputs\n",
    "    arr: 2D Array to be split\n",
    "    size: Size that split 2D arrays should be\n",
    "    \"\"\"\n",
    "    h, w = arr.shape\n",
    "    return (arr.reshape(h//size, size, -1, size)\n",
    "               .swapaxes(1,2)\n",
    "               .reshape(-1, size, size))\n",
    "\n",
    "def crop_center(img,crop):\n",
    "    \"\"\"\n",
    "    Crops an image into a square from the center outwards.\n",
    "    \n",
    "    Inputs\n",
    "    img: 2D Array to be cropped\n",
    "    crop: size to crop image to\n",
    "    \"\"\"\n",
    "    # Obtain the shape of the image\n",
    "    if len(img.shape) == 3:\n",
    "        x, y, c = img.shape\n",
    "#         The starting coordinates of the new image\n",
    "        startx = x//2 - crop//2\n",
    "#         print(x//2, startx)\n",
    "        starty = y//2 - crop//2    \n",
    "#         print(y//2, starty)\n",
    "        return img[startx : startx + crop, starty : starty + crop, :]\n",
    "    else:\n",
    "        x, y = img.shape\n",
    "#         The starting coordinates of the new image\n",
    "        startx = x//2 - crop//2\n",
    "#         print(x//2, startx)\n",
    "        starty = y//2 - crop//2    \n",
    "#         print(y//2, starty)\n",
    "        return img[startx : startx + crop, starty : starty + crop]\n",
    "\n",
    "def rebin(a, shape):\n",
    "    sh = shape[0],a.shape[0]//shape[0],shape[1],a.shape[1]//shape[1]\n",
    "    return a.reshape(sh).mean(-1).mean(1)"
   ]
  },
  {
   "cell_type": "markdown",
   "metadata": {},
   "source": [
    "### Import Data"
   ]
  },
  {
   "cell_type": "code",
   "execution_count": 9,
   "metadata": {
    "ExecuteTime": {
     "end_time": "2019-05-04T15:31:49.656882Z",
     "start_time": "2019-05-04T15:29:16.700693Z"
    }
   },
   "outputs": [
    {
     "name": "stdout",
     "output_type": "stream",
     "text": [
      "D:/MLdata/18-01-09d-Exp/Extract Data/ML_block1_Exp500.mat\r"
     ]
    }
   ],
   "source": [
    "# Optimized Data Extractor\n",
    "crop_size = 1000\n",
    "split_size = 250\n",
    "\n",
    "file_num = 0\n",
    "\n",
    "down = [500,500]\n",
    "\n",
    "folders  = [filename for filename in os.listdir(direc)][:1]\n",
    "files = []\n",
    "\n",
    "# Extract file names\n",
    "for i in range(len(folders)):\n",
    "    if file_num > 0:\n",
    "        temp = random.sample(os.listdir(direc + folders[i] + '/Extract Data/'), int(file_num/4))\n",
    "        files.extend(temp)\n",
    "    else:\n",
    "        temp = os.listdir(direc + folders[i] + '/Extract Data/')\n",
    "        files.extend(temp)\n",
    "#     files.extend(os.listdir(direc + folders[i]))\n",
    "\n",
    "# Intialize Lists\n",
    "length_index = []\n",
    "split_images = []\n",
    "Fn_label = []\n",
    "Fs_label = []\n",
    "T_label = []\n",
    "block_label = []\n",
    "exp_label = []\n",
    "\n",
    "for file in files:\n",
    "    subtract = False\n",
    "    block_num = int(re.search('block(.*)_', file).group(1))\n",
    "    exp_num = int(re.search('Exp(.*).mat', file).group(1))\n",
    "    \n",
    "    print(direc + folders[block_num - 1] + '/Extract Data/' + file, end=\"\\r\")\n",
    "    # Import Matlab data\n",
    "    data = scipy.io.loadmat(direc + folders[block_num - 1] + '/Extract Data/' + file)\n",
    "\n",
    "    # Get data values from Matlab file\n",
    "    Fn = data['Fn'].flatten()\n",
    "    Fs = data['Fs'].flatten()\n",
    "    T = data['T'].flatten()\n",
    "\n",
    "    images = data['images'].astype(np.float)\n",
    "    \n",
    "    #####################CHANGE FOR DIFFERENCE CALCULATIONS BEGIN ###############################\n",
    "    subtract = True\n",
    "    # Make the values the final values\n",
    "    Fn = [Fn[-1]]\n",
    "    Fs = [Fs[-1]]\n",
    "    #Take difference of time values\n",
    "    T = [T[-1] - T[0]]\n",
    "    \n",
    "    # Make the image the difference between the final and initial block\n",
    "    images = (images[:,:,-1] - images[:,:,0])\n",
    "    #####################CHANGE FOR DIFFERENCE CALCULATIONS END ###############################\n",
    "\n",
    "    if (len(Fn) == len(Fs) == len(T)):\n",
    "        length_index.append(len(Fn))\n",
    "    else:\n",
    "        print('ERROR: INCONSISTENT SIZE FOR FILE:', direc + folders[block_num - 1] + '/Extract Data/' + file)\n",
    "        break\n",
    "    \n",
    "    \n",
    "    # Pull block and experiment values from filename\n",
    "    block = np.repeat(block_num, len(T))\n",
    "    exp = np.repeat(exp_num, len(T))\n",
    "    \n",
    "    # Crop images to appropriate size\n",
    "    cropped_images = crop_center(images, crop_size)\n",
    "    \n",
    "    if len(cropped_images.shape) == 3:\n",
    "        for i in range(cropped_images.shape[2]):\n",
    "            #Break images into smaller pieces\n",
    "            #Divide by 255 to normalize data\n",
    "            temp = blockshaped(cropped_images[:,:,i], split_size)/255.0\n",
    "#             temp = rebin(temp[0,:,:], down)\n",
    "            if subtract:\n",
    "                split_images.extend(temp)\n",
    "            else:\n",
    "                split_images.append(temp)\n",
    "    else:\n",
    "        #Break images into smaller pieces\n",
    "        #Divide by 255 to normalize data\n",
    "        temp = blockshaped(cropped_images, split_size)/255.0\n",
    "        if subtract:\n",
    "            split_images.extend(temp)\n",
    "        else:\n",
    "            split_images.append(temp)\n",
    "    \n",
    "\n",
    "        \n",
    "    # Append data to lists\n",
    "    # Adjust labels to account for the splitting of images\n",
    "    Fn_label.extend(np.repeat(Fn, (crop_size/split_size)**2))\n",
    "    Fs_label.extend(np.repeat(Fs, (crop_size/split_size)**2))\n",
    "    T_label.extend(np.repeat(T, (crop_size/split_size)**2))\n",
    "    block_label.extend(np.repeat(block, (crop_size/split_size)**2)) \n",
    "    exp_label.extend(np.repeat(exp, (crop_size/split_size)**2))\n",
    "    \n",
    "# Convert final results into arrays\n",
    "length_index = np.array(length_index)\n",
    "split_images = np.array(split_images)\n",
    "Fn_label = np.array(Fn_label)\n",
    "Fs_label = np.array(Fs_label)\n",
    "T_label = np.array(T_label)\n",
    "block_label = np.array(block_label) \n",
    "exp_label = np.array(exp_label)"
   ]
  },
  {
   "cell_type": "markdown",
   "metadata": {},
   "source": [
    "### Troubleshooting"
   ]
  },
  {
   "cell_type": "code",
   "execution_count": 4,
   "metadata": {
    "ExecuteTime": {
     "end_time": "2019-05-04T15:28:19.688747Z",
     "start_time": "2019-05-04T15:28:19.684753Z"
    },
    "scrolled": true
   },
   "outputs": [],
   "source": [
    "# # Subplots are organized in a rows x cols Grid\n",
    "\n",
    "# for i in range(len(length_index)):\n",
    "#     #Give the experiment we are lookings at\n",
    "#     print('-------------------', files[i], '-------------------')\n",
    "    \n",
    "#     #Determine the number of columns needed for display\n",
    "#     if length_index[i] > 4:\n",
    "#         cols = 4\n",
    "#         fig = plt.figure(1, figsize=(20,length_index[i]-2))\n",
    "#     else:\n",
    "#         cols = length_index[i]\n",
    "#         fig = plt.figure(1, figsize=(10,10))\n",
    "    \n",
    "#     #Determine the number of rows needed\n",
    "#     rows = length_index[i] // cols \n",
    "#     rows += length_index[i] % cols\n",
    "    \n",
    "#     position = range(1, length_index[i] + 1)\n",
    "    \n",
    "#     for j in range(length_index[i]):\n",
    "#       # add every single subplot to the figure with a for loop\n",
    "#         ax = fig.add_subplot(rows, cols, position[j])\n",
    "#         ax.matshow(split_images[j,:,:], cmap=plt.cm.gray)\n",
    "#         ax.set_xticks(())\n",
    "#         ax.set_yticks(())\n",
    "#     plt.tight_layout()\n",
    "#     plt.show()"
   ]
  },
  {
   "cell_type": "code",
   "execution_count": 5,
   "metadata": {
    "ExecuteTime": {
     "end_time": "2019-05-04T15:28:19.698895Z",
     "start_time": "2019-05-04T15:28:19.688747Z"
    },
    "scrolled": false
   },
   "outputs": [],
   "source": [
    "# # Show difference values for all split_images\n",
    "# initial = 0\n",
    "# diff = []\n",
    "\n",
    "# down = [350,350]\n",
    "# for i in range(len(length_index)):\n",
    "#     #Give the experiment we are lookings at\n",
    "#     print('-------------------', files[i], '-------------------')\n",
    "#     print('Initial:', initial, 'Final:', final)\n",
    "#     final = initial + length_index[i] - 1\n",
    "    \n",
    "#     fig, axs = plt.subplots(nrows=1, ncols=3, sharex=True, figsize = (24,24))\n",
    "    \n",
    "#     ax = axs[0]\n",
    "#     ax.set_title(('Fs = ' + str(round(Fs_label[initial],2)) + \n",
    "#                   ', Fn = ' + str(round(Fn_label[initial],2)) +\n",
    "#                   ', T = ' + str(round(T_label[initial],2))))\n",
    "#     ax.axis('off')\n",
    "#     ax.matshow(rebin(split_images[initial,:,:],down), cmap=plt.cm.gray)\n",
    "\n",
    "#     ax = axs[1]\n",
    "#     ax.set_title(('Fs = ' + str(round(Fs_label[final],2)) + \n",
    "#                   ', Fn = ' + str(round(Fn_label[final],2)) +\n",
    "#                   ', T = ' + str(round(T_label[final],2))))\n",
    "#     ax.axis('off')\n",
    "#     ax.matshow(rebin(split_images[final,:,:],down), cmap=plt.cm.gray)\n",
    "    \n",
    "#     ax = axs[2]\n",
    "#     temp = (rebin(split_images[final,:,:] - split_images[initial,:,:],down))\n",
    "#     diff.append(temp)\n",
    "#     ax.set_title(('Difference, $\\Delta = $' + str(round(np.sum(temp),2))))\n",
    "#     ax.axis('off')\n",
    "#     ax.matshow(temp, cmap=plt.cm.gray)\n",
    "    \n",
    "#     plt.tight_layout()\n",
    "#     plt.show()\n",
    "#     initial = final + 1\n",
    "# diff = np.array(diff)"
   ]
  },
  {
   "cell_type": "markdown",
   "metadata": {},
   "source": [
    "### Assemble Data (FORMAT 4-BLOCK)"
   ]
  },
  {
   "cell_type": "code",
   "execution_count": 6,
   "metadata": {
    "ExecuteTime": {
     "end_time": "2019-05-04T15:28:19.706897Z",
     "start_time": "2019-05-04T15:28:19.698895Z"
    }
   },
   "outputs": [],
   "source": [
    "# # Assemble targets, shuffle data, and assign training and testing sets\n",
    "# # Note that I use the log_time values currently.\n",
    "# # This makes time appear linearly spaced.  Perhaps helps CNN converge faster\n",
    "# # targets = np.vstack((log_T_label,Fn_label,Fs_label)).T\n",
    "# targets = np.vstack((np.log(T_label), Fs_label)).T\n",
    "\n",
    "# test_block_ind = np.min(np.where(block_label == 4))\n",
    "\n",
    "# train_data = split_images[:test_block_ind].clip(0)\n",
    "# train_labels = targets[:test_block_ind]\n",
    "# print('Training Data and Labels Completed...', train_data.shape, train_labels.shape)\n",
    "\n",
    "# test_data = split_images[test_block_ind:].clip(0)\n",
    "# test_labels = targets[test_block_ind:]\n",
    "# print('Testing Data and Labels Completed...', test_data.shape, test_labels.shape)\n",
    "\n",
    "# # TROUBLESHOOTING: Plot an array of some of the images, to try visually confirm proper selection.\n",
    "# # fig,ax = plt.subplots(4,8,figsize=(20,10))\n",
    "# # for i in range(32):\n",
    "# #     ax[i//8,i%8].matshow(test_data[i],cmap=plt.cm.gray)\n",
    "# #     ax[i//8,i%8].set_xticks(())\n",
    "# #     ax[i//8,i%8].set_yticks(())"
   ]
  },
  {
   "cell_type": "markdown",
   "metadata": {},
   "source": [
    "### Assemble Data (RANDOM FORMAT 1-BLOCK)"
   ]
  },
  {
   "cell_type": "code",
   "execution_count": 11,
   "metadata": {
    "ExecuteTime": {
     "end_time": "2019-05-04T15:32:21.143675Z",
     "start_time": "2019-05-04T15:32:20.387190Z"
    }
   },
   "outputs": [
    {
     "name": "stdout",
     "output_type": "stream",
     "text": [
      "Test Index Completed...\n",
      "Training Data and Labels Completed...\n",
      "Testing Data and Labels Completed...\n"
     ]
    }
   ],
   "source": [
    "# Assemble targets, shuffle data, and assign training and testing sets\n",
    "# Note that I use the log_time values currently.\n",
    "# This makes time appear linearly spaced.  Perhaps helps CNN converge faster\n",
    "# targets = np.vstack((log_T_label,Fn_label,Fs_label)).T\n",
    "targets = np.vstack((np.log(T_label), Fs_label)).T\n",
    "\n",
    "# I want to test if the Nueral Network works well on images it has NEVER\n",
    "# seen before.  As such, I am careful to remove a specifc square from\n",
    "# ALL the images for testing.  That way we can make sure it isn't just learning\n",
    "# features of each square in the image.\n",
    "\n",
    "# Obtain the sub_images we split the original image into\n",
    "image_grid_size = crop_size**2 / split_size**2\n",
    "subimage_ind = np.arange(0, image_grid_size)\n",
    "\n",
    "# Randomnly choose a square of ALL images to remove\n",
    "# so that we can test on it later.\n",
    "np.random.shuffle(subimage_ind)\n",
    "train_size = round((.8)*subimage_ind.shape[0])\n",
    "\n",
    "test_index = []\n",
    "\n",
    "# Fill data lists\n",
    "for i in np.arange(0, (split_images.shape[0] / image_grid_size)):\n",
    "    test_index.append((i * image_grid_size) + subimage_ind[train_size:])\n",
    "    \n",
    "# Make sure index values are integers\n",
    "test_index = np.array(test_index).astype(np.intc).flatten()\n",
    "print('Test Index Completed...')\n",
    "\n",
    "train_data = np.delete(split_images, test_index, axis = 0)\n",
    "train_labels = np.delete(targets, test_index, axis = 0)\n",
    "print('Training Data and Labels Completed...')\n",
    "\n",
    "\n",
    "test_data = split_images[test_index]\n",
    "test_labels = targets[test_index]\n",
    "print('Testing Data and Labels Completed...')\n",
    "\n",
    "\n",
    "# TROUBLESHOOTING: Plot an array of some of the images, to try visually confirm proper selection.\n",
    "# fig,ax = plt.subplots(4,8,figsize=(20,10))\n",
    "# for i in range(32):\n",
    "#     ax[i//8,i%8].matshow(test_data[i],cmap=plt.cm.gray)\n",
    "#     ax[i//8,i%8].set_xticks(())\n",
    "#     ax[i//8,i%8].set_yticks(())"
   ]
  },
  {
   "cell_type": "markdown",
   "metadata": {},
   "source": [
    "### Build CNN"
   ]
  },
  {
   "cell_type": "code",
   "execution_count": 27,
   "metadata": {
    "ExecuteTime": {
     "end_time": "2019-05-04T15:46:15.824608Z",
     "start_time": "2019-05-04T15:46:15.816606Z"
    }
   },
   "outputs": [],
   "source": [
    "def build_cnn():\n",
    "    model = keras.Sequential()\n",
    "    model.add(keras.layers.AveragePooling2D(pool_size=(2, 2)))\n",
    "    model.add(keras.layers.Conv2D(32, kernel_size=(2, 2), strides=(1, 1),\n",
    "                     activation='relu',\n",
    "                     input_shape=(down[0],down[1],1)))\n",
    "    model.add(keras.layers.MaxPooling2D(pool_size=(2, 2), strides=(2, 2)))\n",
    "    model.add(keras.layers.Conv2D(64, (5, 5), activation='relu'))\n",
    "    model.add(keras.layers.Dropout(0.2))\n",
    "    model.add(keras.layers.MaxPooling2D(pool_size=(2, 2)))\n",
    "    model.add(keras.layers.Flatten())\n",
    "    model.add(keras.layers.Dense(128, activation='relu'))\n",
    "    model.add(keras.layers.Dropout(0.2))\n",
    "    model.add(keras.layers.Dense(2))\n",
    "    \n",
    "    optimizer = tf.keras.optimizers.RMSprop(0.001)\n",
    "\n",
    "    model.compile(loss='mean_absolute_error',\n",
    "                optimizer=optimizer,\n",
    "                metrics=['mean_absolute_error', 'accuracy'])\n",
    "    \n",
    "    return (model)"
   ]
  },
  {
   "cell_type": "markdown",
   "metadata": {},
   "source": [
    "### Train CNN"
   ]
  },
  {
   "cell_type": "code",
   "execution_count": 28,
   "metadata": {
    "ExecuteTime": {
     "end_time": "2019-05-04T15:46:16.731659Z",
     "start_time": "2019-05-04T15:46:16.707724Z"
    }
   },
   "outputs": [],
   "source": [
    "model = build_cnn()"
   ]
  },
  {
   "cell_type": "code",
   "execution_count": 30,
   "metadata": {
    "ExecuteTime": {
     "end_time": "2019-05-04T15:52:03.387394Z",
     "start_time": "2019-05-04T15:46:26.426120Z"
    },
    "scrolled": true
   },
   "outputs": [
    {
     "name": "stdout",
     "output_type": "stream",
     "text": [
      "Train on 2470 samples, validate on 570 samples\n",
      "Epoch 1/250\n",
      "2470/2470 [==============================] - 3s 1ms/sample - loss: 6.5825 - mean_absolute_error: 6.5825 - acc: 0.9081 - val_loss: 5.5653 - val_mean_absolute_error: 5.5653 - val_acc: 0.9421\n",
      "Epoch 2/250\n",
      "2470/2470 [==============================] - 3s 1ms/sample - loss: 5.5428 - mean_absolute_error: 5.5428 - acc: 0.9421 - val_loss: 6.5229 - val_mean_absolute_error: 6.5229 - val_acc: 0.9421\n",
      "Epoch 3/250\n",
      "2470/2470 [==============================] - 3s 1ms/sample - loss: 4.9035 - mean_absolute_error: 4.9035 - acc: 0.9421 - val_loss: 6.7880 - val_mean_absolute_error: 6.7880 - val_acc: 0.9421\n",
      "Epoch 4/250\n",
      "2470/2470 [==============================] - 3s 1ms/sample - loss: 4.2561 - mean_absolute_error: 4.2561 - acc: 0.9409 - val_loss: 6.7759 - val_mean_absolute_error: 6.7759 - val_acc: 0.9421\n",
      "Epoch 5/250\n",
      "2470/2470 [==============================] - 3s 1ms/sample - loss: 3.8697 - mean_absolute_error: 3.8697 - acc: 0.9413 - val_loss: 7.0911 - val_mean_absolute_error: 7.0911 - val_acc: 0.9421\n",
      "Epoch 6/250\n",
      "2470/2470 [==============================] - 3s 1ms/sample - loss: 3.6146 - mean_absolute_error: 3.6146 - acc: 0.9429 - val_loss: 7.2771 - val_mean_absolute_error: 7.2771 - val_acc: 0.9421\n",
      "Epoch 7/250\n",
      "2470/2470 [==============================] - 3s 1ms/sample - loss: 3.5066 - mean_absolute_error: 3.5066 - acc: 0.9425 - val_loss: 6.3620 - val_mean_absolute_error: 6.3620 - val_acc: 0.9421\n",
      "Epoch 8/250\n",
      "2470/2470 [==============================] - 3s 1ms/sample - loss: 3.4272 - mean_absolute_error: 3.4272 - acc: 0.9437 - val_loss: 6.4497 - val_mean_absolute_error: 6.4497 - val_acc: 0.9421\n",
      "Epoch 9/250\n",
      "2470/2470 [==============================] - 3s 1ms/sample - loss: 3.4091 - mean_absolute_error: 3.4091 - acc: 0.9429 - val_loss: 7.0074 - val_mean_absolute_error: 7.0074 - val_acc: 0.9211\n",
      "Epoch 10/250\n",
      "2470/2470 [==============================] - 3s 1ms/sample - loss: 3.3183 - mean_absolute_error: 3.3183 - acc: 0.9462 - val_loss: 7.5494 - val_mean_absolute_error: 7.5494 - val_acc: 0.9298\n",
      "Epoch 11/250\n",
      "2470/2470 [==============================] - 3s 1ms/sample - loss: 3.2352 - mean_absolute_error: 3.2352 - acc: 0.9466 - val_loss: 6.0688 - val_mean_absolute_error: 6.0688 - val_acc: 0.9281\n",
      "Epoch 12/250\n",
      "2470/2470 [==============================] - 3s 1ms/sample - loss: 3.2004 - mean_absolute_error: 3.2004 - acc: 0.9457 - val_loss: 8.5747 - val_mean_absolute_error: 8.5747 - val_acc: 0.8807\n",
      "Epoch 13/250\n",
      "2470/2470 [==============================] - 3s 1ms/sample - loss: 3.1614 - mean_absolute_error: 3.1614 - acc: 0.9421 - val_loss: 8.2517 - val_mean_absolute_error: 8.2517 - val_acc: 0.8702\n",
      "Epoch 14/250\n",
      "2470/2470 [==============================] - 3s 1ms/sample - loss: 3.0961 - mean_absolute_error: 3.0961 - acc: 0.9474 - val_loss: 7.9097 - val_mean_absolute_error: 7.9097 - val_acc: 0.8877\n",
      "Epoch 15/250\n",
      "2470/2470 [==============================] - 3s 1ms/sample - loss: 3.0898 - mean_absolute_error: 3.0898 - acc: 0.9490 - val_loss: 7.2042 - val_mean_absolute_error: 7.2042 - val_acc: 0.9158\n",
      "Epoch 16/250\n",
      "2470/2470 [==============================] - 3s 1ms/sample - loss: 3.0585 - mean_absolute_error: 3.0585 - acc: 0.9470 - val_loss: 6.7411 - val_mean_absolute_error: 6.7411 - val_acc: 0.9193\n",
      "Epoch 17/250\n",
      "2470/2470 [==============================] - 3s 1ms/sample - loss: 3.0163 - mean_absolute_error: 3.0163 - acc: 0.9470 - val_loss: 7.2515 - val_mean_absolute_error: 7.2515 - val_acc: 0.8982\n",
      "Epoch 18/250\n",
      "2470/2470 [==============================] - 3s 1ms/sample - loss: 2.9301 - mean_absolute_error: 2.9301 - acc: 0.9478 - val_loss: 7.6844 - val_mean_absolute_error: 7.6844 - val_acc: 0.9175\n",
      "Epoch 19/250\n",
      "2470/2470 [==============================] - 3s 1ms/sample - loss: 2.9392 - mean_absolute_error: 2.9392 - acc: 0.9457 - val_loss: 6.6096 - val_mean_absolute_error: 6.6096 - val_acc: 0.9281\n",
      "Epoch 20/250\n",
      "2470/2470 [==============================] - 3s 1ms/sample - loss: 2.9401 - mean_absolute_error: 2.9401 - acc: 0.9441 - val_loss: 6.9178 - val_mean_absolute_error: 6.9178 - val_acc: 0.9298\n",
      "Epoch 21/250\n",
      "2470/2470 [==============================] - 3s 1ms/sample - loss: 2.8559 - mean_absolute_error: 2.8559 - acc: 0.9482 - val_loss: 7.7198 - val_mean_absolute_error: 7.7198 - val_acc: 0.9053\n",
      "Epoch 22/250\n",
      "2470/2470 [==============================] - 3s 1ms/sample - loss: 2.8445 - mean_absolute_error: 2.8445 - acc: 0.9486 - val_loss: 5.4936 - val_mean_absolute_error: 5.4936 - val_acc: 0.9298\n",
      "Epoch 23/250\n",
      "2470/2470 [==============================] - 3s 1ms/sample - loss: 2.8299 - mean_absolute_error: 2.8299 - acc: 0.9466 - val_loss: 6.4309 - val_mean_absolute_error: 6.4309 - val_acc: 0.9123\n",
      "Epoch 24/250\n",
      "2470/2470 [==============================] - 3s 1ms/sample - loss: 2.7652 - mean_absolute_error: 2.7652 - acc: 0.9494 - val_loss: 6.9325 - val_mean_absolute_error: 6.9325 - val_acc: 0.9035\n",
      "Epoch 25/250\n",
      "2470/2470 [==============================] - 3s 1ms/sample - loss: 2.7334 - mean_absolute_error: 2.7334 - acc: 0.9482 - val_loss: 6.4311 - val_mean_absolute_error: 6.4311 - val_acc: 0.9105\n",
      "Epoch 26/250\n",
      "2470/2470 [==============================] - 3s 1ms/sample - loss: 2.7321 - mean_absolute_error: 2.7321 - acc: 0.9486 - val_loss: 7.5297 - val_mean_absolute_error: 7.5297 - val_acc: 0.9053\n",
      "Epoch 27/250\n",
      "2470/2470 [==============================] - 3s 1ms/sample - loss: 2.6766 - mean_absolute_error: 2.6766 - acc: 0.9453 - val_loss: 6.2961 - val_mean_absolute_error: 6.2961 - val_acc: 0.9298\n",
      "Epoch 28/250\n",
      "2470/2470 [==============================] - 3s 1ms/sample - loss: 2.7109 - mean_absolute_error: 2.7109 - acc: 0.9530 - val_loss: 7.2135 - val_mean_absolute_error: 7.2135 - val_acc: 0.9175\n",
      "Epoch 29/250\n",
      "2470/2470 [==============================] - 3s 1ms/sample - loss: 2.6880 - mean_absolute_error: 2.6880 - acc: 0.9494 - val_loss: 6.2545 - val_mean_absolute_error: 6.2545 - val_acc: 0.9193\n",
      "Epoch 30/250\n",
      "2470/2470 [==============================] - 3s 1ms/sample - loss: 2.6791 - mean_absolute_error: 2.6791 - acc: 0.9462 - val_loss: 6.4323 - val_mean_absolute_error: 6.4323 - val_acc: 0.9158\n",
      "Epoch 31/250\n",
      "2470/2470 [==============================] - 3s 1ms/sample - loss: 2.5886 - mean_absolute_error: 2.5886 - acc: 0.9486 - val_loss: 6.8873 - val_mean_absolute_error: 6.8873 - val_acc: 0.9105\n",
      "Epoch 32/250\n",
      "2470/2470 [==============================] - 3s 1ms/sample - loss: 2.6565 - mean_absolute_error: 2.6565 - acc: 0.9510 - val_loss: 7.7572 - val_mean_absolute_error: 7.7572 - val_acc: 0.8825\n",
      "Epoch 33/250\n",
      "2470/2470 [==============================] - 3s 1ms/sample - loss: 2.5481 - mean_absolute_error: 2.5481 - acc: 0.9498 - val_loss: 6.5617 - val_mean_absolute_error: 6.5617 - val_acc: 0.9140\n",
      "Epoch 34/250\n",
      "2470/2470 [==============================] - 3s 1ms/sample - loss: 2.5836 - mean_absolute_error: 2.5836 - acc: 0.9470 - val_loss: 7.5915 - val_mean_absolute_error: 7.5915 - val_acc: 0.8860\n",
      "Epoch 35/250\n",
      "2470/2470 [==============================] - 3s 1ms/sample - loss: 2.5758 - mean_absolute_error: 2.5758 - acc: 0.9510 - val_loss: 7.3629 - val_mean_absolute_error: 7.3629 - val_acc: 0.8895\n",
      "Epoch 36/250\n",
      "2470/2470 [==============================] - 3s 1ms/sample - loss: 2.5395 - mean_absolute_error: 2.5395 - acc: 0.9510 - val_loss: 7.2274 - val_mean_absolute_error: 7.2274 - val_acc: 0.8912\n",
      "Epoch 37/250\n",
      "2470/2470 [==============================] - 3s 1ms/sample - loss: 2.4908 - mean_absolute_error: 2.4908 - acc: 0.9547 - val_loss: 6.3318 - val_mean_absolute_error: 6.3318 - val_acc: 0.9000\n",
      "Epoch 38/250\n",
      "2470/2470 [==============================] - 3s 1ms/sample - loss: 2.5140 - mean_absolute_error: 2.5140 - acc: 0.9514 - val_loss: 7.3071 - val_mean_absolute_error: 7.3071 - val_acc: 0.8807\n",
      "Epoch 39/250\n",
      "2470/2470 [==============================] - 3s 1ms/sample - loss: 2.4991 - mean_absolute_error: 2.4991 - acc: 0.9514 - val_loss: 7.8152 - val_mean_absolute_error: 7.8152 - val_acc: 0.8807\n",
      "Epoch 40/250\n",
      "2470/2470 [==============================] - 3s 1ms/sample - loss: 2.4803 - mean_absolute_error: 2.4803 - acc: 0.9514 - val_loss: 5.9772 - val_mean_absolute_error: 5.9772 - val_acc: 0.9105\n",
      "Epoch 41/250\n"
     ]
    },
    {
     "name": "stdout",
     "output_type": "stream",
     "text": [
      "2470/2470 [==============================] - 3s 1ms/sample - loss: 2.4440 - mean_absolute_error: 2.4440 - acc: 0.9490 - val_loss: 6.0463 - val_mean_absolute_error: 6.0463 - val_acc: 0.8807\n",
      "Epoch 42/250\n",
      "2470/2470 [==============================] - 3s 1ms/sample - loss: 2.4727 - mean_absolute_error: 2.4727 - acc: 0.9510 - val_loss: 6.0107 - val_mean_absolute_error: 6.0107 - val_acc: 0.9018\n",
      "Epoch 43/250\n",
      "2470/2470 [==============================] - 3s 1ms/sample - loss: 2.4627 - mean_absolute_error: 2.4627 - acc: 0.9543 - val_loss: 5.8781 - val_mean_absolute_error: 5.8781 - val_acc: 0.9088\n",
      "Epoch 44/250\n",
      "2470/2470 [==============================] - 3s 1ms/sample - loss: 2.4136 - mean_absolute_error: 2.4136 - acc: 0.9518 - val_loss: 7.4220 - val_mean_absolute_error: 7.4220 - val_acc: 0.8807\n",
      "Epoch 45/250\n",
      "2470/2470 [==============================] - 3s 1ms/sample - loss: 2.4073 - mean_absolute_error: 2.4073 - acc: 0.9530 - val_loss: 7.0434 - val_mean_absolute_error: 7.0434 - val_acc: 0.8807\n",
      "Epoch 46/250\n",
      "2470/2470 [==============================] - 3s 1ms/sample - loss: 2.3942 - mean_absolute_error: 2.3942 - acc: 0.9563 - val_loss: 6.4938 - val_mean_absolute_error: 6.4938 - val_acc: 0.8860\n",
      "Epoch 47/250\n",
      "2470/2470 [==============================] - 3s 1ms/sample - loss: 2.3757 - mean_absolute_error: 2.3757 - acc: 0.9563 - val_loss: 7.5838 - val_mean_absolute_error: 7.5838 - val_acc: 0.8842\n",
      "Epoch 48/250\n",
      "2470/2470 [==============================] - 3s 1ms/sample - loss: 2.3047 - mean_absolute_error: 2.3047 - acc: 0.9555 - val_loss: 5.6856 - val_mean_absolute_error: 5.6856 - val_acc: 0.9246\n",
      "Epoch 49/250\n",
      "2470/2470 [==============================] - 3s 1ms/sample - loss: 2.3411 - mean_absolute_error: 2.3411 - acc: 0.9555 - val_loss: 6.8541 - val_mean_absolute_error: 6.8541 - val_acc: 0.8965\n",
      "Epoch 50/250\n",
      "2470/2470 [==============================] - 3s 1ms/sample - loss: 2.3486 - mean_absolute_error: 2.3486 - acc: 0.9551 - val_loss: 7.0383 - val_mean_absolute_error: 7.0383 - val_acc: 0.8754\n",
      "Epoch 51/250\n",
      "2470/2470 [==============================] - 3s 1ms/sample - loss: 2.3482 - mean_absolute_error: 2.3482 - acc: 0.9538 - val_loss: 6.6391 - val_mean_absolute_error: 6.6391 - val_acc: 0.8895\n",
      "Epoch 52/250\n",
      "2470/2470 [==============================] - 3s 1ms/sample - loss: 2.3190 - mean_absolute_error: 2.3190 - acc: 0.9583 - val_loss: 7.4148 - val_mean_absolute_error: 7.4148 - val_acc: 0.8825\n",
      "Epoch 53/250\n",
      "2470/2470 [==============================] - 3s 1ms/sample - loss: 2.2643 - mean_absolute_error: 2.2643 - acc: 0.9563 - val_loss: 6.3796 - val_mean_absolute_error: 6.3796 - val_acc: 0.8930\n",
      "Epoch 54/250\n",
      "2470/2470 [==============================] - 3s 1ms/sample - loss: 2.3319 - mean_absolute_error: 2.3319 - acc: 0.9587 - val_loss: 8.2357 - val_mean_absolute_error: 8.2357 - val_acc: 0.8719\n",
      "Epoch 55/250\n",
      "2470/2470 [==============================] - 3s 1ms/sample - loss: 2.1605 - mean_absolute_error: 2.1605 - acc: 0.9583 - val_loss: 7.8035 - val_mean_absolute_error: 7.8035 - val_acc: 0.8719\n",
      "Epoch 56/250\n",
      "2470/2470 [==============================] - 3s 1ms/sample - loss: 2.2700 - mean_absolute_error: 2.2700 - acc: 0.9628 - val_loss: 6.1097 - val_mean_absolute_error: 6.1097 - val_acc: 0.9000\n",
      "Epoch 57/250\n",
      "2470/2470 [==============================] - 3s 1ms/sample - loss: 2.2337 - mean_absolute_error: 2.2337 - acc: 0.9555 - val_loss: 7.8250 - val_mean_absolute_error: 7.8250 - val_acc: 0.8596\n",
      "Epoch 58/250\n",
      "2470/2470 [==============================] - 3s 1ms/sample - loss: 2.2294 - mean_absolute_error: 2.2294 - acc: 0.9579 - val_loss: 5.8740 - val_mean_absolute_error: 5.8740 - val_acc: 0.8982\n",
      "Epoch 59/250\n",
      "2470/2470 [==============================] - 3s 1ms/sample - loss: 2.2501 - mean_absolute_error: 2.2501 - acc: 0.9575 - val_loss: 8.2662 - val_mean_absolute_error: 8.2662 - val_acc: 0.8737\n",
      "Epoch 60/250\n",
      "2470/2470 [==============================] - 3s 1ms/sample - loss: 2.2121 - mean_absolute_error: 2.2121 - acc: 0.9603 - val_loss: 8.1330 - val_mean_absolute_error: 8.1330 - val_acc: 0.8719\n",
      "Epoch 61/250\n",
      "2470/2470 [==============================] - 3s 1ms/sample - loss: 2.1376 - mean_absolute_error: 2.1376 - acc: 0.9591 - val_loss: 7.6387 - val_mean_absolute_error: 7.6387 - val_acc: 0.8825\n",
      "Epoch 62/250\n",
      "2470/2470 [==============================] - 3s 1ms/sample - loss: 2.1474 - mean_absolute_error: 2.1474 - acc: 0.9611 - val_loss: 6.3055 - val_mean_absolute_error: 6.3055 - val_acc: 0.9070\n",
      "Epoch 63/250\n",
      "2470/2470 [==============================] - 3s 1ms/sample - loss: 2.1735 - mean_absolute_error: 2.1735 - acc: 0.9636 - val_loss: 6.5565 - val_mean_absolute_error: 6.5565 - val_acc: 0.8947\n",
      "Epoch 64/250\n",
      "2470/2470 [==============================] - 3s 1ms/sample - loss: 2.1378 - mean_absolute_error: 2.1378 - acc: 0.9563 - val_loss: 6.2999 - val_mean_absolute_error: 6.2999 - val_acc: 0.9158\n",
      "Epoch 65/250\n",
      "2470/2470 [==============================] - 3s 1ms/sample - loss: 2.1409 - mean_absolute_error: 2.1409 - acc: 0.9652 - val_loss: 6.6546 - val_mean_absolute_error: 6.6546 - val_acc: 0.8807\n",
      "Epoch 66/250\n",
      "2470/2470 [==============================] - 3s 1ms/sample - loss: 2.1153 - mean_absolute_error: 2.1153 - acc: 0.9652 - val_loss: 6.9813 - val_mean_absolute_error: 6.9813 - val_acc: 0.8842\n",
      "Epoch 67/250\n",
      "2470/2470 [==============================] - 3s 1ms/sample - loss: 2.1110 - mean_absolute_error: 2.1110 - acc: 0.9632 - val_loss: 6.8923 - val_mean_absolute_error: 6.8923 - val_acc: 0.8860\n",
      "Epoch 68/250\n",
      "2470/2470 [==============================] - 3s 1ms/sample - loss: 2.0880 - mean_absolute_error: 2.0880 - acc: 0.9599 - val_loss: 6.7416 - val_mean_absolute_error: 6.7416 - val_acc: 0.8842\n",
      "Epoch 69/250\n",
      "2470/2470 [==============================] - 3s 1ms/sample - loss: 2.0425 - mean_absolute_error: 2.0425 - acc: 0.9632 - val_loss: 7.5377 - val_mean_absolute_error: 7.5377 - val_acc: 0.8632\n",
      "Epoch 70/250\n",
      "2470/2470 [==============================] - 3s 1ms/sample - loss: 2.0376 - mean_absolute_error: 2.0376 - acc: 0.9623 - val_loss: 6.8016 - val_mean_absolute_error: 6.8016 - val_acc: 0.8842\n",
      "Epoch 71/250\n",
      "2470/2470 [==============================] - 3s 1ms/sample - loss: 2.0217 - mean_absolute_error: 2.0217 - acc: 0.9672 - val_loss: 6.3610 - val_mean_absolute_error: 6.3610 - val_acc: 0.8860\n",
      "Epoch 72/250\n",
      "2470/2470 [==============================] - 3s 1ms/sample - loss: 2.0414 - mean_absolute_error: 2.0414 - acc: 0.9660 - val_loss: 7.5646 - val_mean_absolute_error: 7.5646 - val_acc: 0.8860\n",
      "Epoch 73/250\n",
      "2470/2470 [==============================] - 3s 1ms/sample - loss: 2.0310 - mean_absolute_error: 2.0310 - acc: 0.9648 - val_loss: 8.1821 - val_mean_absolute_error: 8.1821 - val_acc: 0.8702\n",
      "Epoch 74/250\n",
      "2470/2470 [==============================] - 3s 1ms/sample - loss: 1.9647 - mean_absolute_error: 1.9647 - acc: 0.9668 - val_loss: 8.2554 - val_mean_absolute_error: 8.2554 - val_acc: 0.8702\n",
      "Epoch 75/250\n",
      "2470/2470 [==============================] - 3s 1ms/sample - loss: 2.0172 - mean_absolute_error: 2.0172 - acc: 0.9664 - val_loss: 8.3378 - val_mean_absolute_error: 8.3378 - val_acc: 0.8719\n",
      "Epoch 76/250\n",
      "2470/2470 [==============================] - 3s 1ms/sample - loss: 2.0168 - mean_absolute_error: 2.0168 - acc: 0.9725 - val_loss: 6.7233 - val_mean_absolute_error: 6.7233 - val_acc: 0.8947\n",
      "Epoch 77/250\n",
      "2470/2470 [==============================] - 3s 1ms/sample - loss: 1.9812 - mean_absolute_error: 1.9812 - acc: 0.9709 - val_loss: 7.7551 - val_mean_absolute_error: 7.7551 - val_acc: 0.8772\n",
      "Epoch 78/250\n",
      "2470/2470 [==============================] - 3s 1ms/sample - loss: 1.9866 - mean_absolute_error: 1.9866 - acc: 0.9652 - val_loss: 6.5102 - val_mean_absolute_error: 6.5102 - val_acc: 0.8754\n",
      "Epoch 79/250\n",
      "2470/2470 [==============================] - 3s 1ms/sample - loss: 1.9508 - mean_absolute_error: 1.9508 - acc: 0.9692 - val_loss: 7.2208 - val_mean_absolute_error: 7.2208 - val_acc: 0.8754\n",
      "Epoch 80/250\n",
      "2470/2470 [==============================] - 3s 1ms/sample - loss: 1.9816 - mean_absolute_error: 1.9816 - acc: 0.9656 - val_loss: 7.0392 - val_mean_absolute_error: 7.0392 - val_acc: 0.8860\n",
      "Epoch 81/250\n",
      "2470/2470 [==============================] - 3s 1ms/sample - loss: 1.9137 - mean_absolute_error: 1.9137 - acc: 0.9700 - val_loss: 7.0466 - val_mean_absolute_error: 7.0466 - val_acc: 0.8860\n"
     ]
    },
    {
     "name": "stdout",
     "output_type": "stream",
     "text": [
      "Epoch 82/250\n",
      "2470/2470 [==============================] - 3s 1ms/sample - loss: 1.9177 - mean_absolute_error: 1.9177 - acc: 0.9688 - val_loss: 6.8626 - val_mean_absolute_error: 6.8626 - val_acc: 0.8912\n",
      "Epoch 83/250\n",
      "2470/2470 [==============================] - 3s 1ms/sample - loss: 1.9412 - mean_absolute_error: 1.9412 - acc: 0.9664 - val_loss: 8.2666 - val_mean_absolute_error: 8.2666 - val_acc: 0.8596\n",
      "Epoch 84/250\n",
      "2470/2470 [==============================] - 3s 1ms/sample - loss: 1.9442 - mean_absolute_error: 1.9442 - acc: 0.9700 - val_loss: 6.7690 - val_mean_absolute_error: 6.7690 - val_acc: 0.8860\n",
      "Epoch 85/250\n",
      "2470/2470 [==============================] - 3s 1ms/sample - loss: 1.8887 - mean_absolute_error: 1.8887 - acc: 0.9644 - val_loss: 7.3703 - val_mean_absolute_error: 7.3703 - val_acc: 0.8737\n",
      "Epoch 86/250\n",
      "2470/2470 [==============================] - 3s 1ms/sample - loss: 1.8971 - mean_absolute_error: 1.8971 - acc: 0.9672 - val_loss: 8.3366 - val_mean_absolute_error: 8.3366 - val_acc: 0.8825\n",
      "Epoch 87/250\n",
      "2470/2470 [==============================] - 3s 1ms/sample - loss: 1.8693 - mean_absolute_error: 1.8693 - acc: 0.9688 - val_loss: 6.6572 - val_mean_absolute_error: 6.6572 - val_acc: 0.9140\n",
      "Epoch 88/250\n",
      "2470/2470 [==============================] - 3s 1ms/sample - loss: 1.8599 - mean_absolute_error: 1.8599 - acc: 0.9713 - val_loss: 7.7453 - val_mean_absolute_error: 7.7453 - val_acc: 0.8825\n",
      "Epoch 89/250\n",
      "2470/2470 [==============================] - 3s 1ms/sample - loss: 1.8920 - mean_absolute_error: 1.8920 - acc: 0.9704 - val_loss: 7.2169 - val_mean_absolute_error: 7.2169 - val_acc: 0.8772\n",
      "Epoch 90/250\n",
      "2470/2470 [==============================] - 3s 1ms/sample - loss: 1.8522 - mean_absolute_error: 1.8522 - acc: 0.9717 - val_loss: 8.4699 - val_mean_absolute_error: 8.4699 - val_acc: 0.8737\n",
      "Epoch 91/250\n",
      "2470/2470 [==============================] - 3s 1ms/sample - loss: 1.8334 - mean_absolute_error: 1.8334 - acc: 0.9713 - val_loss: 7.0310 - val_mean_absolute_error: 7.0310 - val_acc: 0.8982\n",
      "Epoch 92/250\n",
      "2470/2470 [==============================] - 3s 1ms/sample - loss: 1.8765 - mean_absolute_error: 1.8765 - acc: 0.9717 - val_loss: 8.5229 - val_mean_absolute_error: 8.5229 - val_acc: 0.8667\n",
      "Epoch 93/250\n",
      "2470/2470 [==============================] - 3s 1ms/sample - loss: 1.8362 - mean_absolute_error: 1.8362 - acc: 0.9709 - val_loss: 7.5981 - val_mean_absolute_error: 7.5981 - val_acc: 0.8860\n",
      "Epoch 94/250\n",
      "2470/2470 [==============================] - 3s 1ms/sample - loss: 1.8586 - mean_absolute_error: 1.8586 - acc: 0.9737 - val_loss: 7.6900 - val_mean_absolute_error: 7.6900 - val_acc: 0.8860\n",
      "Epoch 95/250\n",
      "2470/2470 [==============================] - 3s 1ms/sample - loss: 1.7949 - mean_absolute_error: 1.7949 - acc: 0.9741 - val_loss: 7.1688 - val_mean_absolute_error: 7.1688 - val_acc: 0.9035\n",
      "Epoch 96/250\n",
      "2470/2470 [==============================] - 3s 1ms/sample - loss: 1.8500 - mean_absolute_error: 1.8500 - acc: 0.9729 - val_loss: 6.8951 - val_mean_absolute_error: 6.8951 - val_acc: 0.9053\n",
      "Epoch 97/250\n",
      "2470/2470 [==============================] - 3s 1ms/sample - loss: 1.8227 - mean_absolute_error: 1.8227 - acc: 0.9704 - val_loss: 7.2235 - val_mean_absolute_error: 7.2235 - val_acc: 0.8842\n",
      "Epoch 98/250\n",
      "2470/2470 [==============================] - 3s 1ms/sample - loss: 1.7771 - mean_absolute_error: 1.7771 - acc: 0.9729 - val_loss: 6.8060 - val_mean_absolute_error: 6.8060 - val_acc: 0.8947\n",
      "Epoch 99/250\n",
      "2470/2470 [==============================] - 3s 1ms/sample - loss: 1.7593 - mean_absolute_error: 1.7593 - acc: 0.9749 - val_loss: 8.4832 - val_mean_absolute_error: 8.4832 - val_acc: 0.8772\n",
      "Epoch 100/250\n",
      "2470/2470 [==============================] - 3s 1ms/sample - loss: 1.7616 - mean_absolute_error: 1.7616 - acc: 0.9725 - val_loss: 6.8634 - val_mean_absolute_error: 6.8634 - val_acc: 0.8930\n",
      "Epoch 101/250\n",
      "2470/2470 [==============================] - 3s 1ms/sample - loss: 1.7886 - mean_absolute_error: 1.7886 - acc: 0.9741 - val_loss: 7.6723 - val_mean_absolute_error: 7.6723 - val_acc: 0.8754\n",
      "Epoch 102/250\n",
      "2470/2470 [==============================] - 3s 1ms/sample - loss: 1.7537 - mean_absolute_error: 1.7537 - acc: 0.9761 - val_loss: 7.3873 - val_mean_absolute_error: 7.3873 - val_acc: 0.8719\n",
      "Epoch 103/250\n",
      "2470/2470 [==============================] - 3s 1ms/sample - loss: 1.7649 - mean_absolute_error: 1.7649 - acc: 0.9761 - val_loss: 6.9498 - val_mean_absolute_error: 6.9498 - val_acc: 0.8965\n",
      "Epoch 104/250\n",
      "2470/2470 [==============================] - 3s 1ms/sample - loss: 1.7126 - mean_absolute_error: 1.7126 - acc: 0.9789 - val_loss: 6.3298 - val_mean_absolute_error: 6.3298 - val_acc: 0.9000\n",
      "Epoch 105/250\n",
      "2470/2470 [==============================] - 3s 1ms/sample - loss: 1.7547 - mean_absolute_error: 1.7547 - acc: 0.9733 - val_loss: 7.8555 - val_mean_absolute_error: 7.8555 - val_acc: 0.8789\n",
      "Epoch 106/250\n",
      "2470/2470 [==============================] - 3s 1ms/sample - loss: 1.7603 - mean_absolute_error: 1.7603 - acc: 0.9785 - val_loss: 7.9822 - val_mean_absolute_error: 7.9822 - val_acc: 0.8632\n",
      "Epoch 107/250\n",
      "2470/2470 [==============================] - 3s 1ms/sample - loss: 1.7716 - mean_absolute_error: 1.7716 - acc: 0.9745 - val_loss: 7.5413 - val_mean_absolute_error: 7.5413 - val_acc: 0.8912\n",
      "Epoch 108/250\n",
      "2470/2470 [==============================] - 3s 1ms/sample - loss: 1.7526 - mean_absolute_error: 1.7526 - acc: 0.9709 - val_loss: 6.6540 - val_mean_absolute_error: 6.6540 - val_acc: 0.8877\n",
      "Epoch 109/250\n",
      "2470/2470 [==============================] - 3s 1ms/sample - loss: 1.7721 - mean_absolute_error: 1.7721 - acc: 0.9810 - val_loss: 7.0060 - val_mean_absolute_error: 7.0060 - val_acc: 0.8860\n",
      "Epoch 110/250\n",
      "2470/2470 [==============================] - 3s 1ms/sample - loss: 1.6566 - mean_absolute_error: 1.6566 - acc: 0.9769 - val_loss: 7.3291 - val_mean_absolute_error: 7.3291 - val_acc: 0.8877\n",
      "Epoch 111/250\n",
      "2470/2470 [==============================] - 3s 1ms/sample - loss: 1.7871 - mean_absolute_error: 1.7871 - acc: 0.9745 - val_loss: 7.3314 - val_mean_absolute_error: 7.3314 - val_acc: 0.8807\n",
      "Epoch 112/250\n",
      "2470/2470 [==============================] - 3s 1ms/sample - loss: 1.6972 - mean_absolute_error: 1.6972 - acc: 0.9757 - val_loss: 8.2632 - val_mean_absolute_error: 8.2632 - val_acc: 0.8667\n",
      "Epoch 113/250\n",
      "2470/2470 [==============================] - 3s 1ms/sample - loss: 1.7207 - mean_absolute_error: 1.7207 - acc: 0.9769 - val_loss: 7.6358 - val_mean_absolute_error: 7.6358 - val_acc: 0.8895\n",
      "Epoch 114/250\n",
      "2470/2470 [==============================] - 3s 1ms/sample - loss: 1.7508 - mean_absolute_error: 1.7508 - acc: 0.9769 - val_loss: 7.2816 - val_mean_absolute_error: 7.2816 - val_acc: 0.8965\n",
      "Epoch 115/250\n",
      "2470/2470 [==============================] - 3s 1ms/sample - loss: 1.7023 - mean_absolute_error: 1.7023 - acc: 0.9789 - val_loss: 7.9889 - val_mean_absolute_error: 7.9889 - val_acc: 0.8754\n",
      "Epoch 116/250\n",
      "2470/2470 [==============================] - 3s 1ms/sample - loss: 1.7110 - mean_absolute_error: 1.7110 - acc: 0.9757 - val_loss: 7.7349 - val_mean_absolute_error: 7.7349 - val_acc: 0.8860\n",
      "Epoch 117/250\n",
      "2470/2470 [==============================] - 3s 1ms/sample - loss: 1.6940 - mean_absolute_error: 1.6940 - acc: 0.9769 - val_loss: 8.2332 - val_mean_absolute_error: 8.2332 - val_acc: 0.8789\n",
      "Epoch 118/250\n",
      "2470/2470 [==============================] - 3s 1ms/sample - loss: 1.7023 - mean_absolute_error: 1.7023 - acc: 0.9794 - val_loss: 6.9524 - val_mean_absolute_error: 6.9524 - val_acc: 0.8947\n",
      "Epoch 119/250\n",
      "2470/2470 [==============================] - 3s 1ms/sample - loss: 1.6738 - mean_absolute_error: 1.6738 - acc: 0.9818 - val_loss: 7.2048 - val_mean_absolute_error: 7.2048 - val_acc: 0.8842\n",
      "Epoch 120/250\n",
      "2470/2470 [==============================] - 3s 1ms/sample - loss: 1.7012 - mean_absolute_error: 1.7012 - acc: 0.9777 - val_loss: 6.7099 - val_mean_absolute_error: 6.7099 - val_acc: 0.8930\n"
     ]
    }
   ],
   "source": [
    "train_data = train_data.reshape(train_data.shape[0], train_data.shape[1], train_data.shape[2], 1)\n",
    "test_data = test_data.reshape(test_data.shape[0], test_data.shape[1], test_data.shape[2], 1)\n",
    "\n",
    "# The patience parameter is the amount of epochs to check for improvement\n",
    "early_stop = keras.callbacks.EarlyStopping(monitor='loss', patience=10)\n",
    "\n",
    "history = model.fit(train_data, train_labels, validation_data=(test_data, test_labels), epochs=250, batch_size=32, verbose=1, callbacks=[early_stop])\n",
    "test_predic = model.predict(test_data)\n",
    "train_predic = model.predict(train_data)\n",
    "\n",
    "if not os.path.exists(savedir):\n",
    "    os.makedirs(savedir)\n",
    "\n",
    "model.save(savedir + 'model.h5')\n",
    "\n",
    "# sess.graph contains the graph definition; that enables the Graph Visualizer.\n",
    "\n",
    "file_writer = tf.summary.FileWriter(savedir + '/logs/', sess.graph)"
   ]
  },
  {
   "cell_type": "markdown",
   "metadata": {},
   "source": [
    "### Examine Results"
   ]
  },
  {
   "cell_type": "code",
   "execution_count": 33,
   "metadata": {
    "ExecuteTime": {
     "end_time": "2019-05-04T15:52:17.510172Z",
     "start_time": "2019-05-04T15:52:16.336054Z"
    }
   },
   "outputs": [
    {
     "data": {
      "image/png": "[encoded data removed]",
      "text/plain": [
       "<Figure size 432x288 with 1 Axes>"
      ]
     },
     "metadata": {
      "needs_background": "light"
     },
     "output_type": "display_data"
    }
   ],
   "source": [
    "def plot_history(history):\n",
    "    hist = pd.DataFrame(history.history)\n",
    "    hist['epoch'] = history.epoch\n",
    "\n",
    "    plt.figure()\n",
    "    plt.xlabel('Epoch')\n",
    "    plt.ylabel('Mean Abs Error')\n",
    "    plt.plot(hist['epoch'], hist['mean_absolute_error'],\n",
    "           label='Train Error')\n",
    "    plt.plot(hist['epoch'], hist['val_mean_absolute_error'],\n",
    "           label = 'Val Error')\n",
    "#     plt.ylim([0,5])\n",
    "    plt.legend()\n",
    "    plt.savefig(savedir + \"History.png\", dpi = 600, bbox_inches='tight')\n",
    "    plt.show()\n",
    "\n",
    "\n",
    "plot_history(history)"
   ]
  },
  {
   "cell_type": "code",
   "execution_count": 37,
   "metadata": {
    "ExecuteTime": {
     "end_time": "2019-05-04T15:54:27.085377Z",
     "start_time": "2019-05-04T15:54:23.959168Z"
    }
   },
   "outputs": [
    {
     "data": {
      "image/png": "[encoded data removed]",
      "text/plain": [
       "<Figure size 432x288 with 1 Axes>"
      ]
     },
     "metadata": {
      "needs_background": "light"
     },
     "output_type": "display_data"
    },
    {
     "data": {
      "image/png": "[encoded data removed]",
      "text/plain": [
       "<Figure size 432x288 with 1 Axes>"
      ]
     },
     "metadata": {
      "needs_background": "light"
     },
     "output_type": "display_data"
    }
   ],
   "source": [
    "# Score and visualize predictions\n",
    "from scipy.stats import pearsonr\n",
    "\n",
    "train_times = train_labels[:,0]\n",
    "train_pred_times = train_predic[:,0]\n",
    "\n",
    "train_shear = train_labels[:,1]\n",
    "train_pred_shear = train_predic[:,1]\n",
    "\n",
    "test_times = test_labels[:,0]\n",
    "test_pred_times = test_predic[:,0]\n",
    "\n",
    "test_shear = test_labels[:,1]\n",
    "test_pred_shear = test_predic[:,1]\n",
    "\n",
    "plt.figure()\n",
    "plt.scatter(test_times,test_pred_times, marker = \".\", color = 'k', alpha = .1)\n",
    "# plt.scatter(train_times, train_pred_times, marker = '.', color = 'b', alpha = .1)\n",
    "plt.plot([0, 10], [0, 10], '-r')\n",
    "plt.title('R = '+str(np.round(pearsonr(test_times, test_pred_times)[0], 3)))\n",
    "plt.xlim(0,8.5)\n",
    "plt.ylim(0,8.5)\n",
    "plt.xlabel('Actual Age [ln(sec)]')\n",
    "plt.ylabel('Predicted Age [ln(sec)]')\n",
    "plt.savefig(savedir + \"Age.png\", dpi = 600, bbox_inches='tight')\n",
    "plt.show()\n",
    "\n",
    "plt.figure()\n",
    "plt.scatter(test_shear,test_pred_shear, marker = \".\", color = 'k', alpha = .1)\n",
    "plt.scatter(train_shear, train_pred_shear, marker = '.', color = 'b', alpha = .1)\n",
    "plt.title('R = '+str(np.round(pearsonr(test_shear, test_pred_shear)[0], 3)))\n",
    "plt.plot([0, 100], [0, 100], '-r')\n",
    "plt.xlim(0,50)\n",
    "plt.ylim(0,50)\n",
    "plt.xlabel('Actual Shear [N]')\n",
    "plt.ylabel('Predicted Shear [N]')\n",
    "plt.savefig(savedir + \"Shear.png\", dpi = 600, bbox_inches='tight')\n",
    "plt.show()"
   ]
  },
  {
   "cell_type": "code",
   "execution_count": null,
   "metadata": {
    "hidden": true
   },
   "outputs": [],
   "source": []
  }
 ],
 "metadata": {
  "kernelspec": {
   "display_name": "Python 3",
   "language": "python",
   "name": "python3"
  },
  "language_info": {
   "codemirror_mode": {
    "name": "ipython",
    "version": 3
   },
   "file_extension": ".py",
   "mimetype": "text/x-python",
   "name": "python",
   "nbconvert_exporter": "python",
   "pygments_lexer": "ipython3",
   "version": "3.6.8"
  }
 },
 "nbformat": 4,
 "nbformat_minor": 2
}
