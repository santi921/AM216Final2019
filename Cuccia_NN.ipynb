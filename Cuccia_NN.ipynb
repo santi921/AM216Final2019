{
 "cells": [
  {
   "cell_type": "markdown",
   "metadata": {},
   "source": [
    "### Import Packages"
   ]
  },
  {
   "cell_type": "code",
   "execution_count": 95,
   "metadata": {
    "ExecuteTime": {
     "end_time": "2019-05-13T04:25:17.772264Z",
     "start_time": "2019-05-13T04:25:17.537875Z"
    }
   },
   "outputs": [
    {
     "name": "stdout",
     "output_type": "stream",
     "text": [
      "The autoreload extension is already loaded. To reload it, use:\n",
      "  %reload_ext autoreload\n",
      "/device:GPU:0\n"
     ]
    }
   ],
   "source": [
    "from __future__ import absolute_import, division, print_function\n",
    "%load_ext autoreload\n",
    "%autoreload 2\n",
    "\n",
    "import numpy as np\n",
    "from time import gmtime, strftime\n",
    "import random\n",
    "\n",
    "# TensorFlow and tf.keras\n",
    "import tensorflow as tf\n",
    "\n",
    "import aging as age\n",
    "\n",
    "print(tf.test.gpu_device_name())\n",
    "\n",
    "# Define directory with matlab files\n",
    "# direc = 'D:/MLdata/18-01-09d-Exp/Extract Data/'\n",
    "# direc  = 'D:/Nicholas_ML/18-01-09d-Exp/Extract Data/'\n",
    "direc = 'D:/MLdata/'\n",
    "# Define directory to save model and plots\n",
    "savedir = 'D:/MLdata/Model/' + strftime(\"%Y-%m-%d %H-%M\", gmtime()) + '/'\n",
    "\n",
    "random.seed(0)\n",
    "np.random.seed(0)"
   ]
  },
  {
   "cell_type": "markdown",
   "metadata": {},
   "source": [
    "### Import Data"
   ]
  },
  {
   "cell_type": "markdown",
   "metadata": {},
   "source": [
    "A lot of things are hidden behind the scenes in this code.  This allows for compactness within the Jupyter notebook.\n",
    "\n",
    "In order to properly import the data, there are several options which can be varied."
   ]
  },
  {
   "cell_type": "code",
   "execution_count": 96,
   "metadata": {
    "ExecuteTime": {
     "end_time": "2019-05-13T04:25:18.803722Z",
     "start_time": "2019-05-13T04:25:18.600436Z"
    }
   },
   "outputs": [
    {
     "name": "stdout",
     "output_type": "stream",
     "text": [
      "['18-01-09d-Exp']\n"
     ]
    }
   ],
   "source": [
    "# Optimized Data Extractor\n",
    "crop_size = 750\n",
    "split_size = crop_size // 3\n",
    "clip_value = 1\n",
    "image_grid_size = int(crop_size**2 / split_size**2)\n",
    "\n",
    "file_num = 50\n",
    "\n",
    "folders, files = age.seq_file_names(direc = direc, \n",
    "                                which_samples = (0,), \n",
    "                                num_exps = file_num)\n",
    "\n",
    "skip_exp = ['ML_block1_Exp265.mat', \n",
    "            'ML_block1_Exp272.mat',\n",
    "           'ML_block1_Exp278.mat',\n",
    "           'ML_block1_Exp386.mat',\n",
    "           'ML_block1_Exp388.mat',\n",
    "           'ML_block1_Exp392.mat']\n",
    "\n",
    "for skip in skip_exp:\n",
    "    files = list(filter((skip).__ne__, files))"
   ]
  },
  {
   "cell_type": "code",
   "execution_count": null,
   "metadata": {
    "ExecuteTime": {
     "start_time": "2019-05-13T04:25:19.057Z"
    },
    "scrolled": true
   },
   "outputs": [
    {
     "name": "stdout",
     "output_type": "stream",
     "text": [
      "D:/MLdata/18-01-09d-Exp/Extract Data/ML_block1_Exp229.mat\r"
     ]
    }
   ],
   "source": [
    "length_index, split_images, label_dic = age.data_extractor(files, \n",
    "                     folders, \n",
    "                     direc = direc, \n",
    "                     crop_size = crop_size, \n",
    "                     split_size = split_size,\n",
    "                     clip_value = clip_value,\n",
    "                     subtract = True, \n",
    "                     log_image = True, \n",
    "                     younger = 0)"
   ]
  },
  {
   "cell_type": "markdown",
   "metadata": {},
   "source": [
    "### Troubleshooting"
   ]
  },
  {
   "cell_type": "code",
   "execution_count": null,
   "metadata": {
    "ExecuteTime": {
     "start_time": "2019-05-13T04:25:21.006Z"
    },
    "scrolled": true
   },
   "outputs": [],
   "source": [
    "# age.intensity_plotter(length_index, label_dic, \n",
    "#                       split_images, image_grid_size,\n",
    "#                      normalize_to_1 = True, normalize_all = True, \n",
    "#                       log_plot = False)"
   ]
  },
  {
   "cell_type": "code",
   "execution_count": null,
   "metadata": {
    "ExecuteTime": {
     "start_time": "2019-05-13T04:25:21.398Z"
    },
    "scrolled": true
   },
   "outputs": [],
   "source": [
    "# age.time_plotter(length_index, files, label_dic, \n",
    "#                  split_images, image_grid_size, full = False)\n",
    "# # age.difference(Fs_label, Fn_label, T_label, split_images, length_index, files, image_grid_size)"
   ]
  },
  {
   "cell_type": "markdown",
   "metadata": {},
   "source": [
    "### Assemble Data"
   ]
  },
  {
   "cell_type": "code",
   "execution_count": null,
   "metadata": {
    "ExecuteTime": {
     "start_time": "2019-05-13T04:25:28.209Z"
    }
   },
   "outputs": [],
   "source": [
    "train_data, train_labels, train_meta, test_data, test_labels, test_meta = \\\n",
    "        age.withhold_sqr(\n",
    "            split_images = split_images, \n",
    "            ML_labels = ['T'],\n",
    "            label_dic = label_dic,\n",
    "            image_grid_size = image_grid_size, \n",
    "            log_time = True,\n",
    "            cols = int(np.ceil(.2*image_grid_size)))\n",
    "\n",
    "# train_data, train_labels, train_meta, test_data, test_labels, test_meta = \\\n",
    "#         age.withold_exp(\n",
    "#             split_images = split_images, \n",
    "#             ML_labels = ['T'],\n",
    "#             label_dic = label_dic,\n",
    "#             log_time = True)\n",
    "\n",
    "# train_data, train_labels, test_data, test_labels = \\\n",
    "# age.younger(train_data, train_labels, test_data, test_labels, time_cut = 5)\n",
    "\n",
    "min_val = np.min([np.min(train_data), np.min(test_data)])\n",
    "\n",
    "#Final Renormilization of Images to be between 0 and 1\n",
    "train_data = (train_data - min_val)/(1 - min_val)\n",
    "test_data = (test_data - min_val)/(1 - min_val)"
   ]
  },
  {
   "cell_type": "markdown",
   "metadata": {},
   "source": [
    "### Build CNN"
   ]
  },
  {
   "cell_type": "code",
   "execution_count": 43,
   "metadata": {
    "ExecuteTime": {
     "end_time": "2019-05-13T03:42:02.999841Z",
     "start_time": "2019-05-13T03:41:50.841792Z"
    }
   },
   "outputs": [
    {
     "name": "stdout",
     "output_type": "stream",
     "text": [
      "WARNING:tensorflow:From C:\\Users\\Nicholas\\Anaconda3\\envs\\Aion\\lib\\site-packages\\tensorflow\\python\\ops\\resource_variable_ops.py:435: colocate_with (from tensorflow.python.framework.ops) is deprecated and will be removed in a future version.\n",
      "Instructions for updating:\n",
      "Colocations handled automatically by placer.\n",
      "WARNING:tensorflow:From C:\\Users\\Nicholas\\Anaconda3\\envs\\Aion\\lib\\site-packages\\tensorflow\\python\\keras\\layers\\core.py:143: calling dropout (from tensorflow.python.ops.nn_ops) with keep_prob is deprecated and will be removed in a future version.\n",
      "Instructions for updating:\n",
      "Please use `rate` instead of `keep_prob`. Rate should be set to `rate = 1 - keep_prob`.\n"
     ]
    }
   ],
   "source": [
    "image_size = train_data.shape[1]\n",
    "    \n",
    "# Create the base model\n",
    "# https://keras.io/applications/#inceptionv3\n",
    "base_model = tf.keras.applications.inception_v3.InceptionV3(\n",
    "                include_top=False, \n",
    "                weights='imagenet', \n",
    "                input_shape=(image_size,image_size,3))\n",
    "\n",
    "base_model.trainable = False\n",
    "    \n",
    "incep_model = tf.keras.Sequential([\n",
    "    base_model,\n",
    "    tf.keras.layers.Conv2D(32, (3, 3)),\n",
    "    tf.keras.layers.LeakyReLU(alpha=0.5),\n",
    "    tf.keras.layers.Dropout(rate = 0.3),\n",
    "    tf.keras.layers.Flatten(),\n",
    "    tf.keras.layers.Dense(64),\n",
    "    tf.keras.layers.LeakyReLU(alpha=0.5),\n",
    "    tf.keras.layers.Dropout(rate = 0.3),\n",
    "    tf.keras.layers.Dense(1),\n",
    "    tf.keras.layers.LeakyReLU(alpha=0.5)\n",
    "    ])\n",
    "\n",
    "#custom_model = tf.keras.Sequential([\n",
    "#        tf.keras.layers.Conv2D(8, kernel_size=(2, 2),\n",
    "#                       input_shape=(image_size, image_size, 1)),\n",
    "#        tf.keras.layers.LeakyReLU(alpha=0.5),\n",
    "#        tf.keras.layers.Dropout(rate = 0.3),\n",
    "#        tf.keras.layers.Conv2D(16, (3, 3)),\n",
    "#        tf.keras.layers.LeakyReLU(alpha=0.5),\n",
    "#        tf.keras.layers.Dropout(rate = 0.3),\n",
    "#        tf.keras.layers.Flatten(),\n",
    "#        tf.keras.layers.Dense(32),\n",
    "#        tf.keras.layers.LeakyReLU(alpha=0.5),\n",
    "#        tf.keras.layers.Dropout(rate = 0.3),\n",
    "#        tf.keras.layers.Dense(1),\n",
    "#        tf.keras.layers.LeakyReLU(alpha=0.5)"
   ]
  },
  {
   "cell_type": "markdown",
   "metadata": {},
   "source": [
    "### Train CNN"
   ]
  },
  {
   "cell_type": "code",
   "execution_count": 59,
   "metadata": {
    "ExecuteTime": {
     "end_time": "2019-05-13T03:46:03.898961Z",
     "start_time": "2019-05-13T03:45:32.737974Z"
    }
   },
   "outputs": [
    {
     "name": "stdout",
     "output_type": "stream",
     "text": [
      "Train on 469 samples, validate on 134 samples\n",
      "Epoch 1/10\n",
      "469/469 [==============================] - 5s 11ms/sample - loss: 0.1081 - mean_absolute_error: 1.0373 - acc: 0.0000e+00 - val_loss: 0.2169 - val_mean_absolute_error: 1.4238 - val_acc: 0.0000e+00\n",
      "Epoch 2/10\n",
      "469/469 [==============================] - 2s 4ms/sample - loss: 0.0968 - mean_absolute_error: 1.0102 - acc: 0.0000e+00 - val_loss: 0.2150 - val_mean_absolute_error: 1.4162 - val_acc: 0.0000e+00\n",
      "Epoch 3/10\n",
      "469/469 [==============================] - 2s 4ms/sample - loss: 0.0965 - mean_absolute_error: 1.0414 - acc: 0.0000e+00 - val_loss: 0.2110 - val_mean_absolute_error: 1.4131 - val_acc: 0.0000e+00\n",
      "Epoch 4/10\n",
      "469/469 [==============================] - 2s 4ms/sample - loss: 0.0807 - mean_absolute_error: 0.9411 - acc: 0.0000e+00 - val_loss: 0.3354 - val_mean_absolute_error: 1.6857 - val_acc: 0.0000e+00\n",
      "Epoch 5/10\n",
      "469/469 [==============================] - 2s 4ms/sample - loss: 0.0841 - mean_absolute_error: 0.9265 - acc: 0.0000e+00 - val_loss: 0.5476 - val_mean_absolute_error: 2.0575 - val_acc: 0.0000e+00\n",
      "Epoch 6/10\n",
      "469/469 [==============================] - 2s 4ms/sample - loss: 0.0842 - mean_absolute_error: 0.9475 - acc: 0.0000e+00 - val_loss: 0.2546 - val_mean_absolute_error: 1.4697 - val_acc: 0.0000e+00\n",
      "Epoch 7/10\n",
      "469/469 [==============================] - 2s 4ms/sample - loss: 0.0788 - mean_absolute_error: 0.8948 - acc: 0.0000e+00 - val_loss: 0.1898 - val_mean_absolute_error: 1.2516 - val_acc: 0.0000e+00\n",
      "Epoch 8/10\n",
      "469/469 [==============================] - 2s 4ms/sample - loss: 0.0827 - mean_absolute_error: 0.8905 - acc: 0.0000e+00 - val_loss: 0.3043 - val_mean_absolute_error: 1.6024 - val_acc: 0.0000e+00\n",
      "Epoch 9/10\n",
      "469/469 [==============================] - 2s 4ms/sample - loss: 0.0760 - mean_absolute_error: 0.8925 - acc: 0.0000e+00 - val_loss: 0.1755 - val_mean_absolute_error: 1.2720 - val_acc: 0.0000e+00\n",
      "Epoch 10/10\n",
      "469/469 [==============================] - 2s 4ms/sample - loss: 0.0744 - mean_absolute_error: 0.8722 - acc: 0.0000e+00 - val_loss: 0.1456 - val_mean_absolute_error: 1.1103 - val_acc: 0.0000e+00\n"
     ]
    }
   ],
   "source": [
    "model, history = age.inception_train(\n",
    "                    train_data, \n",
    "                    train_labels, \n",
    "                    test_data, \n",
    "                    test_labels,\n",
    "                    savedir, \n",
    "                    incep_model,\n",
    "                    epochs = 10,\n",
    "                    patience = 20)\n",
    "\n",
    "# model, history = age.aion(train_data, train_labels, test_data, test_labels,\n",
    "#                     savedir, full_model)"
   ]
  },
  {
   "cell_type": "code",
   "execution_count": 60,
   "metadata": {
    "ExecuteTime": {
     "end_time": "2019-05-13T03:46:07.836907Z",
     "start_time": "2019-05-13T03:46:03.898961Z"
    }
   },
   "outputs": [],
   "source": [
    "test_predic = model.predict(np.tile(\n",
    "    test_data.reshape(test_data.shape[0], \n",
    "    test_data.shape[1], \n",
    "    test_data.shape[2], \n",
    "    1), \n",
    "        3))\n",
    "train_predic = model.predict(np.tile(train_data.reshape(\n",
    "    train_data.shape[0], \n",
    "    train_data.shape[1],  \n",
    "    train_data.shape[2], \n",
    "    1),\n",
    "        3))"
   ]
  },
  {
   "cell_type": "markdown",
   "metadata": {},
   "source": [
    "### Examine Results"
   ]
  },
  {
   "cell_type": "code",
   "execution_count": 61,
   "metadata": {
    "ExecuteTime": {
     "end_time": "2019-05-13T03:46:08.040186Z",
     "start_time": "2019-05-13T03:46:07.836907Z"
    }
   },
   "outputs": [],
   "source": [
    "# model = load_model('my_model.h5')"
   ]
  },
  {
   "cell_type": "code",
   "execution_count": 62,
   "metadata": {
    "ExecuteTime": {
     "end_time": "2019-05-13T03:46:08.243181Z",
     "start_time": "2019-05-13T03:46:08.040186Z"
    }
   },
   "outputs": [],
   "source": [
    "# import matplotlib.pyplot as plt\n",
    "\n",
    "# print(test_meta['Exp'][:62])\n",
    "\n",
    "# for i in range(62):\n",
    "#     plt.figure()\n",
    "#     plt.title('Fs: ' + str(np.round(test_meta['Fs'][i],2)) +\n",
    "#              ' T: ' + str(np.round(test_labels[i][0],2)) +\n",
    "#              ' Exp: ' + str(test_meta['Exp'][i]))\n",
    "#     plt.imshow(test_data[i])\n",
    "#     plt.show()"
   ]
  },
  {
   "cell_type": "code",
   "execution_count": 63,
   "metadata": {
    "ExecuteTime": {
     "end_time": "2019-05-13T03:46:09.639633Z",
     "start_time": "2019-05-13T03:46:08.243181Z"
    }
   },
   "outputs": [
    {
     "data": {
      "image/png": "[encoded data removed]",
      "text/plain": [
       "<Figure size 432x288 with 1 Axes>"
      ]
     },
     "metadata": {
      "needs_background": "light"
     },
     "output_type": "display_data"
    }
   ],
   "source": [
    "age.hist_plotter(history, savedir + \"Incep_history\")"
   ]
  },
  {
   "cell_type": "code",
   "execution_count": 84,
   "metadata": {
    "ExecuteTime": {
     "end_time": "2019-05-13T04:02:56.792241Z",
     "start_time": "2019-05-13T04:02:53.775901Z"
    },
    "scrolled": false
   },
   "outputs": [
    {
     "data": {
      "image/png": "[encoded data removed]",
      "text/plain": [
       "<Figure size 432x288 with 1 Axes>"
      ]
     },
     "metadata": {
      "needs_background": "light"
     },
     "output_type": "display_data"
    },
    {
     "data": {
      "image/png": "[encoded data removed]",
      "text/plain": [
       "<Figure size 432x288 with 1 Axes>"
      ]
     },
     "metadata": {
      "needs_background": "light"
     },
     "output_type": "display_data"
    }
   ],
   "source": [
    "train_times = train_labels.reshape(-1, int(np.floor(.8*image_grid_size)))\n",
    "train_pred_times = train_predic.reshape(-1, int(np.floor(.8*image_grid_size)))\n",
    "\n",
    "# train_shear = train_labels[:,1]\n",
    "# train_pred_shear = train_predic[:,1]\n",
    "\n",
    "test_times = test_labels.reshape(-1, int(np.ceil(.2*image_grid_size)))\n",
    "test_pred_times = test_predic.reshape(-1, int(np.ceil(.2*image_grid_size)))\n",
    "\n",
    "# test_shear = test_labels[:,1]\n",
    "# test_pred_shear = test_predic[:,1]\n",
    "\n",
    "age.data_plotter(train_times, train_pred_times, \n",
    "                 savedir + \"Incep_Age_train\" ,\n",
    "                 lim = 9,\n",
    "                 marker = \".\", alpha = .8)\n",
    "\n",
    "age.data_plotter(test_times, test_pred_times, \n",
    "                 savedir + \"Incep_Age_test\" ,\n",
    "                 lim = 9,\n",
    "                 marker = \".\", alpha = .8)"
   ]
  },
  {
   "cell_type": "code",
   "execution_count": 94,
   "metadata": {
    "ExecuteTime": {
     "end_time": "2019-05-13T04:09:55.135913Z",
     "start_time": "2019-05-13T04:09:54.698383Z"
    }
   },
   "outputs": [
    {
     "data": {
      "image/png": "[encoded data removed]",
      "text/plain": [
       "<Figure size 576x288 with 2 Axes>"
      ]
     },
     "metadata": {
      "needs_background": "light"
     },
     "output_type": "display_data"
    }
   ],
   "source": [
    "test_meta['T'] = np.exp(test_labels.flatten())\n",
    "age.intensity_plotter(length_index, test_meta, \n",
    "                      test_data, 2,\n",
    "                     normalize_to_1 = True, normalize_all = True, \n",
    "                      log_plot = False)"
   ]
  },
  {
   "cell_type": "code",
   "execution_count": null,
   "metadata": {},
   "outputs": [],
   "source": []
  }
 ],
 "metadata": {
  "kernelspec": {
   "display_name": "Python 3",
   "language": "python",
   "name": "python3"
  },
  "language_info": {
   "codemirror_mode": {
    "name": "ipython",
    "version": 3
   },
   "file_extension": ".py",
   "mimetype": "text/x-python",
   "name": "python",
   "nbconvert_exporter": "python",
   "pygments_lexer": "ipython3",
   "version": "3.6.8"
  }
 },
 "nbformat": 4,
 "nbformat_minor": 2
}
