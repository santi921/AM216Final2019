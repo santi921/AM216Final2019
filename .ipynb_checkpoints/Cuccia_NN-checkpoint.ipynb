{
 "cells": [
  {
   "cell_type": "markdown",
   "metadata": {},
   "source": [
    "### Import Packages"
   ]
  },
  {
   "cell_type": "code",
   "execution_count": 1,
   "metadata": {
    "ExecuteTime": {
     "end_time": "2019-05-04T15:25:41.320746Z",
     "start_time": "2019-05-04T15:25:37.757331Z"
    }
   },
   "outputs": [
    {
     "name": "stdout",
     "output_type": "stream",
     "text": [
      "[[22. 28.]\n",
      " [49. 64.]]\n"
     ]
    }
   ],
   "source": [
    "from __future__ import absolute_import, division, print_function\n",
    "import matplotlib.pyplot as plt\n",
    "import numpy as np\n",
    "from time import gmtime, strftime\n",
    "import random\n",
    "\n",
    "import pandas as pd\n",
    "import os\n",
    "import re\n",
    "import scipy.io\n",
    "\n",
    "# TensorFlow and tf.keras\n",
    "import tensorflow as tf\n",
    "from tensorflow import keras\n",
    "\n",
    "with tf.device('/gpu:0'):\n",
    "    a = tf.constant([1.0, 2.0, 3.0, 4.0, 5.0, 6.0], shape=[2, 3], name='a')\n",
    "    b = tf.constant([1.0, 2.0, 3.0, 4.0, 5.0, 6.0], shape=[3, 2], name='b')\n",
    "    c = tf.matmul(a, b)\n",
    "\n",
    "with tf.Session() as sess:\n",
    "    print (sess.run(c))\n",
    "\n",
    "# Define directory with matlab files\n",
    "# direc = 'D:/MLdata/18-01-09d-Exp/Extract Data/'\n",
    "# direc  = 'D:/Nicholas_ML/18-01-09d-Exp/Extract Data/'\n",
    "direc = 'D:/MLdata/'\n",
    "# Define directory to save model and plots\n",
    "savedir = 'D:/MLdata/Model/' + strftime(\"%Y-%m-%d %H-%M\", gmtime()) + '/'\n",
    "\n",
    "random.seed(135)\n",
    "np.random.seed(135)"
   ]
  },
  {
   "cell_type": "markdown",
   "metadata": {},
   "source": [
    "### Define Functions"
   ]
  },
  {
   "cell_type": "code",
   "execution_count": 2,
   "metadata": {
    "ExecuteTime": {
     "end_time": "2019-05-04T15:25:41.332740Z",
     "start_time": "2019-05-04T15:25:41.320746Z"
    }
   },
   "outputs": [],
   "source": [
    "def blockshaped(arr, size):\n",
    "    \"\"\"\n",
    "    Breaks an array into smaller pieces.  Returns an array of shape (n, nrows, ncols) where\n",
    "    n * size * size = arr.size\n",
    "\n",
    "    If arr is a 2D array, the returned array should look like n subblocks with\n",
    "    each subblock preserving the \"physical\" layout of arr.\n",
    "    \n",
    "    The returned array is indexed starting in the top left of the image and moving across to the right\n",
    "    until hitting the edge.  At which point it continues one line down.\n",
    "    \n",
    "    Inputs\n",
    "    arr: 2D Array to be split\n",
    "    size: Size that split 2D arrays should be\n",
    "    \"\"\"\n",
    "    h, w = arr.shape\n",
    "    return (arr.reshape(h//size, size, -1, size)\n",
    "               .swapaxes(1,2)\n",
    "               .reshape(-1, size, size))\n",
    "\n",
    "def crop_center(img,crop):\n",
    "    \"\"\"\n",
    "    Crops an image into a square from the center outwards.\n",
    "    \n",
    "    Inputs\n",
    "    img: 2D Array to be cropped\n",
    "    crop: size to crop image to\n",
    "    \"\"\"\n",
    "    # Obtain the shape of the image\n",
    "    if len(img.shape) == 3:\n",
    "        x, y, c = img.shape\n",
    "#         The starting coordinates of the new image\n",
    "        startx = x//2 - crop//2\n",
    "#         print(x//2, startx)\n",
    "        starty = y//2 - crop//2    \n",
    "#         print(y//2, starty)\n",
    "        return img[startx : startx + crop, starty : starty + crop, :]\n",
    "    else:\n",
    "        x, y = img.shape\n",
    "#         The starting coordinates of the new image\n",
    "        startx = x//2 - crop//2\n",
    "#         print(x//2, startx)\n",
    "        starty = y//2 - crop//2    \n",
    "#         print(y//2, starty)\n",
    "        return img[startx : startx + crop, starty : starty + crop]\n",
    "\n",
    "def rebin(a, shape):\n",
    "    sh = shape[0],a.shape[0]//shape[0],shape[1],a.shape[1]//shape[1]\n",
    "    return a.reshape(sh).mean(-1).mean(1)"
   ]
  },
  {
   "cell_type": "markdown",
   "metadata": {},
   "source": [
    "### Import Data"
   ]
  },
  {
   "cell_type": "code",
   "execution_count": 9,
   "metadata": {
    "ExecuteTime": {
     "end_time": "2019-05-04T15:31:49.656882Z",
     "start_time": "2019-05-04T15:29:16.700693Z"
    }
   },
   "outputs": [
    {
     "name": "stdout",
     "output_type": "stream",
     "text": [
      "D:/MLdata/18-01-09d-Exp/Extract Data/ML_block1_Exp500.mat\r"
     ]
    }
   ],
   "source": [
    "# Optimized Data Extractor\n",
    "crop_size = 1000\n",
    "split_size = 250\n",
    "\n",
    "file_num = 0\n",
    "\n",
    "down = [500,500]\n",
    "\n",
    "folders  = [filename for filename in os.listdir(direc)][:1]\n",
    "files = []\n",
    "\n",
    "# Extract file names\n",
    "for i in range(len(folders)):\n",
    "    if file_num > 0:\n",
    "        temp = random.sample(os.listdir(direc + folders[i] + '/Extract Data/'), int(file_num/4))\n",
    "        files.extend(temp)\n",
    "    else:\n",
    "        temp = os.listdir(direc + folders[i] + '/Extract Data/')\n",
    "        files.extend(temp)\n",
    "#     files.extend(os.listdir(direc + folders[i]))\n",
    "\n",
    "# Intialize Lists\n",
    "length_index = []\n",
    "split_images = []\n",
    "Fn_label = []\n",
    "Fs_label = []\n",
    "T_label = []\n",
    "block_label = []\n",
    "exp_label = []\n",
    "\n",
    "for file in files:\n",
    "    subtract = False\n",
    "    block_num = int(re.search('block(.*)_', file).group(1))\n",
    "    exp_num = int(re.search('Exp(.*).mat', file).group(1))\n",
    "    \n",
    "    print(direc + folders[block_num - 1] + '/Extract Data/' + file, end=\"\\r\")\n",
    "    # Import Matlab data\n",
    "    data = scipy.io.loadmat(direc + folders[block_num - 1] + '/Extract Data/' + file)\n",
    "\n",
    "    # Get data values from Matlab file\n",
    "    Fn = data['Fn'].flatten()\n",
    "    Fs = data['Fs'].flatten()\n",
    "    T = data['T'].flatten()\n",
    "\n",
    "    images = data['images'].astype(np.float)\n",
    "    \n",
    "    #####################CHANGE FOR DIFFERENCE CALCULATIONS BEGIN ###############################\n",
    "    subtract = True\n",
    "    # Make the values the final values\n",
    "    Fn = [Fn[-1]]\n",
    "    Fs = [Fs[-1]]\n",
    "    #Take difference of time values\n",
    "    T = [T[-1] - T[0]]\n",
    "    \n",
    "    # Make the image the difference between the final and initial block\n",
    "    images = (images[:,:,-1] - images[:,:,0])\n",
    "    #####################CHANGE FOR DIFFERENCE CALCULATIONS END ###############################\n",
    "\n",
    "    if (len(Fn) == len(Fs) == len(T)):\n",
    "        length_index.append(len(Fn))\n",
    "    else:\n",
    "        print('ERROR: INCONSISTENT SIZE FOR FILE:', direc + folders[block_num - 1] + '/Extract Data/' + file)\n",
    "        break\n",
    "    \n",
    "    \n",
    "    # Pull block and experiment values from filename\n",
    "    block = np.repeat(block_num, len(T))\n",
    "    exp = np.repeat(exp_num, len(T))\n",
    "    \n",
    "    # Crop images to appropriate size\n",
    "    cropped_images = crop_center(images, crop_size)\n",
    "    \n",
    "    if len(cropped_images.shape) == 3:\n",
    "        for i in range(cropped_images.shape[2]):\n",
    "            #Break images into smaller pieces\n",
    "            #Divide by 255 to normalize data\n",
    "            temp = blockshaped(cropped_images[:,:,i], split_size)/255.0\n",
    "#             temp = rebin(temp[0,:,:], down)\n",
    "            if subtract:\n",
    "                split_images.extend(temp)\n",
    "            else:\n",
    "                split_images.append(temp)\n",
    "    else:\n",
    "        #Break images into smaller pieces\n",
    "        #Divide by 255 to normalize data\n",
    "        temp = blockshaped(cropped_images, split_size)/255.0\n",
    "        if subtract:\n",
    "            split_images.extend(temp)\n",
    "        else:\n",
    "            split_images.append(temp)\n",
    "    \n",
    "\n",
    "        \n",
    "    # Append data to lists\n",
    "    # Adjust labels to account for the splitting of images\n",
    "    Fn_label.extend(np.repeat(Fn, (crop_size/split_size)**2))\n",
    "    Fs_label.extend(np.repeat(Fs, (crop_size/split_size)**2))\n",
    "    T_label.extend(np.repeat(T, (crop_size/split_size)**2))\n",
    "    block_label.extend(np.repeat(block, (crop_size/split_size)**2)) \n",
    "    exp_label.extend(np.repeat(exp, (crop_size/split_size)**2))\n",
    "    \n",
    "# Convert final results into arrays\n",
    "length_index = np.array(length_index)\n",
    "split_images = np.array(split_images)\n",
    "Fn_label = np.array(Fn_label)\n",
    "Fs_label = np.array(Fs_label)\n",
    "T_label = np.array(T_label)\n",
    "block_label = np.array(block_label) \n",
    "exp_label = np.array(exp_label)"
   ]
  },
  {
   "cell_type": "markdown",
   "metadata": {},
   "source": [
    "### Troubleshooting"
   ]
  },
  {
   "cell_type": "code",
   "execution_count": 4,
   "metadata": {
    "ExecuteTime": {
     "end_time": "2019-05-04T15:28:19.688747Z",
     "start_time": "2019-05-04T15:28:19.684753Z"
    },
    "scrolled": true
   },
   "outputs": [],
   "source": [
    "# # Subplots are organized in a rows x cols Grid\n",
    "\n",
    "# for i in range(len(length_index)):\n",
    "#     #Give the experiment we are lookings at\n",
    "#     print('-------------------', files[i], '-------------------')\n",
    "    \n",
    "#     #Determine the number of columns needed for display\n",
    "#     if length_index[i] > 4:\n",
    "#         cols = 4\n",
    "#         fig = plt.figure(1, figsize=(20,length_index[i]-2))\n",
    "#     else:\n",
    "#         cols = length_index[i]\n",
    "#         fig = plt.figure(1, figsize=(10,10))\n",
    "    \n",
    "#     #Determine the number of rows needed\n",
    "#     rows = length_index[i] // cols \n",
    "#     rows += length_index[i] % cols\n",
    "    \n",
    "#     position = range(1, length_index[i] + 1)\n",
    "    \n",
    "#     for j in range(length_index[i]):\n",
    "#       # add every single subplot to the figure with a for loop\n",
    "#         ax = fig.add_subplot(rows, cols, position[j])\n",
    "#         ax.matshow(split_images[j,:,:], cmap=plt.cm.gray)\n",
    "#         ax.set_xticks(())\n",
    "#         ax.set_yticks(())\n",
    "#     plt.tight_layout()\n",
    "#     plt.show()"
   ]
  },
  {
   "cell_type": "code",
   "execution_count": 5,
   "metadata": {
    "ExecuteTime": {
     "end_time": "2019-05-04T15:28:19.698895Z",
     "start_time": "2019-05-04T15:28:19.688747Z"
    },
    "scrolled": false
   },
   "outputs": [],
   "source": [
    "# # Show difference values for all split_images\n",
    "# initial = 0\n",
    "# diff = []\n",
    "\n",
    "# down = [350,350]\n",
    "# for i in range(len(length_index)):\n",
    "#     #Give the experiment we are lookings at\n",
    "#     print('-------------------', files[i], '-------------------')\n",
    "#     print('Initial:', initial, 'Final:', final)\n",
    "#     final = initial + length_index[i] - 1\n",
    "    \n",
    "#     fig, axs = plt.subplots(nrows=1, ncols=3, sharex=True, figsize = (24,24))\n",
    "    \n",
    "#     ax = axs[0]\n",
    "#     ax.set_title(('Fs = ' + str(round(Fs_label[initial],2)) + \n",
    "#                   ', Fn = ' + str(round(Fn_label[initial],2)) +\n",
    "#                   ', T = ' + str(round(T_label[initial],2))))\n",
    "#     ax.axis('off')\n",
    "#     ax.matshow(rebin(split_images[initial,:,:],down), cmap=plt.cm.gray)\n",
    "\n",
    "#     ax = axs[1]\n",
    "#     ax.set_title(('Fs = ' + str(round(Fs_label[final],2)) + \n",
    "#                   ', Fn = ' + str(round(Fn_label[final],2)) +\n",
    "#                   ', T = ' + str(round(T_label[final],2))))\n",
    "#     ax.axis('off')\n",
    "#     ax.matshow(rebin(split_images[final,:,:],down), cmap=plt.cm.gray)\n",
    "    \n",
    "#     ax = axs[2]\n",
    "#     temp = (rebin(split_images[final,:,:] - split_images[initial,:,:],down))\n",
    "#     diff.append(temp)\n",
    "#     ax.set_title(('Difference, $\\Delta = $' + str(round(np.sum(temp),2))))\n",
    "#     ax.axis('off')\n",
    "#     ax.matshow(temp, cmap=plt.cm.gray)\n",
    "    \n",
    "#     plt.tight_layout()\n",
    "#     plt.show()\n",
    "#     initial = final + 1\n",
    "# diff = np.array(diff)"
   ]
  },
  {
   "cell_type": "markdown",
   "metadata": {},
   "source": [
    "### Assemble Data (FORMAT 4-BLOCK)"
   ]
  },
  {
   "cell_type": "code",
   "execution_count": 6,
   "metadata": {
    "ExecuteTime": {
     "end_time": "2019-05-04T15:28:19.706897Z",
     "start_time": "2019-05-04T15:28:19.698895Z"
    }
   },
   "outputs": [],
   "source": [
    "# # Assemble targets, shuffle data, and assign training and testing sets\n",
    "# # Note that I use the log_time values currently.\n",
    "# # This makes time appear linearly spaced.  Perhaps helps CNN converge faster\n",
    "# # targets = np.vstack((log_T_label,Fn_label,Fs_label)).T\n",
    "# targets = np.vstack((np.log(T_label), Fs_label)).T\n",
    "\n",
    "# test_block_ind = np.min(np.where(block_label == 4))\n",
    "\n",
    "# train_data = split_images[:test_block_ind].clip(0)\n",
    "# train_labels = targets[:test_block_ind]\n",
    "# print('Training Data and Labels Completed...', train_data.shape, train_labels.shape)\n",
    "\n",
    "# test_data = split_images[test_block_ind:].clip(0)\n",
    "# test_labels = targets[test_block_ind:]\n",
    "# print('Testing Data and Labels Completed...', test_data.shape, test_labels.shape)\n",
    "\n",
    "# # TROUBLESHOOTING: Plot an array of some of the images, to try visually confirm proper selection.\n",
    "# # fig,ax = plt.subplots(4,8,figsize=(20,10))\n",
    "# # for i in range(32):\n",
    "# #     ax[i//8,i%8].matshow(test_data[i],cmap=plt.cm.gray)\n",
    "# #     ax[i//8,i%8].set_xticks(())\n",
    "# #     ax[i//8,i%8].set_yticks(())"
   ]
  },
  {
   "cell_type": "markdown",
   "metadata": {},
   "source": [
    "### Assemble Data (RANDOM FORMAT 1-BLOCK)"
   ]
  },
  {
   "cell_type": "code",
   "execution_count": 11,
   "metadata": {
    "ExecuteTime": {
     "end_time": "2019-05-04T15:32:21.143675Z",
     "start_time": "2019-05-04T15:32:20.387190Z"
    }
   },
   "outputs": [
    {
     "name": "stdout",
     "output_type": "stream",
     "text": [
      "Test Index Completed...\n",
      "Training Data and Labels Completed...\n",
      "Testing Data and Labels Completed...\n"
     ]
    }
   ],
   "source": [
    "# Assemble targets, shuffle data, and assign training and testing sets\n",
    "# Note that I use the log_time values currently.\n",
    "# This makes time appear linearly spaced.  Perhaps helps CNN converge faster\n",
    "# targets = np.vstack((log_T_label,Fn_label,Fs_label)).T\n",
    "targets = np.vstack((np.log(T_label), Fs_label)).T\n",
    "\n",
    "# I want to test if the Nueral Network works well on images it has NEVER\n",
    "# seen before.  As such, I am careful to remove a specifc square from\n",
    "# ALL the images for testing.  That way we can make sure it isn't just learning\n",
    "# features of each square in the image.\n",
    "\n",
    "# Obtain the sub_images we split the original image into\n",
    "image_grid_size = crop_size**2 / split_size**2\n",
    "subimage_ind = np.arange(0, image_grid_size)\n",
    "\n",
    "# Randomnly choose a square of ALL images to remove\n",
    "# so that we can test on it later.\n",
    "np.random.shuffle(subimage_ind)\n",
    "train_size = round((.8)*subimage_ind.shape[0])\n",
    "\n",
    "test_index = []\n",
    "\n",
    "# Fill data lists\n",
    "for i in np.arange(0, (split_images.shape[0] / image_grid_size)):\n",
    "    test_index.append((i * image_grid_size) + subimage_ind[train_size:])\n",
    "    \n",
    "# Make sure index values are integers\n",
    "test_index = np.array(test_index).astype(np.intc).flatten()\n",
    "print('Test Index Completed...')\n",
    "\n",
    "train_data = np.delete(split_images, test_index, axis = 0)\n",
    "train_labels = np.delete(targets, test_index, axis = 0)\n",
    "print('Training Data and Labels Completed...')\n",
    "\n",
    "\n",
    "test_data = split_images[test_index]\n",
    "test_labels = targets[test_index]\n",
    "print('Testing Data and Labels Completed...')\n",
    "\n",
    "\n",
    "# TROUBLESHOOTING: Plot an array of some of the images, to try visually confirm proper selection.\n",
    "# fig,ax = plt.subplots(4,8,figsize=(20,10))\n",
    "# for i in range(32):\n",
    "#     ax[i//8,i%8].matshow(test_data[i],cmap=plt.cm.gray)\n",
    "#     ax[i//8,i%8].set_xticks(())\n",
    "#     ax[i//8,i%8].set_yticks(())"
   ]
  },
  {
   "cell_type": "markdown",
   "metadata": {},
   "source": [
    "### Build CNN"
   ]
  },
  {
   "cell_type": "code",
   "execution_count": 12,
   "metadata": {
    "ExecuteTime": {
     "end_time": "2019-05-04T15:32:25.419992Z",
     "start_time": "2019-05-04T15:32:25.407992Z"
    }
   },
   "outputs": [],
   "source": [
    "def build_cnn():\n",
    "    model = keras.Sequential()\n",
    "    model.add(keras.layers.AveragePooling2D(pool_size=(2, 2)))\n",
    "    model.add(keras.layers.Conv2D(32, kernel_size=(2, 2), strides=(1, 1),\n",
    "                     activation='relu',\n",
    "                     input_shape=(down[0],down[1],1)))\n",
    "    model.add(keras.layers.MaxPooling2D(pool_size=(2, 2), strides=(2, 2)))\n",
    "    model.add(keras.layers.Conv2D(64, (5, 5), activation='relu'))\n",
    "    model.add(keras.layers.Dropout(0.2))\n",
    "    model.add(keras.layers.MaxPooling2D(pool_size=(2, 2)))\n",
    "    model.add(keras.layers.Flatten())\n",
    "    model.add(keras.layers.Dense(128, activation='relu'))\n",
    "    model.add(keras.layers.Dropout(0.2))\n",
    "    model.add(keras.layers.Dense(2))\n",
    "    \n",
    "    optimizer = tf.keras.optimizers.RMSprop(0.001)\n",
    "\n",
    "    model.compile(loss='mean_absolute_error',\n",
    "                optimizer=optimizer,\n",
    "                metrics=['mean_absolute_error', 'accuracy'])\n",
    "    \n",
    "    return (model)"
   ]
  },
  {
   "cell_type": "markdown",
   "metadata": {},
   "source": [
    "### Train CNN"
   ]
  },
  {
   "cell_type": "code",
   "execution_count": 13,
   "metadata": {
    "ExecuteTime": {
     "end_time": "2019-05-04T15:32:26.652352Z",
     "start_time": "2019-05-04T15:32:26.624352Z"
    }
   },
   "outputs": [
    {
     "name": "stdout",
     "output_type": "stream",
     "text": [
      "WARNING:tensorflow:From C:\\Users\\Nicholas\\Anaconda3\\envs\\Aion\\lib\\site-packages\\tensorflow\\python\\ops\\resource_variable_ops.py:435: colocate_with (from tensorflow.python.framework.ops) is deprecated and will be removed in a future version.\n",
      "Instructions for updating:\n",
      "Colocations handled automatically by placer.\n"
     ]
    }
   ],
   "source": [
    "model = build_cnn()"
   ]
  },
  {
   "cell_type": "code",
   "execution_count": 14,
   "metadata": {
    "ExecuteTime": {
     "end_time": "2019-05-04T15:33:22.760857Z",
     "start_time": "2019-05-04T15:32:27.383589Z"
    },
    "scrolled": true
   },
   "outputs": [
    {
     "name": "stdout",
     "output_type": "stream",
     "text": [
      "WARNING:tensorflow:From C:\\Users\\Nicholas\\Anaconda3\\envs\\Aion\\lib\\site-packages\\tensorflow\\python\\keras\\layers\\core.py:143: calling dropout (from tensorflow.python.ops.nn_ops) with keep_prob is deprecated and will be removed in a future version.\n",
      "Instructions for updating:\n",
      "Please use `rate` instead of `keep_prob`. Rate should be set to `rate = 1 - keep_prob`.\n",
      "WARNING:tensorflow:From C:\\Users\\Nicholas\\Anaconda3\\envs\\Aion\\lib\\site-packages\\tensorflow\\python\\ops\\math_ops.py:3066: to_int32 (from tensorflow.python.ops.math_ops) is deprecated and will be removed in a future version.\n",
      "Instructions for updating:\n",
      "Use tf.cast instead.\n",
      "Epoch 1/250\n",
      "2470/2470 [==============================] - 5s 2ms/sample - loss: 6.3968 - mean_absolute_error: 6.3968 - acc: 0.9405\n",
      "Epoch 2/250\n",
      "2470/2470 [==============================] - 2s 948us/sample - loss: 5.3775 - mean_absolute_error: 5.3775 - acc: 0.9413\n",
      "Epoch 3/250\n",
      "2470/2470 [==============================] - 2s 991us/sample - loss: 4.4063 - mean_absolute_error: 4.4063 - acc: 0.9389\n",
      "Epoch 4/250\n",
      "2470/2470 [==============================] - 2s 980us/sample - loss: 3.9951 - mean_absolute_error: 3.9951 - acc: 0.9405\n",
      "Epoch 5/250\n",
      "2470/2470 [==============================] - 2s 952us/sample - loss: 3.6967 - mean_absolute_error: 3.6967 - acc: 0.9405\n",
      "Epoch 6/250\n",
      "2470/2470 [==============================] - 2s 941us/sample - loss: 3.5138 - mean_absolute_error: 3.5138 - acc: 0.9421\n",
      "Epoch 7/250\n",
      "2470/2470 [==============================] - 2s 946us/sample - loss: 3.4616 - mean_absolute_error: 3.4616 - acc: 0.9397s - loss: 3.5038 - mean_absolute_\n",
      "Epoch 8/250\n",
      "2470/2470 [==============================] - 2s 948us/sample - loss: 3.3076 - mean_absolute_error: 3.3076 - acc: 0.9453\n",
      "Epoch 9/250\n",
      "2470/2470 [==============================] - 2s 942us/sample - loss: 3.2566 - mean_absolute_error: 3.2566 - acc: 0.9453\n",
      "Epoch 10/250\n",
      "2470/2470 [==============================] - 2s 940us/sample - loss: 3.2299 - mean_absolute_error: 3.2299 - acc: 0.9425\n",
      "Epoch 11/250\n",
      "2470/2470 [==============================] - 2s 949us/sample - loss: 3.1809 - mean_absolute_error: 3.1809 - acc: 0.9425\n",
      "Epoch 12/250\n",
      "2470/2470 [==============================] - 2s 942us/sample - loss: 3.1125 - mean_absolute_error: 3.1125 - acc: 0.9453\n",
      "Epoch 13/250\n",
      "2470/2470 [==============================] - 2s 943us/sample - loss: 3.0133 - mean_absolute_error: 3.0133 - acc: 0.9482\n",
      "Epoch 14/250\n",
      "2470/2470 [==============================] - 2s 1ms/sample - loss: 3.0544 - mean_absolute_error: 3.0544 - acc: 0.9498\n",
      "Epoch 15/250\n",
      "2470/2470 [==============================] - 2s 1ms/sample - loss: 3.0042 - mean_absolute_error: 3.0042 - acc: 0.9490\n",
      "Epoch 16/250\n",
      "2470/2470 [==============================] - 2s 969us/sample - loss: 2.9730 - mean_absolute_error: 2.9730 - acc: 0.9482\n",
      "Epoch 17/250\n",
      "2470/2470 [==============================] - 2s 949us/sample - loss: 2.9268 - mean_absolute_error: 2.9268 - acc: 0.9478\n",
      "Epoch 18/250\n",
      "2470/2470 [==============================] - 2s 936us/sample - loss: 2.9191 - mean_absolute_error: 2.9191 - acc: 0.9466\n",
      "Epoch 19/250\n",
      "2470/2470 [==============================] - 2s 902us/sample - loss: 2.8710 - mean_absolute_error: 2.8710 - acc: 0.9498\n",
      "Epoch 20/250\n",
      "2470/2470 [==============================] - 2s 907us/sample - loss: 2.8264 - mean_absolute_error: 2.8264 - acc: 0.9490\n",
      "Epoch 21/250\n",
      "2470/2470 [==============================] - 2s 917us/sample - loss: 2.7339 - mean_absolute_error: 2.7339 - acc: 0.9506\n",
      "Epoch 22/250\n",
      "1888/2470 [=====================>........] - ETA: 0s - loss: 2.7335 - mean_absolute_error: 2.7335 - acc: 0.9523"
     ]
    },
    {
     "ename": "KeyboardInterrupt",
     "evalue": "",
     "output_type": "error",
     "traceback": [
      "\u001b[1;31m---------------------------------------------------------------------------\u001b[0m",
      "\u001b[1;31mKeyboardInterrupt\u001b[0m                         Traceback (most recent call last)",
      "\u001b[1;32m<ipython-input-14-2c8058474c33>\u001b[0m in \u001b[0;36m<module>\u001b[1;34m\u001b[0m\n\u001b[0;32m      5\u001b[0m \u001b[0mearly_stop\u001b[0m \u001b[1;33m=\u001b[0m \u001b[0mkeras\u001b[0m\u001b[1;33m.\u001b[0m\u001b[0mcallbacks\u001b[0m\u001b[1;33m.\u001b[0m\u001b[0mEarlyStopping\u001b[0m\u001b[1;33m(\u001b[0m\u001b[0mmonitor\u001b[0m\u001b[1;33m=\u001b[0m\u001b[1;34m'loss'\u001b[0m\u001b[1;33m,\u001b[0m \u001b[0mpatience\u001b[0m\u001b[1;33m=\u001b[0m\u001b[1;36m10\u001b[0m\u001b[1;33m)\u001b[0m\u001b[1;33m\u001b[0m\u001b[1;33m\u001b[0m\u001b[0m\n\u001b[0;32m      6\u001b[0m \u001b[1;33m\u001b[0m\u001b[0m\n\u001b[1;32m----> 7\u001b[1;33m \u001b[0mhistory\u001b[0m \u001b[1;33m=\u001b[0m \u001b[0mmodel\u001b[0m\u001b[1;33m.\u001b[0m\u001b[0mfit\u001b[0m\u001b[1;33m(\u001b[0m\u001b[0mtrain_data\u001b[0m\u001b[1;33m,\u001b[0m \u001b[0mtrain_labels\u001b[0m\u001b[1;33m,\u001b[0m \u001b[0mepochs\u001b[0m\u001b[1;33m=\u001b[0m\u001b[1;36m250\u001b[0m\u001b[1;33m,\u001b[0m \u001b[0mbatch_size\u001b[0m\u001b[1;33m=\u001b[0m\u001b[1;36m32\u001b[0m\u001b[1;33m,\u001b[0m \u001b[0mverbose\u001b[0m\u001b[1;33m=\u001b[0m\u001b[1;36m1\u001b[0m\u001b[1;33m,\u001b[0m \u001b[0mcallbacks\u001b[0m\u001b[1;33m=\u001b[0m\u001b[1;33m[\u001b[0m\u001b[0mearly_stop\u001b[0m\u001b[1;33m]\u001b[0m\u001b[1;33m)\u001b[0m\u001b[1;33m\u001b[0m\u001b[1;33m\u001b[0m\u001b[0m\n\u001b[0m\u001b[0;32m      8\u001b[0m \u001b[0mtest_predic\u001b[0m \u001b[1;33m=\u001b[0m \u001b[0mmodel\u001b[0m\u001b[1;33m.\u001b[0m\u001b[0mpredict\u001b[0m\u001b[1;33m(\u001b[0m\u001b[0mtest_data\u001b[0m\u001b[1;33m)\u001b[0m\u001b[1;33m\u001b[0m\u001b[1;33m\u001b[0m\u001b[0m\n\u001b[0;32m      9\u001b[0m \u001b[0mtrain_predic\u001b[0m \u001b[1;33m=\u001b[0m \u001b[0mmodel\u001b[0m\u001b[1;33m.\u001b[0m\u001b[0mpredict\u001b[0m\u001b[1;33m(\u001b[0m\u001b[0mtrain_data\u001b[0m\u001b[1;33m)\u001b[0m\u001b[1;33m\u001b[0m\u001b[1;33m\u001b[0m\u001b[0m\n",
      "\u001b[1;32m~\\Anaconda3\\envs\\Aion\\lib\\site-packages\\tensorflow\\python\\keras\\engine\\training.py\u001b[0m in \u001b[0;36mfit\u001b[1;34m(self, x, y, batch_size, epochs, verbose, callbacks, validation_split, validation_data, shuffle, class_weight, sample_weight, initial_epoch, steps_per_epoch, validation_steps, max_queue_size, workers, use_multiprocessing, **kwargs)\u001b[0m\n\u001b[0;32m    878\u001b[0m           \u001b[0minitial_epoch\u001b[0m\u001b[1;33m=\u001b[0m\u001b[0minitial_epoch\u001b[0m\u001b[1;33m,\u001b[0m\u001b[1;33m\u001b[0m\u001b[1;33m\u001b[0m\u001b[0m\n\u001b[0;32m    879\u001b[0m           \u001b[0msteps_per_epoch\u001b[0m\u001b[1;33m=\u001b[0m\u001b[0msteps_per_epoch\u001b[0m\u001b[1;33m,\u001b[0m\u001b[1;33m\u001b[0m\u001b[1;33m\u001b[0m\u001b[0m\n\u001b[1;32m--> 880\u001b[1;33m           validation_steps=validation_steps)\n\u001b[0m\u001b[0;32m    881\u001b[0m \u001b[1;33m\u001b[0m\u001b[0m\n\u001b[0;32m    882\u001b[0m   def evaluate(self,\n",
      "\u001b[1;32m~\\Anaconda3\\envs\\Aion\\lib\\site-packages\\tensorflow\\python\\keras\\engine\\training_arrays.py\u001b[0m in \u001b[0;36mmodel_iteration\u001b[1;34m(model, inputs, targets, sample_weights, batch_size, epochs, verbose, callbacks, val_inputs, val_targets, val_sample_weights, shuffle, initial_epoch, steps_per_epoch, validation_steps, mode, validation_in_fit, **kwargs)\u001b[0m\n\u001b[0;32m    327\u001b[0m \u001b[1;33m\u001b[0m\u001b[0m\n\u001b[0;32m    328\u001b[0m         \u001b[1;31m# Get outputs.\u001b[0m\u001b[1;33m\u001b[0m\u001b[1;33m\u001b[0m\u001b[1;33m\u001b[0m\u001b[0m\n\u001b[1;32m--> 329\u001b[1;33m         \u001b[0mbatch_outs\u001b[0m \u001b[1;33m=\u001b[0m \u001b[0mf\u001b[0m\u001b[1;33m(\u001b[0m\u001b[0mins_batch\u001b[0m\u001b[1;33m)\u001b[0m\u001b[1;33m\u001b[0m\u001b[1;33m\u001b[0m\u001b[0m\n\u001b[0m\u001b[0;32m    330\u001b[0m         \u001b[1;32mif\u001b[0m \u001b[1;32mnot\u001b[0m \u001b[0misinstance\u001b[0m\u001b[1;33m(\u001b[0m\u001b[0mbatch_outs\u001b[0m\u001b[1;33m,\u001b[0m \u001b[0mlist\u001b[0m\u001b[1;33m)\u001b[0m\u001b[1;33m:\u001b[0m\u001b[1;33m\u001b[0m\u001b[1;33m\u001b[0m\u001b[0m\n\u001b[0;32m    331\u001b[0m           \u001b[0mbatch_outs\u001b[0m \u001b[1;33m=\u001b[0m \u001b[1;33m[\u001b[0m\u001b[0mbatch_outs\u001b[0m\u001b[1;33m]\u001b[0m\u001b[1;33m\u001b[0m\u001b[1;33m\u001b[0m\u001b[0m\n",
      "\u001b[1;32m~\\Anaconda3\\envs\\Aion\\lib\\site-packages\\tensorflow\\python\\keras\\backend.py\u001b[0m in \u001b[0;36m__call__\u001b[1;34m(self, inputs)\u001b[0m\n\u001b[0;32m   3059\u001b[0m         \u001b[0mtensor_type\u001b[0m \u001b[1;33m=\u001b[0m \u001b[0mdtypes_module\u001b[0m\u001b[1;33m.\u001b[0m\u001b[0mas_dtype\u001b[0m\u001b[1;33m(\u001b[0m\u001b[0mtensor\u001b[0m\u001b[1;33m.\u001b[0m\u001b[0mdtype\u001b[0m\u001b[1;33m)\u001b[0m\u001b[1;33m\u001b[0m\u001b[1;33m\u001b[0m\u001b[0m\n\u001b[0;32m   3060\u001b[0m         array_vals.append(np.asarray(value,\n\u001b[1;32m-> 3061\u001b[1;33m                                      dtype=tensor_type.as_numpy_dtype))\n\u001b[0m\u001b[0;32m   3062\u001b[0m \u001b[1;33m\u001b[0m\u001b[0m\n\u001b[0;32m   3063\u001b[0m     \u001b[1;32mif\u001b[0m \u001b[0mself\u001b[0m\u001b[1;33m.\u001b[0m\u001b[0mfeed_dict\u001b[0m\u001b[1;33m:\u001b[0m\u001b[1;33m\u001b[0m\u001b[1;33m\u001b[0m\u001b[0m\n",
      "\u001b[1;32m~\\Anaconda3\\envs\\Aion\\lib\\site-packages\\numpy\\core\\numeric.py\u001b[0m in \u001b[0;36masarray\u001b[1;34m(a, dtype, order)\u001b[0m\n\u001b[0;32m    536\u001b[0m \u001b[1;33m\u001b[0m\u001b[0m\n\u001b[0;32m    537\u001b[0m     \"\"\"\n\u001b[1;32m--> 538\u001b[1;33m     \u001b[1;32mreturn\u001b[0m \u001b[0marray\u001b[0m\u001b[1;33m(\u001b[0m\u001b[0ma\u001b[0m\u001b[1;33m,\u001b[0m \u001b[0mdtype\u001b[0m\u001b[1;33m,\u001b[0m \u001b[0mcopy\u001b[0m\u001b[1;33m=\u001b[0m\u001b[1;32mFalse\u001b[0m\u001b[1;33m,\u001b[0m \u001b[0morder\u001b[0m\u001b[1;33m=\u001b[0m\u001b[0morder\u001b[0m\u001b[1;33m)\u001b[0m\u001b[1;33m\u001b[0m\u001b[1;33m\u001b[0m\u001b[0m\n\u001b[0m\u001b[0;32m    539\u001b[0m \u001b[1;33m\u001b[0m\u001b[0m\n\u001b[0;32m    540\u001b[0m \u001b[1;33m\u001b[0m\u001b[0m\n",
      "\u001b[1;31mKeyboardInterrupt\u001b[0m: "
     ]
    }
   ],
   "source": [
    "train_data = train_data.reshape(train_data.shape[0], train_data.shape[1], train_data.shape[2], 1)\n",
    "test_data = test_data.reshape(test_data.shape[0], test_data.shape[1], test_data.shape[2], 1)\n",
    "\n",
    "# The patience parameter is the amount of epochs to check for improvement\n",
    "early_stop = keras.callbacks.EarlyStopping(monitor='loss', patience=10)\n",
    "\n",
    "history = model.fit(train_data, train_labels, validation_data=(test_data, test_lables), epochs=250, batch_size=32, verbose=1, callbacks=[early_stop])\n",
    "test_predic = model.predict(test_data)\n",
    "train_predic = model.predict(train_data)\n",
    "\n",
    "if not os.path.exists(savedir):\n",
    "    os.makedirs(savedir)\n",
    "\n",
    "model.save(savedir + 'model.h5')\n",
    "\n",
    "# sess.graph contains the graph definition; that enables the Graph Visualizer.\n",
    "\n",
    "file_writer = tf.summary.FileWriter(savedir + '/logs/', sess.graph)"
   ]
  },
  {
   "cell_type": "markdown",
   "metadata": {},
   "source": [
    "### Examine Results"
   ]
  },
  {
   "cell_type": "code",
   "execution_count": 61,
   "metadata": {
    "ExecuteTime": {
     "end_time": "2019-04-30T20:39:34.738420Z",
     "start_time": "2019-04-30T20:39:33.753979Z"
    }
   },
   "outputs": [
    {
     "data": {
      "image/png": "[encoded data removed]",
      "text/plain": [
       "<Figure size 432x288 with 1 Axes>"
      ]
     },
     "metadata": {
      "needs_background": "light"
     },
     "output_type": "display_data"
    }
   ],
   "source": [
    "def plot_history(history):\n",
    "    hist = pd.DataFrame(history.history)\n",
    "    hist['epoch'] = history.epoch\n",
    "\n",
    "    plt.figure()\n",
    "    plt.xlabel('Epoch')\n",
    "    plt.ylabel('Mean Abs Error')\n",
    "    plt.plot(hist['epoch'], hist['mean_absolute_error'],\n",
    "           label='Train Error')\n",
    "#     plt.plot(hist['epoch'], hist['val_mean_absolute_error'],\n",
    "#            label = 'Val Error')\n",
    "#     plt.ylim([0,5])\n",
    "#     plt.legend()\n",
    "    plt.savefig(savedir + \"History.png\", dpi = 600, bbox_inches='tight')\n",
    "    plt.show()\n",
    "\n",
    "\n",
    "plot_history(history)"
   ]
  },
  {
   "cell_type": "code",
   "execution_count": 62,
   "metadata": {
    "ExecuteTime": {
     "end_time": "2019-04-30T20:39:37.270442Z",
     "start_time": "2019-04-30T20:39:34.738420Z"
    }
   },
   "outputs": [
    {
     "data": {
      "image/png": "[encoded data removed]",
      "text/plain": [
       "<Figure size 432x288 with 1 Axes>"
      ]
     },
     "metadata": {
      "needs_background": "light"
     },
     "output_type": "display_data"
    },
    {
     "data": {
      "image/png": "[encoded data removed]",
      "text/plain": [
       "<Figure size 432x288 with 1 Axes>"
      ]
     },
     "metadata": {
      "needs_background": "light"
     },
     "output_type": "display_data"
    }
   ],
   "source": [
    "# Score and visualize predictions\n",
    "from scipy.stats import pearsonr\n",
    "\n",
    "train_times = train_labels[:,0]\n",
    "train_pred_times = train_predic[:,0]\n",
    "\n",
    "train_shear = train_labels[:,1]\n",
    "train_pred_shear = train_predic[:,1]\n",
    "\n",
    "test_times = test_labels[:,0]\n",
    "test_pred_times = test_predic[:,0]\n",
    "\n",
    "test_shear = test_labels[:,1]\n",
    "test_pred_shear = test_predic[:,1]\n",
    "\n",
    "plt.figure()\n",
    "plt.scatter(test_times,test_pred_times, marker = \".\", color = 'k', alpha = .1)\n",
    "plt.scatter(train_times, train_pred_times, marker = '.', color = 'b', alpha = .1)\n",
    "plt.plot([0, 10], [0, 10], '-r')\n",
    "plt.title('R = '+str(np.round(pearsonr(test_times, test_pred_times)[0], 3)))\n",
    "plt.xlim(0,8.5)\n",
    "plt.ylim(0,8.5)\n",
    "plt.xlabel('Actual Age [ln(sec)]')\n",
    "plt.ylabel('Predicted Age [ln(sec)]')\n",
    "plt.savefig(savedir + \"Age.png\", dpi = 600, bbox_inches='tight')\n",
    "plt.show()\n",
    "\n",
    "plt.figure()\n",
    "plt.scatter(test_shear,test_pred_shear, marker = \".\", color = 'k', alpha = .1)\n",
    "plt.scatter(train_shear, train_pred_shear, marker = '.', color = 'b', alpha = .1)\n",
    "plt.title('R = '+str(np.round(pearsonr(test_shear, test_pred_shear)[0], 3)))\n",
    "plt.plot([0, 100], [0, 100], '-r')\n",
    "plt.xlim(0,50)\n",
    "plt.ylim(0,50)\n",
    "plt.xlabel('Actual Shear [N]')\n",
    "plt.ylabel('Predicted Shear [N]')\n",
    "plt.savefig(savedir + \"Shear.png\", dpi = 600, bbox_inches='tight')\n",
    "plt.show()"
   ]
  },
  {
   "cell_type": "code",
   "execution_count": null,
   "metadata": {
    "hidden": true
   },
   "outputs": [],
   "source": []
  }
 ],
 "metadata": {
  "kernelspec": {
   "display_name": "Python 3",
   "language": "python",
   "name": "python3"
  },
  "language_info": {
   "codemirror_mode": {
    "name": "ipython",
    "version": 3
   },
   "file_extension": ".py",
   "mimetype": "text/x-python",
   "name": "python",
   "nbconvert_exporter": "python",
   "pygments_lexer": "ipython3",
   "version": "3.6.8"
  }
 },
 "nbformat": 4,
 "nbformat_minor": 2
}
