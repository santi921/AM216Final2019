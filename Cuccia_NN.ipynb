{
 "cells": [
  {
   "cell_type": "markdown",
   "metadata": {
    "heading_collapsed": true
   },
   "source": [
    "### Import Packages"
   ]
  },
  {
   "cell_type": "code",
   "execution_count": 1,
   "metadata": {
    "ExecuteTime": {
     "end_time": "2019-04-27T01:14:36.155198Z",
     "start_time": "2019-04-27T01:14:34.029077Z"
    },
    "hidden": true
   },
   "outputs": [],
   "source": [
    "from __future__ import absolute_import, division, print_function\n",
    "import matplotlib.pyplot as plt\n",
    "import numpy as np\n",
    "\n",
    "import pandas as pd\n",
    "import os\n",
    "import re\n",
    "import scipy.io\n",
    "\n",
    "# TensorFlow and tf.keras\n",
    "import tensorflow as tf\n",
    "from tensorflow import keras\n",
    "import skilearn.cross_validation as spl"
   ]
  },
  {
   "cell_type": "markdown",
   "metadata": {
    "heading_collapsed": true
   },
   "source": [
    "### Define Functions"
   ]
  },
  {
   "cell_type": "code",
   "execution_count": 2,
   "metadata": {
    "ExecuteTime": {
     "end_time": "2019-04-27T01:14:36.168199Z",
     "start_time": "2019-04-27T01:14:36.157198Z"
    },
    "hidden": true
   },
   "outputs": [],
   "source": [
    "def blockshaped(arr, size):\n",
    "    \"\"\"\n",
    "    Breaks an array into smaller pieces.  Returns an array of shape (n, nrows, ncols) where\n",
    "    n * size * size = arr.size\n",
    "\n",
    "    If arr is a 2D array, the returned array should look like n subblocks with\n",
    "    each subblock preserving the \"physical\" layout of arr.\n",
    "    \n",
    "    The returned array is indexed starting in the top left of the image and moving across to the right\n",
    "    until hitting the edge.  At which point it continues one line down.\n",
    "    \n",
    "    Inputs\n",
    "    arr: 2D Array to be split\n",
    "    size: Size that split 2D arrays should be\n",
    "    \"\"\"\n",
    "    h, w = arr.shape\n",
    "    return (arr.reshape(h//size, size, -1, size)\n",
    "               .swapaxes(1,2)\n",
    "               .reshape(-1, size, size))\n",
    "\n",
    "def crop_center(img,crop):\n",
    "    \"\"\"\n",
    "    Crops an image into a square from the center outwards.\n",
    "    \n",
    "    Inputs\n",
    "    img: 2D Array to be cropped\n",
    "    crop: size to crop image to\n",
    "    \"\"\"\n",
    "    # Obtain the shape of the image\n",
    "    x, y, c = img.shape\n",
    "    \n",
    "    # The starting coordinates of the new image\n",
    "    startx = x//2 - crop//2\n",
    "    starty = y//2 - crop//2    \n",
    "    return img[starty : starty + crop, startx : startx + crop, :]"
   ]
  },
  {
   "cell_type": "markdown",
   "metadata": {
    "heading_collapsed": true
   },
   "source": [
    "### Import Data"
   ]
  },
  {
   "cell_type": "code",
   "execution_count": 15,
   "metadata": {
    "ExecuteTime": {
     "end_time": "2019-04-27T01:26:40.302617Z",
     "start_time": "2019-04-27T01:26:36.698411Z"
    },
    "hidden": true
   },
   "outputs": [
    {
     "name": "stdout",
     "output_type": "stream",
     "text": [
      "ML_block1_Exp201.mat\r"
     ]
    }
   ],
   "source": [
    "# Optimized Data Extractor\n",
    "crop_size = 1000\n",
    "split_size = 100\n",
    "\n",
    "# Define directory with matlab files\n",
    "# direc = 'D:/MLdata/18-01-09d-Exp/Extract Data/'\n",
    "\n",
    "direc  = 'D:/Nicholas_ML/18-01-09d-Exp/Extract Data/'\n",
    "\n",
    "# Extract file names\n",
    "files = [filename for filename in os.listdir(direc)][:2]\n",
    "\n",
    "# Intialize Lists\n",
    "length_index = []\n",
    "split_images = []\n",
    "Fn_label = []\n",
    "Fs_label = []\n",
    "T_label = []\n",
    "log_T_label = []\n",
    "block_label = []\n",
    "exp_label = []\n",
    "\n",
    "for file in files:\n",
    "    print(file, end=\"\\r\")\n",
    "    # Import Matlab data\n",
    "    data = scipy.io.loadmat(direc + file)\n",
    "\n",
    "    # Get data values from Matlab file\n",
    "    Fn = data['Fn'].flatten()\n",
    "    Fs = data['Fs'].flatten()\n",
    "    T = data['T'].flatten()\n",
    "    if (len(Fn) == len(Fs) == len(T)):\n",
    "        length_index.append(len(Fn))\n",
    "    else:\n",
    "        print('ERROR: INCONSISTENT SIZE FOR FILE:', file )\n",
    "        break\n",
    "        \n",
    "    images = data['images'].astype(np.float)\n",
    "\n",
    "    # Pull block and experiment values from filename\n",
    "    block = np.repeat(int(re.search('block(.*)_', file).group(1)), len(T))\n",
    "    exp = np.repeat(int(re.search('Exp(.*).mat', file).group(1)), len(T))\n",
    "    \n",
    "    # Crop images to appropriate size\n",
    "    cropped_images = crop_center(images, crop_size)\n",
    "\n",
    "    for i in range(cropped_images.shape[2]):\n",
    "        #Break images into smaller pieces\n",
    "        #Divide by 255 to normalize data\n",
    "        temp = blockshaped(cropped_images[:,:,i], split_size)/255.0\n",
    "        split_images.extend(temp)\n",
    "    \n",
    "    # Append data to lists\n",
    "    # Adjust labels to account for the splitting of images\n",
    "    Fn_label.extend(np.repeat(Fn, (crop_size/split_size)**2))\n",
    "    Fs_label.extend(np.repeat(Fs, (crop_size/split_size)**2))\n",
    "    T_label.extend(np.repeat(T, (crop_size/split_size)**2))\n",
    "    log_T_label.extend(np.repeat(np.log(T), (crop_size/split_size)**2))\n",
    "    block_label.extend(np.repeat(block, (crop_size/split_size)**2)) \n",
    "    exp_label.extend(np.repeat(exp, (crop_size/split_size)**2))\n",
    "    \n",
    "# Convert final results into arrays\n",
    "length_index = np.array(length_index)\n",
    "split_images = np.array(split_images)\n",
    "Fn_label = np.array(Fn_label)\n",
    "Fs_label = np.array(Fs_label)\n",
    "T_label = np.array(T_label)\n",
    "log_T_label = np.array(log_T_label)\n",
    "block_label = np.array(block_label) \n",
    "exp_label = np.array(exp_label)"
   ]
  },
  {
   "cell_type": "markdown",
   "metadata": {
    "heading_collapsed": true
   },
   "source": [
    "### Assemble Data"
   ]
  },
  {
   "cell_type": "code",
   "execution_count": 5,
   "metadata": {
    "ExecuteTime": {
     "end_time": "2019-04-26T11:52:33.565480Z",
     "start_time": "2019-04-26T11:51:35.130932Z"
    },
    "hidden": true
   },
   "outputs": [],
   "source": [
    "# Assemble targets, shuffle data, and assign training and testing sets\n",
    "# Note that I use the log_time values currently.\n",
    "# This makes time appear linearly spaced.  Perhaps helps CNN converge faster\n",
    "# targets = np.vstack((log_T_label,Fn_label,Fs_label)).T\n",
    "targets = np.vstack((T_label,Fs_label)).T\n",
    "\n",
    "\n",
    "# Obtain indicies for the items\n",
    "ind = np.arange(split_images.shape[0])\n",
    "\n",
    "# I want to test if the Nueral Network works well on images it has NEVER\n",
    "# seen before.  As such, I am careful to remove a specifc square from\n",
    "# ALL the images for testing.  That way we can make sure it isn't just learning\n",
    "# features of each square in the image.\n",
    "\n",
    "\n",
    "\n",
    "# Shuffle the indices\n",
    "np.random.shuffle(ind)\n",
    "\n",
    "# Re-arrange the data using the shuffled indices\n",
    "data = split_images[ind,:,:]\n",
    "targets = targets[ind,:]\n",
    "\n",
    "# Split train and test\n",
    "# Set to use 80% of data for training\n",
    "train_size = round(0.8*data.shape[0])\n",
    "\n",
    "# Seperate Data\n",
    "train_data = data[:train_size,:,:]\n",
    "test_data = data[train_size:,:,:]\n",
    "\n",
    "#Seperate Labels\n",
    "train_labels = targets[:train_size,:]\n",
    "test_labels = targets[train_size:,:]"
   ]
  },
  {
   "cell_type": "markdown",
   "metadata": {
    "heading_collapsed": true
   },
   "source": [
    "### Build CNN"
   ]
  },
  {
   "cell_type": "code",
   "execution_count": 7,
   "metadata": {
    "ExecuteTime": {
     "end_time": "2019-04-26T11:52:40.100781Z",
     "start_time": "2019-04-26T11:52:40.057015Z"
    },
    "hidden": true
   },
   "outputs": [],
   "source": [
    "def build_cnn():\n",
    "    model = keras.Sequential()\n",
    "    model.add(keras.layers.Conv2D(32, kernel_size=(8, 8), strides=(1, 1),\n",
    "                     activation='tanh',\n",
    "                     input_shape=(100,100,1)))\n",
    "    model.add(keras.layers.MaxPooling2D(pool_size=(2, 2), strides=(2, 2)))\n",
    "    model.add(keras.layers.Conv2D(64, (8, 8), activation='tanh'))\n",
    "    model.add(keras.layers.MaxPooling2D(pool_size=(2, 2)))\n",
    "    model.add(keras.layers.Flatten())\n",
    "    model.add(keras.layers.Dense(128, activation='relu'))\n",
    "    model.add(keras.layers.Dense(2))\n",
    "    \n",
    "    optimizer = tf.keras.optimizers.RMSprop(0.001)\n",
    "\n",
    "    model.compile(loss='mean_squared_error',\n",
    "                optimizer=optimizer,\n",
    "                metrics=['mean_absolute_error', 'mean_squared_error'])\n",
    "    \n",
    "    return (model)"
   ]
  },
  {
   "cell_type": "markdown",
   "metadata": {
    "heading_collapsed": true
   },
   "source": [
    "### Train CNN"
   ]
  },
  {
   "cell_type": "code",
   "execution_count": 8,
   "metadata": {
    "ExecuteTime": {
     "end_time": "2019-04-26T11:52:41.804166Z",
     "start_time": "2019-04-26T11:52:40.685137Z"
    },
    "hidden": true
   },
   "outputs": [
    {
     "name": "stdout",
     "output_type": "stream",
     "text": [
      "WARNING:tensorflow:From C:\\ProgramData\\Anaconda3\\envs\\Aion\\lib\\site-packages\\tensorflow\\python\\ops\\resource_variable_ops.py:435: colocate_with (from tensorflow.python.framework.ops) is deprecated and will be removed in a future version.\n",
      "Instructions for updating:\n",
      "Colocations handled automatically by placer.\n",
      "WARNING:tensorflow:From C:\\ProgramData\\Anaconda3\\envs\\Aion\\lib\\site-packages\\tensorflow\\python\\keras\\utils\\losses_utils.py:170: to_float (from tensorflow.python.ops.math_ops) is deprecated and will be removed in a future version.\n",
      "Instructions for updating:\n",
      "Use tf.cast instead.\n"
     ]
    }
   ],
   "source": [
    "model = build_cnn()"
   ]
  },
  {
   "cell_type": "code",
   "execution_count": 9,
   "metadata": {
    "ExecuteTime": {
     "end_time": "2019-04-26T12:27:14.824265Z",
     "start_time": "2019-04-26T11:52:52.090418Z"
    },
    "hidden": true,
    "scrolled": false
   },
   "outputs": [
    {
     "name": "stdout",
     "output_type": "stream",
     "text": [
      "WARNING:tensorflow:From C:\\ProgramData\\Anaconda3\\envs\\Aion\\lib\\site-packages\\tensorflow\\python\\ops\\math_ops.py:3066: to_int32 (from tensorflow.python.ops.math_ops) is deprecated and will be removed in a future version.\n",
      "Instructions for updating:\n",
      "Use tf.cast instead.\n",
      "Epoch 1/50\n",
      "40960/40960 [==============================] - 33s 815us/sample - loss: 56867.8178 - mean_absolute_error: 107.0482 - mean_squared_error: 56867.7930\n",
      "Epoch 2/50\n",
      "40960/40960 [==============================] - 33s 797us/sample - loss: 55840.4991 - mean_absolute_error: 104.2564 - mean_squared_error: 55840.4453\n",
      "Epoch 3/50\n",
      "40960/40960 [==============================] - 31s 751us/sample - loss: 55209.6743 - mean_absolute_error: 103.0243 - mean_squared_error: 55209.6680\n",
      "Epoch 4/50\n",
      "40960/40960 [==============================] - 31s 760us/sample - loss: 54743.2755 - mean_absolute_error: 102.2757 - mean_squared_error: 54743.3008\n",
      "Epoch 5/50\n",
      "40960/40960 [==============================] - 34s 837us/sample - loss: 54338.8730 - mean_absolute_error: 101.5658 - mean_squared_error: 54338.8672\n",
      "Epoch 6/50\n",
      "40960/40960 [==============================] - 34s 820us/sample - loss: 53855.6774 - mean_absolute_error: 101.2077 - mean_squared_error: 53855.6875\n",
      "Epoch 7/50\n",
      "40960/40960 [==============================] - 34s 836us/sample - loss: 53237.5895 - mean_absolute_error: 100.5375 - mean_squared_error: 53237.5938\n",
      "Epoch 8/50\n",
      "40960/40960 [==============================] - 34s 829us/sample - loss: 52532.0606 - mean_absolute_error: 99.6440 - mean_squared_error: 52532.0312\n",
      "Epoch 9/50\n",
      "40960/40960 [==============================] - 31s 748us/sample - loss: 51543.5074 - mean_absolute_error: 98.6494 - mean_squared_error: 51543.5312\n",
      "Epoch 10/50\n",
      "40960/40960 [==============================] - 32s 783us/sample - loss: 50240.0961 - mean_absolute_error: 97.2958 - mean_squared_error: 50240.1016\n",
      "Epoch 11/50\n",
      "40960/40960 [==============================] - 31s 768us/sample - loss: 48507.6497 - mean_absolute_error: 95.5689 - mean_squared_error: 48507.6836\n",
      "Epoch 12/50\n",
      "40960/40960 [==============================] - 33s 810us/sample - loss: 46729.0633 - mean_absolute_error: 94.0711 - mean_squared_error: 46729.0742\n",
      "Epoch 13/50\n",
      "40960/40960 [==============================] - 33s 816us/sample - loss: 44591.1550 - mean_absolute_error: 92.3582 - mean_squared_error: 44591.1445\n",
      "Epoch 14/50\n",
      "40960/40960 [==============================] - 33s 814us/sample - loss: 42776.3977 - mean_absolute_error: 90.9127 - mean_squared_error: 42776.3516\n",
      "Epoch 15/50\n",
      "40960/40960 [==============================] - 31s 765us/sample - loss: 40738.3296 - mean_absolute_error: 89.2417 - mean_squared_error: 40738.3594\n",
      "Epoch 16/50\n",
      "40960/40960 [==============================] - 32s 774us/sample - loss: 39156.9358 - mean_absolute_error: 87.9809 - mean_squared_error: 39156.9141\n",
      "Epoch 17/50\n",
      "40960/40960 [==============================] - 31s 763us/sample - loss: 37226.0728 - mean_absolute_error: 86.3877 - mean_squared_error: 37226.0938\n",
      "Epoch 18/50\n",
      "40960/40960 [==============================] - 33s 798us/sample - loss: 36002.6762 - mean_absolute_error: 85.0548 - mean_squared_error: 36002.6953\n",
      "Epoch 19/50\n",
      "40960/40960 [==============================] - 32s 773us/sample - loss: 34570.1808 - mean_absolute_error: 83.8937 - mean_squared_error: 34570.2109\n",
      "Epoch 20/50\n",
      "40960/40960 [==============================] - 34s 829us/sample - loss: 33310.2134 - mean_absolute_error: 82.7453 - mean_squared_error: 33310.2305\n",
      "Epoch 21/50\n",
      "40960/40960 [==============================] - 33s 804us/sample - loss: 31980.4169 - mean_absolute_error: 81.5492 - mean_squared_error: 31980.4160\n",
      "Epoch 22/50\n",
      "40960/40960 [==============================] - 33s 800us/sample - loss: 31134.4153 - mean_absolute_error: 80.4817 - mean_squared_error: 31134.3555\n",
      "Epoch 23/50\n",
      "40960/40960 [==============================] - 33s 803us/sample - loss: 30117.9001 - mean_absolute_error: 79.6629 - mean_squared_error: 30117.8867\n",
      "Epoch 24/50\n",
      "40960/40960 [==============================] - 33s 797us/sample - loss: 29213.9408 - mean_absolute_error: 78.6981 - mean_squared_error: 29213.9277\n",
      "Epoch 25/50\n",
      "40960/40960 [==============================] - 31s 753us/sample - loss: 28330.7677 - mean_absolute_error: 77.7104 - mean_squared_error: 28330.7461\n",
      "Epoch 26/50\n",
      "40960/40960 [==============================] - 31s 755us/sample - loss: 27432.2354 - mean_absolute_error: 76.6675 - mean_squared_error: 27432.2285\n",
      "Epoch 27/50\n",
      "40960/40960 [==============================] - 33s 810us/sample - loss: 26587.3637 - mean_absolute_error: 75.5407 - mean_squared_error: 26587.3711\n",
      "Epoch 28/50\n",
      "40960/40960 [==============================] - 30s 739us/sample - loss: 25912.7259 - mean_absolute_error: 74.9716 - mean_squared_error: 25912.7402\n",
      "Epoch 29/50\n",
      "40960/40960 [==============================] - 31s 756us/sample - loss: 25088.0474 - mean_absolute_error: 74.0045 - mean_squared_error: 25088.0449\n",
      "Epoch 30/50\n",
      "40960/40960 [==============================] - 33s 796us/sample - loss: 24379.5420 - mean_absolute_error: 73.0924 - mean_squared_error: 24379.5566\n",
      "Epoch 31/50\n",
      "40960/40960 [==============================] - 33s 796us/sample - loss: 23858.5703 - mean_absolute_error: 72.4640 - mean_squared_error: 23858.5586\n",
      "Epoch 32/50\n",
      "40960/40960 [==============================] - 29s 706us/sample - loss: 22987.2000 - mean_absolute_error: 71.4086 - mean_squared_error: 22987.1836\n",
      "Epoch 33/50\n",
      "40960/40960 [==============================] - 31s 754us/sample - loss: 22563.1793 - mean_absolute_error: 70.5702 - mean_squared_error: 22563.1777\n",
      "Epoch 34/50\n",
      "40960/40960 [==============================] - 31s 745us/sample - loss: 21825.1477 - mean_absolute_error: 69.4055 - mean_squared_error: 21825.1484\n",
      "Epoch 35/50\n",
      "40960/40960 [==============================] - 32s 772us/sample - loss: 21223.3181 - mean_absolute_error: 68.4691 - mean_squared_error: 21223.3086\n",
      "Epoch 36/50\n",
      "40960/40960 [==============================] - 33s 797us/sample - loss: 20591.3034 - mean_absolute_error: 68.2453 - mean_squared_error: 20591.3027\n",
      "Epoch 37/50\n",
      "40960/40960 [==============================] - 31s 762us/sample - loss: 20008.1228 - mean_absolute_error: 67.2031 - mean_squared_error: 20008.1250\n",
      "Epoch 38/50\n",
      "40960/40960 [==============================] - 32s 784us/sample - loss: 19555.6866 - mean_absolute_error: 66.5748 - mean_squared_error: 19555.6992\n",
      "Epoch 39/50\n",
      "40960/40960 [==============================] - 35s 851us/sample - loss: 19149.9096 - mean_absolute_error: 65.9030 - mean_squared_error: 19149.9023\n",
      "Epoch 40/50\n",
      "40960/40960 [==============================] - 35s 856us/sample - loss: 18581.7777 - mean_absolute_error: 65.0309 - mean_squared_error: 18581.7871\n",
      "Epoch 41/50\n",
      "40960/40960 [==============================] - 33s 811us/sample - loss: 18063.8363 - mean_absolute_error: 63.9917 - mean_squared_error: 18063.8457\n",
      "Epoch 42/50\n",
      "40960/40960 [==============================] - 33s 817us/sample - loss: 17515.1330 - mean_absolute_error: 63.2846 - mean_squared_error: 17515.1289\n",
      "Epoch 43/50\n",
      "40960/40960 [==============================] - 35s 859us/sample - loss: 17198.0892 - mean_absolute_error: 62.8127 - mean_squared_error: 17198.0977\n",
      "Epoch 44/50\n",
      "40960/40960 [==============================] - 35s 854us/sample - loss: 16656.1767 - mean_absolute_error: 62.1229 - mean_squared_error: 16656.1680\n",
      "Epoch 45/50\n",
      "40960/40960 [==============================] - 37s 897us/sample - loss: 16091.5221 - mean_absolute_error: 61.2005 - mean_squared_error: 16091.5205\n",
      "Epoch 46/50\n",
      "40960/40960 [==============================] - 34s 833us/sample - loss: 15826.7986 - mean_absolute_error: 60.7483 - mean_squared_error: 15826.8105\n",
      "Epoch 47/50\n",
      "40960/40960 [==============================] - 35s 849us/sample - loss: 15489.8972 - mean_absolute_error: 60.2392 - mean_squared_error: 15489.8936\n",
      "Epoch 48/50\n",
      "40960/40960 [==============================] - 31s 746us/sample - loss: 14809.8367 - mean_absolute_error: 59.2958 - mean_squared_error: 14809.8340\n",
      "Epoch 49/50\n",
      "40960/40960 [==============================] - 37s 906us/sample - loss: 14709.2640 - mean_absolute_error: 58.7871 - mean_squared_error: 14709.2607\n",
      "Epoch 50/50\n",
      "40960/40960 [==============================] - 35s 861us/sample - loss: 14234.0826 - mean_absolute_error: 57.8891 - mean_squared_error: 14234.0889\n"
     ]
    }
   ],
   "source": [
    "train_data = train_data.reshape(train_data.shape[0], train_data.shape[1], train_data.shape[2], 1)\n",
    "test_data = test_data.reshape(test_data.shape[0], test_data.shape[1], test_data.shape[2], 1)\n",
    "\n",
    "train_data_rand, test_data_rand, train_labels_rand, tf.test_labels_rand = spl.train_test_split(data, targets, test_size=0.25, random_state=0)\n",
    "\n",
    "\n",
    "model.fit(train_data, train_labels, epochs=5)\n",
    "predictions=model.predict(test_data)"
   ]
  },
  {
   "cell_type": "code",
   "execution_count": null,
   "metadata": {},
   "outputs": [],
   "source": [
    "model.save('test.h5')\n",
    "!ls\n"
   ]
  },
  {
   "cell_type": "code",
   "execution_count": null,
   "metadata": {},
   "outputs": [],
   "source": [
    "new_model = keras.models.load_model('test.h5')\n",
    "print(new_model)"
   ]
  },
  {
   "cell_type": "markdown",
   "metadata": {},
   "source": [
    "### Examine Results"
   ]
  },
  {
   "cell_type": "code",
   "execution_count": 10,
   "metadata": {
    "ExecuteTime": {
     "end_time": "2019-04-26T12:57:46.076304Z",
     "start_time": "2019-04-26T12:57:37.146055Z"
    }
   },
   "outputs": [
    {
     "data": {
      "image/png": "[encoded data removed]",
      "text/plain": [
       "<Figure size 432x288 with 1 Axes>"
      ]
     },
     "metadata": {
      "needs_background": "light"
     },
     "output_type": "display_data"
    },
    {
     "data": {
      "image/png": "[encoded data removed]",
      "text/plain": [
       "<Figure size 432x288 with 1 Axes>"
      ]
     },
     "metadata": {
      "needs_background": "light"
     },
     "output_type": "display_data"
    }
   ],
   "source": [
    "# Score and visualize predictions\n",
    "from scipy.stats import pearsonr\n",
    "\n",
    "actual_times = test_labels[:,0]\n",
    "predicted_times = predictions[:,0]\n",
    "\n",
    "# actual_normal = test_labels[:,1]\n",
    "# predicted_normal = predictions[:,1]\n",
    "\n",
    "actual_shear = test_labels[:,1]\n",
    "predicted_shear = predictions[:,1]\n",
    "\n",
    "plt.figure()\n",
    "plt.scatter(actual_times,predicted_times, marker = \".\", color = 'k')\n",
    "plt.plot([0, 10], [0, 10], '-r')\n",
    "plt.title('R = '+str(np.round(pearsonr(actual_times, predicted_times)[0], 3)))\n",
    "plt.xlim(0,8.5)\n",
    "plt.ylim(0,8.5)\n",
    "plt.xlabel('Actual Age [log(sec)]')\n",
    "plt.ylabel('Predicted Age [log(sec)]')\n",
    "plt.savefig(\"Age.png\", dpi = 1200, bbox_inches='tight')\n",
    "plt.show()\n",
    "\n",
    "# plt.figure()\n",
    "# plt.scatter(actual_normal,predicted_normal, marker = \".\", color = 'k')\n",
    "# plt.title('R = '+str(np.round(pearsonr(actual_normal, predicted_normal)[0], 3)))\n",
    "# plt.plot([80, 100], [80, 100], '-r')\n",
    "# plt.xlim(89.5,90.5)\n",
    "# plt.ylim(89.5,90.5)\n",
    "# plt.xlabel('Actual Normal [N]')\n",
    "# plt.ylabel('Predicted Normal [N]')\n",
    "# plt.savefig(\"Normal.png\", di = 1200, bbox_inches='tight')\n",
    "# plt.show()\n",
    "\n",
    "plt.figure()\n",
    "plt.scatter(actual_shear,predicted_shear, marker = \".\", color = 'k')\n",
    "plt.title('R = '+str(np.round(pearsonr(actual_shear, predicted_shear)[0], 3)))\n",
    "plt.plot([0, 100], [0, 100], '-r')\n",
    "plt.xlim(0,50)\n",
    "plt.ylim(0,50)\n",
    "plt.xlabel('Actual Shear [N]')\n",
    "plt.ylabel('Predicted Shear [N]')\n",
    "plt.savefig(\"Shear.png\", dpi = 1200, bbox_inches='tight')\n",
    "plt.show()"
   ]
  },
  {
   "cell_type": "code",
   "execution_count": null,
   "metadata": {},
   "outputs": [],
   "source": []
  }
 ],
 "metadata": {
  "kernelspec": {
   "display_name": "Python 3",
   "language": "python",
   "name": "python3"
  },
  "language_info": {
   "codemirror_mode": {
    "name": "ipython",
    "version": 3
   },
   "file_extension": ".py",
   "mimetype": "text/x-python",
   "name": "python",
   "nbconvert_exporter": "python",
   "pygments_lexer": "ipython3",
   "version": "3.5.5"
  }
 },
 "nbformat": 4,
 "nbformat_minor": 2
}
